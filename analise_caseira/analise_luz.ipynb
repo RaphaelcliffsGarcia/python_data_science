{
 "cells": [
  {
   "cell_type": "markdown",
   "id": "bbb4f3ff",
   "metadata": {},
   "source": [
    "## <font color=#F8F8FF> Light x Painel Solar\n",
    "---\n",
    "A Principal Teste sobre este desafio será Analisar a conta de luz de minha casa para ver se ocorreu redução por conta da implementação de luz solar.\n",
    "A luz solar foi posta em dez 2023\n",
    "\n",
    "\n"
   ]
  },
  {
   "cell_type": "code",
   "execution_count": 5,
   "id": "62d9f127",
   "metadata": {},
   "outputs": [],
   "source": [
    "import pandas as pd\n",
    "import numpy as np\n",
    "import matplotlib.pyplot as plt\n",
    "import seaborn as sns\n",
    "import plotly.express as px\n",
    "from sklearn.linear_model import LinearRegression"
   ]
  },
  {
   "cell_type": "code",
   "execution_count": 6,
   "id": "90d733c1",
   "metadata": {},
   "outputs": [],
   "source": [
    "df = pd.read_csv('./dados/gastos_luz.csv', sep=';')"
   ]
  },
  {
   "cell_type": "code",
   "execution_count": 7,
   "id": "33c87654",
   "metadata": {},
   "outputs": [
    {
     "data": {
      "text/html": [
       "<div>\n",
       "<style scoped>\n",
       "    .dataframe tbody tr th:only-of-type {\n",
       "        vertical-align: middle;\n",
       "    }\n",
       "\n",
       "    .dataframe tbody tr th {\n",
       "        vertical-align: top;\n",
       "    }\n",
       "\n",
       "    .dataframe thead th {\n",
       "        text-align: right;\n",
       "    }\n",
       "</style>\n",
       "<table border=\"1\" class=\"dataframe\">\n",
       "  <thead>\n",
       "    <tr style=\"text-align: right;\">\n",
       "      <th></th>\n",
       "      <th>Data</th>\n",
       "      <th>Valor</th>\n",
       "    </tr>\n",
       "  </thead>\n",
       "  <tbody>\n",
       "    <tr>\n",
       "      <th>0</th>\n",
       "      <td>01/01/2022</td>\n",
       "      <td>1.558,16</td>\n",
       "    </tr>\n",
       "    <tr>\n",
       "      <th>1</th>\n",
       "      <td>01/02/2022</td>\n",
       "      <td>2.278,44</td>\n",
       "    </tr>\n",
       "    <tr>\n",
       "      <th>2</th>\n",
       "      <td>01/03/2022</td>\n",
       "      <td>2.541,48</td>\n",
       "    </tr>\n",
       "    <tr>\n",
       "      <th>3</th>\n",
       "      <td>01/04/2022</td>\n",
       "      <td>2.410,81</td>\n",
       "    </tr>\n",
       "    <tr>\n",
       "      <th>4</th>\n",
       "      <td>01/05/2022</td>\n",
       "      <td>1.455,10</td>\n",
       "    </tr>\n",
       "  </tbody>\n",
       "</table>\n",
       "</div>"
      ],
      "text/plain": [
       "         Data      Valor \n",
       "0  01/01/2022   1.558,16 \n",
       "1  01/02/2022   2.278,44 \n",
       "2  01/03/2022   2.541,48 \n",
       "3  01/04/2022   2.410,81 \n",
       "4  01/05/2022   1.455,10 "
      ]
     },
     "execution_count": 7,
     "metadata": {},
     "output_type": "execute_result"
    }
   ],
   "source": [
    "df.head(5)"
   ]
  },
  {
   "cell_type": "code",
   "execution_count": 8,
   "id": "215c19fe",
   "metadata": {},
   "outputs": [
    {
     "name": "stdout",
     "output_type": "stream",
     "text": [
      "<class 'pandas.core.frame.DataFrame'>\n",
      "RangeIndex: 45 entries, 0 to 44\n",
      "Data columns (total 2 columns):\n",
      " #   Column   Non-Null Count  Dtype \n",
      "---  ------   --------------  ----- \n",
      " 0   Data     45 non-null     object\n",
      " 1    Valor   45 non-null     object\n",
      "dtypes: object(2)\n",
      "memory usage: 848.0+ bytes\n"
     ]
    }
   ],
   "source": [
    "df.info() #Terei que passar as datas para datetime e tambem os valores"
   ]
  },
  {
   "cell_type": "code",
   "execution_count": 9,
   "id": "e241bf99",
   "metadata": {},
   "outputs": [],
   "source": [
    "df['Data'] = pd.to_datetime(df['Data'], format='%d/%m/%Y')"
   ]
  },
  {
   "cell_type": "code",
   "execution_count": 10,
   "id": "43f7c14c",
   "metadata": {},
   "outputs": [
    {
     "name": "stdout",
     "output_type": "stream",
     "text": [
      "<class 'pandas.core.frame.DataFrame'>\n",
      "RangeIndex: 45 entries, 0 to 44\n",
      "Data columns (total 2 columns):\n",
      " #   Column   Non-Null Count  Dtype         \n",
      "---  ------   --------------  -----         \n",
      " 0   Data     45 non-null     datetime64[ns]\n",
      " 1    Valor   45 non-null     object        \n",
      "dtypes: datetime64[ns](1), object(1)\n",
      "memory usage: 848.0+ bytes\n"
     ]
    }
   ],
   "source": [
    "df.info() "
   ]
  },
  {
   "cell_type": "code",
   "execution_count": 11,
   "id": "319238e1",
   "metadata": {},
   "outputs": [
    {
     "name": "stdout",
     "output_type": "stream",
     "text": [
      "Index(['Data', ' Valor '], dtype='object')\n"
     ]
    }
   ],
   "source": [
    "print(df.columns)"
   ]
  },
  {
   "cell_type": "code",
   "execution_count": 12,
   "id": "ec8190eb",
   "metadata": {},
   "outputs": [],
   "source": [
    "df.columns = df.columns.str.strip() #Retirando o espaço na coluna Valor "
   ]
  },
  {
   "cell_type": "code",
   "execution_count": 13,
   "id": "7b07986a",
   "metadata": {},
   "outputs": [
    {
     "name": "stdout",
     "output_type": "stream",
     "text": [
      "Index(['Data', 'Valor'], dtype='object')\n"
     ]
    }
   ],
   "source": [
    "print(df.columns)"
   ]
  },
  {
   "cell_type": "code",
   "execution_count": 14,
   "id": "129ff445",
   "metadata": {},
   "outputs": [],
   "source": [
    "df['Valor'] = (\n",
    "    df['Valor']\n",
    "    .str.replace('.', '', regex=False)\n",
    "    .str.replace(',', '.', regex=False)\n",
    "    .astype(float)\n",
    ")"
   ]
  },
  {
   "cell_type": "code",
   "execution_count": 15,
   "id": "0c69e0d9",
   "metadata": {},
   "outputs": [
    {
     "name": "stdout",
     "output_type": "stream",
     "text": [
      "<class 'pandas.core.frame.DataFrame'>\n",
      "RangeIndex: 45 entries, 0 to 44\n",
      "Data columns (total 2 columns):\n",
      " #   Column  Non-Null Count  Dtype         \n",
      "---  ------  --------------  -----         \n",
      " 0   Data    45 non-null     datetime64[ns]\n",
      " 1   Valor   45 non-null     float64       \n",
      "dtypes: datetime64[ns](1), float64(1)\n",
      "memory usage: 848.0 bytes\n"
     ]
    }
   ],
   "source": [
    "df.info() #Agora temos os dados da forma perfeita"
   ]
  },
  {
   "cell_type": "code",
   "execution_count": 16,
   "id": "cd59cfb1",
   "metadata": {},
   "outputs": [
    {
     "data": {
      "text/html": [
       "<div>\n",
       "<style scoped>\n",
       "    .dataframe tbody tr th:only-of-type {\n",
       "        vertical-align: middle;\n",
       "    }\n",
       "\n",
       "    .dataframe tbody tr th {\n",
       "        vertical-align: top;\n",
       "    }\n",
       "\n",
       "    .dataframe thead th {\n",
       "        text-align: right;\n",
       "    }\n",
       "</style>\n",
       "<table border=\"1\" class=\"dataframe\">\n",
       "  <thead>\n",
       "    <tr style=\"text-align: right;\">\n",
       "      <th></th>\n",
       "      <th>Data</th>\n",
       "      <th>Valor</th>\n",
       "    </tr>\n",
       "  </thead>\n",
       "  <tbody>\n",
       "    <tr>\n",
       "      <th>0</th>\n",
       "      <td>2022-01-01</td>\n",
       "      <td>1558.16</td>\n",
       "    </tr>\n",
       "    <tr>\n",
       "      <th>1</th>\n",
       "      <td>2022-02-01</td>\n",
       "      <td>2278.44</td>\n",
       "    </tr>\n",
       "    <tr>\n",
       "      <th>2</th>\n",
       "      <td>2022-03-01</td>\n",
       "      <td>2541.48</td>\n",
       "    </tr>\n",
       "    <tr>\n",
       "      <th>3</th>\n",
       "      <td>2022-04-01</td>\n",
       "      <td>2410.81</td>\n",
       "    </tr>\n",
       "    <tr>\n",
       "      <th>4</th>\n",
       "      <td>2022-05-01</td>\n",
       "      <td>1455.10</td>\n",
       "    </tr>\n",
       "  </tbody>\n",
       "</table>\n",
       "</div>"
      ],
      "text/plain": [
       "        Data    Valor\n",
       "0 2022-01-01  1558.16\n",
       "1 2022-02-01  2278.44\n",
       "2 2022-03-01  2541.48\n",
       "3 2022-04-01  2410.81\n",
       "4 2022-05-01  1455.10"
      ]
     },
     "execution_count": 16,
     "metadata": {},
     "output_type": "execute_result"
    }
   ],
   "source": [
    "df.head(5)"
   ]
  },
  {
   "cell_type": "markdown",
   "id": "9bef47e9",
   "metadata": {},
   "source": [
    "## <font color=#F8F8FF> Primeira ideia\n",
    "---\n",
    "Quero primeiramente realizar um grafico dos anos desde 2022 - 2025\n",
    "\n",
    "\n"
   ]
  },
  {
   "cell_type": "code",
   "execution_count": 17,
   "id": "6f85e0e9",
   "metadata": {},
   "outputs": [
    {
     "data": {
      "text/html": [
       "<div>\n",
       "<style scoped>\n",
       "    .dataframe tbody tr th:only-of-type {\n",
       "        vertical-align: middle;\n",
       "    }\n",
       "\n",
       "    .dataframe tbody tr th {\n",
       "        vertical-align: top;\n",
       "    }\n",
       "\n",
       "    .dataframe thead th {\n",
       "        text-align: right;\n",
       "    }\n",
       "</style>\n",
       "<table border=\"1\" class=\"dataframe\">\n",
       "  <thead>\n",
       "    <tr style=\"text-align: right;\">\n",
       "      <th></th>\n",
       "      <th>Valor</th>\n",
       "    </tr>\n",
       "    <tr>\n",
       "      <th>ano</th>\n",
       "      <th></th>\n",
       "    </tr>\n",
       "  </thead>\n",
       "  <tbody>\n",
       "    <tr>\n",
       "      <th>2022</th>\n",
       "      <td>17068.64</td>\n",
       "    </tr>\n",
       "    <tr>\n",
       "      <th>2023</th>\n",
       "      <td>7274.81</td>\n",
       "    </tr>\n",
       "    <tr>\n",
       "      <th>2024</th>\n",
       "      <td>8890.15</td>\n",
       "    </tr>\n",
       "    <tr>\n",
       "      <th>2025</th>\n",
       "      <td>10703.90</td>\n",
       "    </tr>\n",
       "  </tbody>\n",
       "</table>\n",
       "</div>"
      ],
      "text/plain": [
       "         Valor\n",
       "ano           \n",
       "2022  17068.64\n",
       "2023   7274.81\n",
       "2024   8890.15\n",
       "2025  10703.90"
      ]
     },
     "execution_count": 17,
     "metadata": {},
     "output_type": "execute_result"
    }
   ],
   "source": [
    "# Criando um df com os dados desejados\n",
    "df_luz_anos = df.copy()\n",
    "df_luz_anos = df_luz_anos[[\"Data\", \"Valor\"]]\n",
    "\n",
    "# Gerando uma coluna que represente apenas os anos puxando-os da coluna data pedido\n",
    "df_luz_anos[\"ano\"] = df_luz_anos.Data.dt.year\n",
    "df_luz_anos.drop(labels = \"Data\", axis = 1, inplace=True)\n",
    "\n",
    "# Agrupando os dados por ano\n",
    "df_luz_anos = df_luz_anos.groupby([\"ano\"]).aggregate(\"sum\")\n",
    "\n",
    "df_luz_anos"
   ]
  },
  {
   "cell_type": "markdown",
   "id": "4c10e345",
   "metadata": {},
   "source": [
    "## <font color=#F8F8FF> Vamos Plotar\n",
    "---\n",
    "\n",
    "\n",
    "\n"
   ]
  },
  {
   "cell_type": "markdown",
   "id": "b2a2a19f",
   "metadata": {},
   "source": [
    "### Paleta de cores"
   ]
  },
  {
   "cell_type": "markdown",
   "id": "36255c8e",
   "metadata": {},
   "source": [
    "|Azul|||||\n",
    "|------|------|------|------|------|\n",
    "| AZUL1 |AZUL2 |AZUL3 |AZUL4 |AZUL5 |\n",
    "|#03045e | #0077b6 | #00b4d8| #90e0ef | #CDDBF3 |\n",
    "|![adicionar desc](https://github.com/alura-cursos/dataviz-graficos/blob/master/imagens/AZUL1.png?raw=true)|![adicionar desc](https://github.com/alura-cursos/dataviz-graficos/blob/master/imagens/AZUL2.png?raw=true)|![adicionar desc](https://github.com/alura-cursos/dataviz-graficos/blob/master/imagens/AZUL3.png?raw=true)|![adicionar desc](https://github.com/alura-cursos/dataviz-graficos/blob/master/imagens/AZUL4.png?raw=true)|![adicionar desc](https://github.com/alura-cursos/dataviz-graficos/blob/master/imagens/AZUL5.png?raw=true)|\n",
    "\n",
    "&nbsp;\n",
    "\n",
    "|Cinza|||||\n",
    "|------|------|------|------|------|\n",
    "| CINZA1 |CINZA2 |CINZA3 |CINZA4 |CINZA5|\n",
    "|#212529 | #495057| #adb5bd | #dee2e6| #f8f9fa |\n",
    "| ![adicionar desc](https://github.com/alura-cursos/dataviz-graficos/blob/master/imagens/CINZA1.png?raw=true)  |![adicionar desc](https://github.com/alura-cursos/dataviz-graficos/blob/master/imagens/CINZA2.png?raw=true) |![adicionar desc](https://github.com/alura-cursos/dataviz-graficos/blob/master/imagens/CINZA3.png?raw=true) |![adicionar desc](https://github.com/alura-cursos/dataviz-graficos/blob/master/imagens/CINZA4.png?raw=true) |![adicionar desc](https://github.com/alura-cursos/dataviz-graficos/blob/master/imagens/CINZA5.png?raw=true)|\n",
    "&nbsp;\n",
    "\n",
    "|Misto|||||\n",
    "|------|------|------|------|------|\n",
    "| VERMELHO1 |LARANJA1 |AMARELO1 | VERDE1 |VERDE2 |\n",
    "|#e76f51 | #f4a261 | #e9c46a |#0C8040 | #4c956c |#2a9d8f|\n",
    "| ![adicionar desc](https://github.com/alura-cursos/dataviz-graficos/blob/master/imagens/VERMELHO1.png?raw=true) |![adicionar desc](https://github.com/alura-cursos/dataviz-graficos/blob/master/imagens/LARANJA1.png?raw=true)|![adicionar desc](https://github.com/alura-cursos/dataviz-graficos/blob/master/imagens/AMARELO1.png?raw=true)| ![adicionar desc](https://github.com/alura-cursos/dataviz-graficos/blob/master/imagens/VERDE1.png?raw=true) | ![adicionar desc](https://github.com/alura-cursos/dataviz-graficos/blob/master/imagens/VERDE2.png?raw=true) |\n"
   ]
  },
  {
   "cell_type": "code",
   "execution_count": 18,
   "id": "fa2205d9",
   "metadata": {},
   "outputs": [],
   "source": [
    "# Definindo a paleta de cores\n",
    "AZUL1, AZUL2, AZUL3, AZUL4, AZUL5 = '#03045e', '#0077b6', \"#00b4d8\", '#90e0ef', '#CDDBF3'\n",
    "CINZA1, CINZA2, CINZA3, CINZA4, CINZA5 ,BRANCO= '#212529', '#495057', '#adb5bd', '#dee2e6', '#f8f9fa', '#FFFFFF'\n",
    "VERMELHO1, LARANJA1, AMARELO1, VERDE1, VERDE2 = '#e76f51', '#f4a261',\t'#e9c46a', '#4c956c', '#2a9d8f'"
   ]
  },
  {
   "cell_type": "code",
   "execution_count": 19,
   "id": "4b4246f1",
   "metadata": {},
   "outputs": [
    {
     "data": {
      "text/html": [
       "<div>\n",
       "<style scoped>\n",
       "    .dataframe tbody tr th:only-of-type {\n",
       "        vertical-align: middle;\n",
       "    }\n",
       "\n",
       "    .dataframe tbody tr th {\n",
       "        vertical-align: top;\n",
       "    }\n",
       "\n",
       "    .dataframe thead th {\n",
       "        text-align: right;\n",
       "    }\n",
       "</style>\n",
       "<table border=\"1\" class=\"dataframe\">\n",
       "  <thead>\n",
       "    <tr style=\"text-align: right;\">\n",
       "      <th></th>\n",
       "      <th>Valor</th>\n",
       "    </tr>\n",
       "    <tr>\n",
       "      <th>ano</th>\n",
       "      <th></th>\n",
       "    </tr>\n",
       "  </thead>\n",
       "  <tbody>\n",
       "    <tr>\n",
       "      <th>2022</th>\n",
       "      <td>17068.64</td>\n",
       "    </tr>\n",
       "    <tr>\n",
       "      <th>2023</th>\n",
       "      <td>7274.81</td>\n",
       "    </tr>\n",
       "    <tr>\n",
       "      <th>2024</th>\n",
       "      <td>8890.15</td>\n",
       "    </tr>\n",
       "    <tr>\n",
       "      <th>2025</th>\n",
       "      <td>10703.90</td>\n",
       "    </tr>\n",
       "  </tbody>\n",
       "</table>\n",
       "</div>"
      ],
      "text/plain": [
       "         Valor\n",
       "ano           \n",
       "2022  17068.64\n",
       "2023   7274.81\n",
       "2024   8890.15\n",
       "2025  10703.90"
      ]
     },
     "execution_count": 19,
     "metadata": {},
     "output_type": "execute_result"
    }
   ],
   "source": [
    "df_luz_anos_plt = df_luz_anos.copy()\n",
    "df_luz_anos_plt"
   ]
  },
  {
   "cell_type": "code",
   "execution_count": 20,
   "id": "38c2ba22",
   "metadata": {},
   "outputs": [
    {
     "data": {
      "image/png": "[encoded data removed]",
      "text/plain": [
       "<Figure size 1000x400 with 1 Axes>"
      ]
     },
     "metadata": {},
     "output_type": "display_data"
    }
   ],
   "source": [
    "## Gerando a função para criar o gráfico de colunas\n",
    "\n",
    "def grafico_gastos(cores_max=AZUL2, cores_outros=AZUL5):\n",
    "    import matplotlib.pyplot as plt\n",
    "    import seaborn as sns\n",
    "\n",
    "    # Criar coluna auxiliar para definir cores\n",
    "    df = df_luz_anos_plt.copy()\n",
    "    df['cor'] = df['Valor'].apply(lambda x: 'max' if x == df['Valor'].max() else 'outros')\n",
    "    paleta = {'max': cores_max, 'outros': cores_outros}\n",
    "\n",
    "    # Área do gráfico e tema\n",
    "    fig, ax = plt.subplots(figsize=(10,4))\n",
    "    sns.set_theme(style=\"white\")\n",
    "\n",
    "    # Gráfico de colunas usando hue\n",
    "    ax = sns.barplot(\n",
    "        data=df,\n",
    "        x='ano',\n",
    "        y='Valor',\n",
    "        hue='cor',\n",
    "        palette=paleta,\n",
    "        dodge=False,\n",
    "        legend=False\n",
    "    )\n",
    "\n",
    "    # Personalizando o gráfico\n",
    "    ax.set_title(\n",
    "        \"Valor da conta de luz por ano de\\n2022 a 2025\",\n",
    "        loc=\"left\",\n",
    "        fontsize=18,\n",
    "        color=CINZA1,\n",
    "        pad=40,x=0.03\n",
    "    )\n",
    "    ax.set_xlabel(\"\")\n",
    "    ax.set_ylabel(\"\")\n",
    "    ax.xaxis.set_tick_params(labelsize=14, labelcolor=CINZA2)\n",
    "    sns.despine(left=True, bottom=True)\n",
    "\n",
    "    # Valores acima das barras\n",
    "    offset = 500  # Ajuste do deslocamento\n",
    "    for i, valor in enumerate(df[\"Valor\"]):\n",
    "        qtd = f'R$ {valor:,.0f}'.replace(\",\", \".\")\n",
    "        ax.text(i, valor + offset, qtd, color=CINZA2, fontsize=12, ha=\"center\", va=\"center\")\n",
    "\n",
    "    return ax\n",
    "\n",
    "# Chamando a função\n",
    "ax = grafico_gastos()"
   ]
  },
  {
   "cell_type": "code",
   "execution_count": 21,
   "id": "cb8c8cd8",
   "metadata": {},
   "outputs": [
    {
     "data": {
      "image/png": "[encoded data removed]",
      "text/plain": [
       "<Figure size 1000x400 with 1 Axes>"
      ]
     },
     "metadata": {},
     "output_type": "display_data"
    }
   ],
   "source": [
    "# Chamando a função com a lógica de cores\n",
    "ax = grafico_gastos(cores_max=AZUL2, cores_outros=AZUL5)\n",
    "ax.set_yticklabels([])\n",
    "# Anotando uma conclusão no gráfico\n",
    "ax.text(3.5, df_luz_anos_plt['Valor'].max()*0.7,\n",
    "        'Em $\\\\bf{2022}$, tivemos o maior\\n'\n",
    "        'Valor na conta de luz.\\n'\n",
    "        'Isso levando em conta que \\n' \n",
    "        '$\\\\bf{2025}$ ainda não acabou',\n",
    "        fontsize=14, linespacing=1.45, color=AZUL2)\n",
    "fig = ax.get_figure()\n"
   ]
  },
  {
   "cell_type": "code",
   "execution_count": 22,
   "id": "6f17d8e6",
   "metadata": {},
   "outputs": [
    {
     "data": {
      "text/html": [
       "<div>\n",
       "<style scoped>\n",
       "    .dataframe tbody tr th:only-of-type {\n",
       "        vertical-align: middle;\n",
       "    }\n",
       "\n",
       "    .dataframe tbody tr th {\n",
       "        vertical-align: top;\n",
       "    }\n",
       "\n",
       "    .dataframe thead th {\n",
       "        text-align: right;\n",
       "    }\n",
       "</style>\n",
       "<table border=\"1\" class=\"dataframe\">\n",
       "  <thead>\n",
       "    <tr style=\"text-align: right;\">\n",
       "      <th></th>\n",
       "      <th>ano</th>\n",
       "      <th>Valor</th>\n",
       "      <th>Variação</th>\n",
       "      <th>Medidas</th>\n",
       "      <th>Valor (texto)</th>\n",
       "      <th>Variação (texto)</th>\n",
       "    </tr>\n",
       "  </thead>\n",
       "  <tbody>\n",
       "    <tr>\n",
       "      <th>0</th>\n",
       "      <td>2022</td>\n",
       "      <td>17068.64</td>\n",
       "      <td>17068.64</td>\n",
       "      <td>absolute</td>\n",
       "      <td>R$ 17.068,64</td>\n",
       "      <td>R$ 17.068,64</td>\n",
       "    </tr>\n",
       "    <tr>\n",
       "      <th>1</th>\n",
       "      <td>2023</td>\n",
       "      <td>7274.81</td>\n",
       "      <td>-9793.83</td>\n",
       "      <td>relative</td>\n",
       "      <td>R$ 7.274,81</td>\n",
       "      <td>R$ -9.793,83</td>\n",
       "    </tr>\n",
       "    <tr>\n",
       "      <th>2</th>\n",
       "      <td>2024</td>\n",
       "      <td>8890.15</td>\n",
       "      <td>1615.34</td>\n",
       "      <td>relative</td>\n",
       "      <td>R$ 8.890,15</td>\n",
       "      <td>R$ 1.615,34</td>\n",
       "    </tr>\n",
       "    <tr>\n",
       "      <th>3</th>\n",
       "      <td>2025</td>\n",
       "      <td>10703.90</td>\n",
       "      <td>1813.75</td>\n",
       "      <td>relative</td>\n",
       "      <td>R$ 10.703,90</td>\n",
       "      <td>R$ 1.813,75</td>\n",
       "    </tr>\n",
       "  </tbody>\n",
       "</table>\n",
       "</div>"
      ],
      "text/plain": [
       "    ano     Valor  Variação   Medidas Valor (texto) Variação (texto)\n",
       "0  2022  17068.64  17068.64  absolute  R$ 17.068,64     R$ 17.068,64\n",
       "1  2023   7274.81  -9793.83  relative   R$ 7.274,81     R$ -9.793,83\n",
       "2  2024   8890.15   1615.34  relative   R$ 8.890,15      R$ 1.615,34\n",
       "3  2025  10703.90   1813.75  relative  R$ 10.703,90      R$ 1.813,75"
      ]
     },
     "execution_count": 22,
     "metadata": {},
     "output_type": "execute_result"
    }
   ],
   "source": [
    "df_luz_anos_casc = df_luz_anos_plt.copy()\n",
    "# Criando coluna de variação (diferença entre os anos)\n",
    "df_luz_anos_casc[\"Variação\"] = df_luz_anos_casc[\"Valor\"].diff().fillna(df_luz_anos_casc[\"Valor\"])\n",
    "# Criando coluna \"Medidas\"\n",
    "df_luz_anos_casc[\"Medidas\"] = [\"absolute\"] + [\"relative\"] * (len(df_luz_anos_casc) - 1)\n",
    "# Resetando o índice e renomeando a coluna\n",
    "df_luz_anos_casc = df_luz_anos_casc.reset_index().rename(columns={'index': 'Ano'})\n",
    "\n",
    "# Criando colunas de texto formatado em reais (estilo brasileiro)\n",
    "df_luz_anos_casc[\"Valor (texto)\"] = df_luz_anos_casc[\"Valor\"].map('R$ {:,.2f}'.format)\n",
    "df_luz_anos_casc[\"Variação (texto)\"] = df_luz_anos_casc[\"Variação\"].map('R$ {:,.2f}'.format)\n",
    "\n",
    "# Ajustando para formato brasileiro (ponto → milhar, vírgula → decimal)\n",
    "df_luz_anos_casc[\"Valor (texto)\"] = df_luz_anos_casc[\"Valor (texto)\"].str.replace(\",\", \"X\").str.replace(\".\", \",\").str.replace(\"X\", \".\")\n",
    "df_luz_anos_casc[\"Variação (texto)\"] = df_luz_anos_casc[\"Variação (texto)\"].str.replace(\",\", \"X\").str.replace(\".\", \",\").str.replace(\"X\", \".\")\n",
    "\n",
    "# Visualizando o resultado\n",
    "df_luz_anos_casc\n",
    "\n",
    "\n",
    "\n",
    "# Visualizando o resultado\n",
    "df_luz_anos_casc.head()"
   ]
  },
  {
   "cell_type": "code",
   "execution_count": 23,
   "id": "48f62540",
   "metadata": {},
   "outputs": [
    {
     "data": {
      "text/html": [
       "<div>\n",
       "<style scoped>\n",
       "    .dataframe tbody tr th:only-of-type {\n",
       "        vertical-align: middle;\n",
       "    }\n",
       "\n",
       "    .dataframe tbody tr th {\n",
       "        vertical-align: top;\n",
       "    }\n",
       "\n",
       "    .dataframe thead th {\n",
       "        text-align: right;\n",
       "    }\n",
       "</style>\n",
       "<table border=\"1\" class=\"dataframe\">\n",
       "  <thead>\n",
       "    <tr style=\"text-align: right;\">\n",
       "      <th></th>\n",
       "      <th>ano</th>\n",
       "      <th>Valor</th>\n",
       "      <th>Variação</th>\n",
       "      <th>Medidas</th>\n",
       "      <th>Valor (texto)</th>\n",
       "      <th>Variação (texto)</th>\n",
       "    </tr>\n",
       "  </thead>\n",
       "  <tbody>\n",
       "    <tr>\n",
       "      <th>0</th>\n",
       "      <td>2022</td>\n",
       "      <td>17068.64</td>\n",
       "      <td>17068.64</td>\n",
       "      <td>absolute</td>\n",
       "      <td>R$ 17.068,64</td>\n",
       "      <td>R$ 17.068,64</td>\n",
       "    </tr>\n",
       "    <tr>\n",
       "      <th>1</th>\n",
       "      <td>2023</td>\n",
       "      <td>7274.81</td>\n",
       "      <td>-9793.83</td>\n",
       "      <td>relative</td>\n",
       "      <td>R$ 7.274,81</td>\n",
       "      <td>R$ -9.793,83</td>\n",
       "    </tr>\n",
       "    <tr>\n",
       "      <th>2</th>\n",
       "      <td>2024</td>\n",
       "      <td>8890.15</td>\n",
       "      <td>1615.34</td>\n",
       "      <td>relative</td>\n",
       "      <td>R$ 8.890,15</td>\n",
       "      <td>R$ 1.615,34</td>\n",
       "    </tr>\n",
       "    <tr>\n",
       "      <th>3</th>\n",
       "      <td>2025</td>\n",
       "      <td>10703.9</td>\n",
       "      <td>1813.75</td>\n",
       "      <td>relative</td>\n",
       "      <td>R$ 10.703,90</td>\n",
       "      <td>R$ 1.813,75</td>\n",
       "    </tr>\n",
       "    <tr>\n",
       "      <th>4</th>\n",
       "      <td>Total</td>\n",
       "      <td>43937.5</td>\n",
       "      <td>10703.9</td>\n",
       "      <td>total</td>\n",
       "      <td>R$ 43.937,50</td>\n",
       "      <td>R$ 10.703,90</td>\n",
       "    </tr>\n",
       "  </tbody>\n",
       "</table>\n",
       "</div>"
      ],
      "text/plain": [
       "     ano     Valor  Variação   Medidas Valor (texto) Variação (texto)\n",
       "0   2022  17068.64  17068.64  absolute  R$ 17.068,64     R$ 17.068,64\n",
       "1   2023   7274.81  -9793.83  relative   R$ 7.274,81     R$ -9.793,83\n",
       "2   2024   8890.15   1615.34  relative   R$ 8.890,15      R$ 1.615,34\n",
       "3   2025   10703.9   1813.75  relative  R$ 10.703,90      R$ 1.813,75\n",
       "4  Total   43937.5   10703.9     total  R$ 43.937,50     R$ 10.703,90"
      ]
     },
     "execution_count": 23,
     "metadata": {},
     "output_type": "execute_result"
    }
   ],
   "source": [
    "# Calculando o total real (soma dos valores e soma das variações)\n",
    "total_valor = df_luz_anos_casc[\"Valor\"].sum()\n",
    "total_variacao = df_luz_anos_casc[\"Variação\"].sum()\n",
    "\n",
    "# Formatando o total para texto no estilo brasileiro\n",
    "total_valor_texto = f'R$ {total_valor:,.2f}'.replace(\",\", \"X\").replace(\".\", \",\").replace(\"X\", \".\")\n",
    "total_variacao_texto = f'R$ {total_variacao:,.2f}'.replace(\",\", \"X\").replace(\".\", \",\").replace(\"X\", \".\")\n",
    "\n",
    "# Criando a linha 'Total'\n",
    "total = pd.Series({\n",
    "    'ano': 'Total',\n",
    "    'Valor': total_valor,\n",
    "    'Variação': total_variacao,\n",
    "    'Medidas': 'total',\n",
    "    'Valor (texto)': total_valor_texto,\n",
    "    'Variação (texto)': total_variacao_texto\n",
    "}).to_frame().T\n",
    "\n",
    "# Concatenando com o DataFrame original\n",
    "df_luz_anos_casc = pd.concat([df_luz_anos_casc, total], ignore_index=True)\n",
    "\n",
    "df_luz_anos_casc"
   ]
  },
  {
   "cell_type": "code",
   "execution_count": 24,
   "id": "7ecb5df5",
   "metadata": {},
   "outputs": [
    {
     "data": {
      "application/vnd.plotly.v1+json": {
       "config": {
        "plotlyServerURL": "https://plot.ly"
       },
       "data": [
        {
         "connector": {
          "line": {
           "color": "#adb5bd"
          }
         },
         "decreasing": {
          "marker": {
           "color": "#e76f51"
          }
         },
         "hovertemplate": "<b>%{x}</b> = %{text}",
         "measure": [
          "absolute",
          "relative",
          "relative",
          "relative",
          "total"
         ],
         "name": "",
         "orientation": "v",
         "text": [
          "R$ 17.068,64",
          "R$ -9.793,83",
          "R$ 1.615,34",
          "R$ 1.813,75",
          "R$ 10.703,90"
         ],
         "textposition": "outside",
         "totals": {
          "marker": {
           "color": "#00b4d8"
          }
         },
         "type": "waterfall",
         "x": [
          2022,
          2023,
          2024,
          2025,
          "Total"
         ],
         "y": [
          17068.64,
          -9793.83,
          1615.3400000000001,
          1813.75,
          10703.9
         ]
        }
       ],
       "layout": {
        "annotations": [
         {
          "align": "left",
          "showarrow": false,
          "text": "Fonte dos dados: Contas da light",
          "x": 1,
          "xref": "paper",
          "y": -0.2,
          "yref": "paper"
         }
        ],
        "font": {
         "color": "#495057",
         "family": "DejaVu Sans",
         "size": 15
        },
        "height": 500,
        "hovermode": "closest",
        "plot_bgcolor": "#FFFFFF",
        "template": {
         "data": {
          "bar": [
           {
            "error_x": {
             "color": "#2a3f5f"
            },
            "error_y": {
             "color": "#2a3f5f"
            },
            "marker": {
             "line": {
              "color": "#E5ECF6",
              "width": 0.5
             },
             "pattern": {
              "fillmode": "overlay",
              "size": 10,
              "solidity": 0.2
             }
            },
            "type": "bar"
           }
          ],
          "barpolar": [
           {
            "marker": {
             "line": {
              "color": "#E5ECF6",
              "width": 0.5
             },
             "pattern": {
              "fillmode": "overlay",
              "size": 10,
              "solidity": 0.2
             }
            },
            "type": "barpolar"
           }
          ],
          "carpet": [
           {
            "aaxis": {
             "endlinecolor": "#2a3f5f",
             "gridcolor": "white",
             "linecolor": "white",
             "minorgridcolor": "white",
             "startlinecolor": "#2a3f5f"
            },
            "baxis": {
             "endlinecolor": "#2a3f5f",
             "gridcolor": "white",
             "linecolor": "white",
             "minorgridcolor": "white",
             "startlinecolor": "#2a3f5f"
            },
            "type": "carpet"
           }
          ],
          "choropleth": [
           {
            "colorbar": {
             "outlinewidth": 0,
             "ticks": ""
            },
            "type": "choropleth"
           }
          ],
          "contour": [
           {
            "colorbar": {
             "outlinewidth": 0,
             "ticks": ""
            },
            "colorscale": [
             [
              0,
              "#0d0887"
             ],
             [
              0.1111111111111111,
              "#46039f"
             ],
             [
              0.2222222222222222,
              "#7201a8"
             ],
             [
              0.3333333333333333,
              "#9c179e"
             ],
             [
              0.4444444444444444,
              "#bd3786"
             ],
             [
              0.5555555555555556,
              "#d8576b"
             ],
             [
              0.6666666666666666,
              "#ed7953"
             ],
             [
              0.7777777777777778,
              "#fb9f3a"
             ],
             [
              0.8888888888888888,
              "#fdca26"
             ],
             [
              1,
              "#f0f921"
             ]
            ],
            "type": "contour"
           }
          ],
          "contourcarpet": [
           {
            "colorbar": {
             "outlinewidth": 0,
             "ticks": ""
            },
            "type": "contourcarpet"
           }
          ],
          "heatmap": [
           {
            "colorbar": {
             "outlinewidth": 0,
             "ticks": ""
            },
            "colorscale": [
             [
              0,
              "#0d0887"
             ],
             [
              0.1111111111111111,
              "#46039f"
             ],
             [
              0.2222222222222222,
              "#7201a8"
             ],
             [
              0.3333333333333333,
              "#9c179e"
             ],
             [
              0.4444444444444444,
              "#bd3786"
             ],
             [
              0.5555555555555556,
              "#d8576b"
             ],
             [
              0.6666666666666666,
              "#ed7953"
             ],
             [
              0.7777777777777778,
              "#fb9f3a"
             ],
             [
              0.8888888888888888,
              "#fdca26"
             ],
             [
              1,
              "#f0f921"
             ]
            ],
            "type": "heatmap"
           }
          ],
          "histogram": [
           {
            "marker": {
             "pattern": {
              "fillmode": "overlay",
              "size": 10,
              "solidity": 0.2
             }
            },
            "type": "histogram"
           }
          ],
          "histogram2d": [
           {
            "colorbar": {
             "outlinewidth": 0,
             "ticks": ""
            },
            "colorscale": [
             [
              0,
              "#0d0887"
             ],
             [
              0.1111111111111111,
              "#46039f"
             ],
             [
              0.2222222222222222,
              "#7201a8"
             ],
             [
              0.3333333333333333,
              "#9c179e"
             ],
             [
              0.4444444444444444,
              "#bd3786"
             ],
             [
              0.5555555555555556,
              "#d8576b"
             ],
             [
              0.6666666666666666,
              "#ed7953"
             ],
             [
              0.7777777777777778,
              "#fb9f3a"
             ],
             [
              0.8888888888888888,
              "#fdca26"
             ],
             [
              1,
              "#f0f921"
             ]
            ],
            "type": "histogram2d"
           }
          ],
          "histogram2dcontour": [
           {
            "colorbar": {
             "outlinewidth": 0,
             "ticks": ""
            },
            "colorscale": [
             [
              0,
              "#0d0887"
             ],
             [
              0.1111111111111111,
              "#46039f"
             ],
             [
              0.2222222222222222,
              "#7201a8"
             ],
             [
              0.3333333333333333,
              "#9c179e"
             ],
             [
              0.4444444444444444,
              "#bd3786"
             ],
             [
              0.5555555555555556,
              "#d8576b"
             ],
             [
              0.6666666666666666,
              "#ed7953"
             ],
             [
              0.7777777777777778,
              "#fb9f3a"
             ],
             [
              0.8888888888888888,
              "#fdca26"
             ],
             [
              1,
              "#f0f921"
             ]
            ],
            "type": "histogram2dcontour"
           }
          ],
          "mesh3d": [
           {
            "colorbar": {
             "outlinewidth": 0,
             "ticks": ""
            },
            "type": "mesh3d"
           }
          ],
          "parcoords": [
           {
            "line": {
             "colorbar": {
              "outlinewidth": 0,
              "ticks": ""
             }
            },
            "type": "parcoords"
           }
          ],
          "pie": [
           {
            "automargin": true,
            "type": "pie"
           }
          ],
          "scatter": [
           {
            "fillpattern": {
             "fillmode": "overlay",
             "size": 10,
             "solidity": 0.2
            },
            "type": "scatter"
           }
          ],
          "scatter3d": [
           {
            "line": {
             "colorbar": {
              "outlinewidth": 0,
              "ticks": ""
             }
            },
            "marker": {
             "colorbar": {
              "outlinewidth": 0,
              "ticks": ""
             }
            },
            "type": "scatter3d"
           }
          ],
          "scattercarpet": [
           {
            "marker": {
             "colorbar": {
              "outlinewidth": 0,
              "ticks": ""
             }
            },
            "type": "scattercarpet"
           }
          ],
          "scattergeo": [
           {
            "marker": {
             "colorbar": {
              "outlinewidth": 0,
              "ticks": ""
             }
            },
            "type": "scattergeo"
           }
          ],
          "scattergl": [
           {
            "marker": {
             "colorbar": {
              "outlinewidth": 0,
              "ticks": ""
             }
            },
            "type": "scattergl"
           }
          ],
          "scattermap": [
           {
            "marker": {
             "colorbar": {
              "outlinewidth": 0,
              "ticks": ""
             }
            },
            "type": "scattermap"
           }
          ],
          "scattermapbox": [
           {
            "marker": {
             "colorbar": {
              "outlinewidth": 0,
              "ticks": ""
             }
            },
            "type": "scattermapbox"
           }
          ],
          "scatterpolar": [
           {
            "marker": {
             "colorbar": {
              "outlinewidth": 0,
              "ticks": ""
             }
            },
            "type": "scatterpolar"
           }
          ],
          "scatterpolargl": [
           {
            "marker": {
             "colorbar": {
              "outlinewidth": 0,
              "ticks": ""
             }
            },
            "type": "scatterpolargl"
           }
          ],
          "scatterternary": [
           {
            "marker": {
             "colorbar": {
              "outlinewidth": 0,
              "ticks": ""
             }
            },
            "type": "scatterternary"
           }
          ],
          "surface": [
           {
            "colorbar": {
             "outlinewidth": 0,
             "ticks": ""
            },
            "colorscale": [
             [
              0,
              "#0d0887"
             ],
             [
              0.1111111111111111,
              "#46039f"
             ],
             [
              0.2222222222222222,
              "#7201a8"
             ],
             [
              0.3333333333333333,
              "#9c179e"
             ],
             [
              0.4444444444444444,
              "#bd3786"
             ],
             [
              0.5555555555555556,
              "#d8576b"
             ],
             [
              0.6666666666666666,
              "#ed7953"
             ],
             [
              0.7777777777777778,
              "#fb9f3a"
             ],
             [
              0.8888888888888888,
              "#fdca26"
             ],
             [
              1,
              "#f0f921"
             ]
            ],
            "type": "surface"
           }
          ],
          "table": [
           {
            "cells": {
             "fill": {
              "color": "#EBF0F8"
             },
             "line": {
              "color": "white"
             }
            },
            "header": {
             "fill": {
              "color": "#C8D4E3"
             },
             "line": {
              "color": "white"
             }
            },
            "type": "table"
           }
          ]
         },
         "layout": {
          "annotationdefaults": {
           "arrowcolor": "#2a3f5f",
           "arrowhead": 0,
           "arrowwidth": 1
          },
          "autotypenumbers": "strict",
          "coloraxis": {
           "colorbar": {
            "outlinewidth": 0,
            "ticks": ""
           }
          },
          "colorscale": {
           "diverging": [
            [
             0,
             "#8e0152"
            ],
            [
             0.1,
             "#c51b7d"
            ],
            [
             0.2,
             "#de77ae"
            ],
            [
             0.3,
             "#f1b6da"
            ],
            [
             0.4,
             "#fde0ef"
            ],
            [
             0.5,
             "#f7f7f7"
            ],
            [
             0.6,
             "#e6f5d0"
            ],
            [
             0.7,
             "#b8e186"
            ],
            [
             0.8,
             "#7fbc41"
            ],
            [
             0.9,
             "#4d9221"
            ],
            [
             1,
             "#276419"
            ]
           ],
           "sequential": [
            [
             0,
             "#0d0887"
            ],
            [
             0.1111111111111111,
             "#46039f"
            ],
            [
             0.2222222222222222,
             "#7201a8"
            ],
            [
             0.3333333333333333,
             "#9c179e"
            ],
            [
             0.4444444444444444,
             "#bd3786"
            ],
            [
             0.5555555555555556,
             "#d8576b"
            ],
            [
             0.6666666666666666,
             "#ed7953"
            ],
            [
             0.7777777777777778,
             "#fb9f3a"
            ],
            [
             0.8888888888888888,
             "#fdca26"
            ],
            [
             1,
             "#f0f921"
            ]
           ],
           "sequentialminus": [
            [
             0,
             "#0d0887"
            ],
            [
             0.1111111111111111,
             "#46039f"
            ],
            [
             0.2222222222222222,
             "#7201a8"
            ],
            [
             0.3333333333333333,
             "#9c179e"
            ],
            [
             0.4444444444444444,
             "#bd3786"
            ],
            [
             0.5555555555555556,
             "#d8576b"
            ],
            [
             0.6666666666666666,
             "#ed7953"
            ],
            [
             0.7777777777777778,
             "#fb9f3a"
            ],
            [
             0.8888888888888888,
             "#fdca26"
            ],
            [
             1,
             "#f0f921"
            ]
           ]
          },
          "colorway": [
           "#636efa",
           "#EF553B",
           "#00cc96",
           "#ab63fa",
           "#FFA15A",
           "#19d3f3",
           "#FF6692",
           "#B6E880",
           "#FF97FF",
           "#FECB52"
          ],
          "font": {
           "color": "#2a3f5f"
          },
          "geo": {
           "bgcolor": "white",
           "lakecolor": "white",
           "landcolor": "#E5ECF6",
           "showlakes": true,
           "showland": true,
           "subunitcolor": "white"
          },
          "hoverlabel": {
           "align": "left"
          },
          "hovermode": "closest",
          "mapbox": {
           "style": "light"
          },
          "paper_bgcolor": "white",
          "plot_bgcolor": "#E5ECF6",
          "polar": {
           "angularaxis": {
            "gridcolor": "white",
            "linecolor": "white",
            "ticks": ""
           },
           "bgcolor": "#E5ECF6",
           "radialaxis": {
            "gridcolor": "white",
            "linecolor": "white",
            "ticks": ""
           }
          },
          "scene": {
           "xaxis": {
            "backgroundcolor": "#E5ECF6",
            "gridcolor": "white",
            "gridwidth": 2,
            "linecolor": "white",
            "showbackground": true,
            "ticks": "",
            "zerolinecolor": "white"
           },
           "yaxis": {
            "backgroundcolor": "#E5ECF6",
            "gridcolor": "white",
            "gridwidth": 2,
            "linecolor": "white",
            "showbackground": true,
            "ticks": "",
            "zerolinecolor": "white"
           },
           "zaxis": {
            "backgroundcolor": "#E5ECF6",
            "gridcolor": "white",
            "gridwidth": 2,
            "linecolor": "white",
            "showbackground": true,
            "ticks": "",
            "zerolinecolor": "white"
           }
          },
          "shapedefaults": {
           "line": {
            "color": "#2a3f5f"
           }
          },
          "ternary": {
           "aaxis": {
            "gridcolor": "white",
            "linecolor": "white",
            "ticks": ""
           },
           "baxis": {
            "gridcolor": "white",
            "linecolor": "white",
            "ticks": ""
           },
           "bgcolor": "#E5ECF6",
           "caxis": {
            "gridcolor": "white",
            "linecolor": "white",
            "ticks": ""
           }
          },
          "title": {
           "x": 0.05
          },
          "xaxis": {
           "automargin": true,
           "gridcolor": "white",
           "linecolor": "white",
           "ticks": "",
           "title": {
            "standoff": 15
           },
           "zerolinecolor": "white",
           "zerolinewidth": 2
          },
          "yaxis": {
           "automargin": true,
           "gridcolor": "white",
           "linecolor": "white",
           "ticks": "",
           "title": {
            "standoff": 15
           },
           "zerolinecolor": "white",
           "zerolinewidth": 2
          }
         }
        },
        "title": {
         "font": {
          "color": "#212529",
          "size": 24
         },
         "pad": {
          "l": 50
         },
         "text": "Variação da Conta de luz nos ultimos 4 anos<br><sup size=1 style=\"color:#555655\">2022 até 2025</sup>"
        },
        "width": 1000,
        "xaxis": {
         "ticktext": [
          2022,
          2023,
          2024,
          2025,
          "Total"
         ],
         "tickvals": [
          2022,
          2023,
          2024,
          2025,
          "Total"
         ]
        },
        "yaxis": {
         "range": [
          0,
          20000
         ],
         "showticklabels": false
        }
       }
      }
     },
     "metadata": {},
     "output_type": "display_data"
    }
   ],
   "source": [
    "## Configurando o gráfico com parâmetros que potencializam a visualização dos dados\n",
    "\n",
    "# Importando as bibliotecas\n",
    "import plotly.graph_objects as go\n",
    "\n",
    "# Gerando o gráfico de cascata\n",
    "fig = go.Figure( go.Waterfall(name = \"\", orientation = \"v\", measure = df_luz_anos_casc[\"Medidas\"],\n",
    "                             x = df_luz_anos_casc[\"ano\"],  y = df_luz_anos_casc[\"Variação\"],\n",
    "                             text = df_luz_anos_casc[\"Variação (texto)\"], textposition = \"outside\",\n",
    "                             connector_line = dict(color = CINZA3),\n",
    "                             totals_marker = dict(color = AZUL3),\n",
    "                             decreasing_marker = dict(color = VERMELHO1)\n",
    "                             )\n",
    "              )\n",
    "\n",
    "# Personalizando o gráfico\n",
    "fig.update_layout(width=1000, height=500, font_family = 'DejaVu Sans', font_size=15,\n",
    "                  font_color= CINZA2, title_font_color= CINZA1, title_font_size=24,\n",
    "                  title_text='Variação da Conta de luz nos ultimos 4 anos' +\n",
    "                             '<br><sup size=1 style=\"color:#555655\">2022 ' +\n",
    "                              'até 2025</sup>',\n",
    "                  title_pad_l = 50, plot_bgcolor= BRANCO, yaxis_range=[0, 20000], hovermode=\"closest\")\n",
    "\n",
    "# Retirando os ticks do eixo y\n",
    "fig.update_yaxes(showticklabels=False)\n",
    "\n",
    "# Mostrando apenas os anos no eixo x (sem rótulos intermediários)\n",
    "fig.update_xaxes(\n",
    "    tickvals=df_luz_anos_casc[\"ano\"],\n",
    "    ticktext=df_luz_anos_casc[\"ano\"]\n",
    ")\n",
    "\n",
    "# Dados ao passar o mouse\n",
    "fig.update_traces(hovertemplate = \"<b>%{x}</b> = %{text}\")\n",
    "\n",
    "fig.add_annotation(text='Fonte dos dados: Contas da light',\n",
    "                   align=\"left\", xref=\"paper\", yref = \"paper\", x=1, y=-0.2, showarrow=False)\n",
    "\n",
    "fig.show()"
   ]
  },
  {
   "cell_type": "code",
   "execution_count": 25,
   "id": "558bfaa0",
   "metadata": {},
   "outputs": [
    {
     "data": {
      "text/html": [
       "<div>\n",
       "<style scoped>\n",
       "    .dataframe tbody tr th:only-of-type {\n",
       "        vertical-align: middle;\n",
       "    }\n",
       "\n",
       "    .dataframe tbody tr th {\n",
       "        vertical-align: top;\n",
       "    }\n",
       "\n",
       "    .dataframe thead th {\n",
       "        text-align: right;\n",
       "    }\n",
       "</style>\n",
       "<table border=\"1\" class=\"dataframe\">\n",
       "  <thead>\n",
       "    <tr style=\"text-align: right;\">\n",
       "      <th></th>\n",
       "      <th>ano</th>\n",
       "      <th>Valor</th>\n",
       "      <th>Variação</th>\n",
       "      <th>Medidas</th>\n",
       "      <th>Valor (texto)</th>\n",
       "      <th>Variação (texto)</th>\n",
       "    </tr>\n",
       "  </thead>\n",
       "  <tbody>\n",
       "    <tr>\n",
       "      <th>0</th>\n",
       "      <td>2022</td>\n",
       "      <td>17068.64</td>\n",
       "      <td>17068.64</td>\n",
       "      <td>absolute</td>\n",
       "      <td>R$ 17.068,64</td>\n",
       "      <td>R$ 17.068,64</td>\n",
       "    </tr>\n",
       "    <tr>\n",
       "      <th>1</th>\n",
       "      <td>2023</td>\n",
       "      <td>7274.81</td>\n",
       "      <td>-9793.83</td>\n",
       "      <td>relative</td>\n",
       "      <td>R$ 7.274,81</td>\n",
       "      <td>R$ -9.793,83</td>\n",
       "    </tr>\n",
       "    <tr>\n",
       "      <th>2</th>\n",
       "      <td>2024</td>\n",
       "      <td>8890.15</td>\n",
       "      <td>1615.34</td>\n",
       "      <td>relative</td>\n",
       "      <td>R$ 8.890,15</td>\n",
       "      <td>R$ 1.615,34</td>\n",
       "    </tr>\n",
       "    <tr>\n",
       "      <th>3</th>\n",
       "      <td>2025</td>\n",
       "      <td>10703.9</td>\n",
       "      <td>1813.75</td>\n",
       "      <td>relative</td>\n",
       "      <td>R$ 10.703,90</td>\n",
       "      <td>R$ 1.813,75</td>\n",
       "    </tr>\n",
       "    <tr>\n",
       "      <th>4</th>\n",
       "      <td>Total</td>\n",
       "      <td>43937.5</td>\n",
       "      <td>10703.9</td>\n",
       "      <td>total</td>\n",
       "      <td>R$ 43.937,50</td>\n",
       "      <td>R$ 10.703,90</td>\n",
       "    </tr>\n",
       "  </tbody>\n",
       "</table>\n",
       "</div>"
      ],
      "text/plain": [
       "     ano     Valor  Variação   Medidas Valor (texto) Variação (texto)\n",
       "0   2022  17068.64  17068.64  absolute  R$ 17.068,64     R$ 17.068,64\n",
       "1   2023   7274.81  -9793.83  relative   R$ 7.274,81     R$ -9.793,83\n",
       "2   2024   8890.15   1615.34  relative   R$ 8.890,15      R$ 1.615,34\n",
       "3   2025   10703.9   1813.75  relative  R$ 10.703,90      R$ 1.813,75\n",
       "4  Total   43937.5   10703.9     total  R$ 43.937,50     R$ 10.703,90"
      ]
     },
     "execution_count": 25,
     "metadata": {},
     "output_type": "execute_result"
    }
   ],
   "source": [
    "df_luz_anos_casc"
   ]
  },
  {
   "cell_type": "code",
   "execution_count": 26,
   "id": "528b616b",
   "metadata": {},
   "outputs": [
    {
     "data": {
      "application/vnd.plotly.v1+json": {
       "config": {
        "plotlyServerURL": "https://plot.ly"
       },
       "data": [
        {
         "connector": {
          "line": {
           "color": "#adb5bd"
          }
         },
         "decreasing": {
          "marker": {
           "color": "#e76f51"
          }
         },
         "hovertemplate": "<b>%{x}</b> = %{text}",
         "increasing": {
          "marker": {
           "color": "#4c956c"
          }
         },
         "measure": [
          "absolute",
          "relative",
          "relative",
          "relative",
          "total"
         ],
         "name": "",
         "orientation": "v",
         "text": [
          "R$ 17.068,64",
          "R$ 7.274,81",
          "R$ 8.890,15",
          "R$ 10.703,90",
          "R$ 43.937,50"
         ],
         "textposition": "outside",
         "totals": {
          "marker": {
           "color": "#00b4d8"
          }
         },
         "type": "waterfall",
         "y": [
          17068.64,
          -9793.83,
          1615.3400000000001,
          1813.75,
          43937.5
         ]
        }
       ],
       "layout": {
        "annotations": [
         {
          "align": "left",
          "arrowcolor": "#adb5bd",
          "arrowhead": 1,
          "arrowside": "start",
          "arrowwidth": 2,
          "ax": 3,
          "axref": "x",
          "ay": 20100,
          "ayref": "y",
          "bordercolor": "#adb5bd",
          "borderpad": 4,
          "borderwidth": 1,
          "showarrow": true,
          "text": "Em <b>2023</b> o valor apresentou recuo <br> Isso porque neste periodo não tivemos <br> bandeiras <b>Vermelhas</b> ou <b>Taxas</b> ",
          "x": 1,
          "y": 10000
         }
        ],
        "font": {
         "color": "#495057",
         "family": "DejaVu Sans",
         "size": 15
        },
        "height": 600,
        "plot_bgcolor": "#FFFFFF",
        "template": {
         "data": {
          "bar": [
           {
            "error_x": {
             "color": "#2a3f5f"
            },
            "error_y": {
             "color": "#2a3f5f"
            },
            "marker": {
             "line": {
              "color": "#E5ECF6",
              "width": 0.5
             },
             "pattern": {
              "fillmode": "overlay",
              "size": 10,
              "solidity": 0.2
             }
            },
            "type": "bar"
           }
          ],
          "barpolar": [
           {
            "marker": {
             "line": {
              "color": "#E5ECF6",
              "width": 0.5
             },
             "pattern": {
              "fillmode": "overlay",
              "size": 10,
              "solidity": 0.2
             }
            },
            "type": "barpolar"
           }
          ],
          "carpet": [
           {
            "aaxis": {
             "endlinecolor": "#2a3f5f",
             "gridcolor": "white",
             "linecolor": "white",
             "minorgridcolor": "white",
             "startlinecolor": "#2a3f5f"
            },
            "baxis": {
             "endlinecolor": "#2a3f5f",
             "gridcolor": "white",
             "linecolor": "white",
             "minorgridcolor": "white",
             "startlinecolor": "#2a3f5f"
            },
            "type": "carpet"
           }
          ],
          "choropleth": [
           {
            "colorbar": {
             "outlinewidth": 0,
             "ticks": ""
            },
            "type": "choropleth"
           }
          ],
          "contour": [
           {
            "colorbar": {
             "outlinewidth": 0,
             "ticks": ""
            },
            "colorscale": [
             [
              0,
              "#0d0887"
             ],
             [
              0.1111111111111111,
              "#46039f"
             ],
             [
              0.2222222222222222,
              "#7201a8"
             ],
             [
              0.3333333333333333,
              "#9c179e"
             ],
             [
              0.4444444444444444,
              "#bd3786"
             ],
             [
              0.5555555555555556,
              "#d8576b"
             ],
             [
              0.6666666666666666,
              "#ed7953"
             ],
             [
              0.7777777777777778,
              "#fb9f3a"
             ],
             [
              0.8888888888888888,
              "#fdca26"
             ],
             [
              1,
              "#f0f921"
             ]
            ],
            "type": "contour"
           }
          ],
          "contourcarpet": [
           {
            "colorbar": {
             "outlinewidth": 0,
             "ticks": ""
            },
            "type": "contourcarpet"
           }
          ],
          "heatmap": [
           {
            "colorbar": {
             "outlinewidth": 0,
             "ticks": ""
            },
            "colorscale": [
             [
              0,
              "#0d0887"
             ],
             [
              0.1111111111111111,
              "#46039f"
             ],
             [
              0.2222222222222222,
              "#7201a8"
             ],
             [
              0.3333333333333333,
              "#9c179e"
             ],
             [
              0.4444444444444444,
              "#bd3786"
             ],
             [
              0.5555555555555556,
              "#d8576b"
             ],
             [
              0.6666666666666666,
              "#ed7953"
             ],
             [
              0.7777777777777778,
              "#fb9f3a"
             ],
             [
              0.8888888888888888,
              "#fdca26"
             ],
             [
              1,
              "#f0f921"
             ]
            ],
            "type": "heatmap"
           }
          ],
          "histogram": [
           {
            "marker": {
             "pattern": {
              "fillmode": "overlay",
              "size": 10,
              "solidity": 0.2
             }
            },
            "type": "histogram"
           }
          ],
          "histogram2d": [
           {
            "colorbar": {
             "outlinewidth": 0,
             "ticks": ""
            },
            "colorscale": [
             [
              0,
              "#0d0887"
             ],
             [
              0.1111111111111111,
              "#46039f"
             ],
             [
              0.2222222222222222,
              "#7201a8"
             ],
             [
              0.3333333333333333,
              "#9c179e"
             ],
             [
              0.4444444444444444,
              "#bd3786"
             ],
             [
              0.5555555555555556,
              "#d8576b"
             ],
             [
              0.6666666666666666,
              "#ed7953"
             ],
             [
              0.7777777777777778,
              "#fb9f3a"
             ],
             [
              0.8888888888888888,
              "#fdca26"
             ],
             [
              1,
              "#f0f921"
             ]
            ],
            "type": "histogram2d"
           }
          ],
          "histogram2dcontour": [
           {
            "colorbar": {
             "outlinewidth": 0,
             "ticks": ""
            },
            "colorscale": [
             [
              0,
              "#0d0887"
             ],
             [
              0.1111111111111111,
              "#46039f"
             ],
             [
              0.2222222222222222,
              "#7201a8"
             ],
             [
              0.3333333333333333,
              "#9c179e"
             ],
             [
              0.4444444444444444,
              "#bd3786"
             ],
             [
              0.5555555555555556,
              "#d8576b"
             ],
             [
              0.6666666666666666,
              "#ed7953"
             ],
             [
              0.7777777777777778,
              "#fb9f3a"
             ],
             [
              0.8888888888888888,
              "#fdca26"
             ],
             [
              1,
              "#f0f921"
             ]
            ],
            "type": "histogram2dcontour"
           }
          ],
          "mesh3d": [
           {
            "colorbar": {
             "outlinewidth": 0,
             "ticks": ""
            },
            "type": "mesh3d"
           }
          ],
          "parcoords": [
           {
            "line": {
             "colorbar": {
              "outlinewidth": 0,
              "ticks": ""
             }
            },
            "type": "parcoords"
           }
          ],
          "pie": [
           {
            "automargin": true,
            "type": "pie"
           }
          ],
          "scatter": [
           {
            "fillpattern": {
             "fillmode": "overlay",
             "size": 10,
             "solidity": 0.2
            },
            "type": "scatter"
           }
          ],
          "scatter3d": [
           {
            "line": {
             "colorbar": {
              "outlinewidth": 0,
              "ticks": ""
             }
            },
            "marker": {
             "colorbar": {
              "outlinewidth": 0,
              "ticks": ""
             }
            },
            "type": "scatter3d"
           }
          ],
          "scattercarpet": [
           {
            "marker": {
             "colorbar": {
              "outlinewidth": 0,
              "ticks": ""
             }
            },
            "type": "scattercarpet"
           }
          ],
          "scattergeo": [
           {
            "marker": {
             "colorbar": {
              "outlinewidth": 0,
              "ticks": ""
             }
            },
            "type": "scattergeo"
           }
          ],
          "scattergl": [
           {
            "marker": {
             "colorbar": {
              "outlinewidth": 0,
              "ticks": ""
             }
            },
            "type": "scattergl"
           }
          ],
          "scattermap": [
           {
            "marker": {
             "colorbar": {
              "outlinewidth": 0,
              "ticks": ""
             }
            },
            "type": "scattermap"
           }
          ],
          "scattermapbox": [
           {
            "marker": {
             "colorbar": {
              "outlinewidth": 0,
              "ticks": ""
             }
            },
            "type": "scattermapbox"
           }
          ],
          "scatterpolar": [
           {
            "marker": {
             "colorbar": {
              "outlinewidth": 0,
              "ticks": ""
             }
            },
            "type": "scatterpolar"
           }
          ],
          "scatterpolargl": [
           {
            "marker": {
             "colorbar": {
              "outlinewidth": 0,
              "ticks": ""
             }
            },
            "type": "scatterpolargl"
           }
          ],
          "scatterternary": [
           {
            "marker": {
             "colorbar": {
              "outlinewidth": 0,
              "ticks": ""
             }
            },
            "type": "scatterternary"
           }
          ],
          "surface": [
           {
            "colorbar": {
             "outlinewidth": 0,
             "ticks": ""
            },
            "colorscale": [
             [
              0,
              "#0d0887"
             ],
             [
              0.1111111111111111,
              "#46039f"
             ],
             [
              0.2222222222222222,
              "#7201a8"
             ],
             [
              0.3333333333333333,
              "#9c179e"
             ],
             [
              0.4444444444444444,
              "#bd3786"
             ],
             [
              0.5555555555555556,
              "#d8576b"
             ],
             [
              0.6666666666666666,
              "#ed7953"
             ],
             [
              0.7777777777777778,
              "#fb9f3a"
             ],
             [
              0.8888888888888888,
              "#fdca26"
             ],
             [
              1,
              "#f0f921"
             ]
            ],
            "type": "surface"
           }
          ],
          "table": [
           {
            "cells": {
             "fill": {
              "color": "#EBF0F8"
             },
             "line": {
              "color": "white"
             }
            },
            "header": {
             "fill": {
              "color": "#C8D4E3"
             },
             "line": {
              "color": "white"
             }
            },
            "type": "table"
           }
          ]
         },
         "layout": {
          "annotationdefaults": {
           "arrowcolor": "#2a3f5f",
           "arrowhead": 0,
           "arrowwidth": 1
          },
          "autotypenumbers": "strict",
          "coloraxis": {
           "colorbar": {
            "outlinewidth": 0,
            "ticks": ""
           }
          },
          "colorscale": {
           "diverging": [
            [
             0,
             "#8e0152"
            ],
            [
             0.1,
             "#c51b7d"
            ],
            [
             0.2,
             "#de77ae"
            ],
            [
             0.3,
             "#f1b6da"
            ],
            [
             0.4,
             "#fde0ef"
            ],
            [
             0.5,
             "#f7f7f7"
            ],
            [
             0.6,
             "#e6f5d0"
            ],
            [
             0.7,
             "#b8e186"
            ],
            [
             0.8,
             "#7fbc41"
            ],
            [
             0.9,
             "#4d9221"
            ],
            [
             1,
             "#276419"
            ]
           ],
           "sequential": [
            [
             0,
             "#0d0887"
            ],
            [
             0.1111111111111111,
             "#46039f"
            ],
            [
             0.2222222222222222,
             "#7201a8"
            ],
            [
             0.3333333333333333,
             "#9c179e"
            ],
            [
             0.4444444444444444,
             "#bd3786"
            ],
            [
             0.5555555555555556,
             "#d8576b"
            ],
            [
             0.6666666666666666,
             "#ed7953"
            ],
            [
             0.7777777777777778,
             "#fb9f3a"
            ],
            [
             0.8888888888888888,
             "#fdca26"
            ],
            [
             1,
             "#f0f921"
            ]
           ],
           "sequentialminus": [
            [
             0,
             "#0d0887"
            ],
            [
             0.1111111111111111,
             "#46039f"
            ],
            [
             0.2222222222222222,
             "#7201a8"
            ],
            [
             0.3333333333333333,
             "#9c179e"
            ],
            [
             0.4444444444444444,
             "#bd3786"
            ],
            [
             0.5555555555555556,
             "#d8576b"
            ],
            [
             0.6666666666666666,
             "#ed7953"
            ],
            [
             0.7777777777777778,
             "#fb9f3a"
            ],
            [
             0.8888888888888888,
             "#fdca26"
            ],
            [
             1,
             "#f0f921"
            ]
           ]
          },
          "colorway": [
           "#636efa",
           "#EF553B",
           "#00cc96",
           "#ab63fa",
           "#FFA15A",
           "#19d3f3",
           "#FF6692",
           "#B6E880",
           "#FF97FF",
           "#FECB52"
          ],
          "font": {
           "color": "#2a3f5f"
          },
          "geo": {
           "bgcolor": "white",
           "lakecolor": "white",
           "landcolor": "#E5ECF6",
           "showlakes": true,
           "showland": true,
           "subunitcolor": "white"
          },
          "hoverlabel": {
           "align": "left"
          },
          "hovermode": "closest",
          "mapbox": {
           "style": "light"
          },
          "paper_bgcolor": "white",
          "plot_bgcolor": "#E5ECF6",
          "polar": {
           "angularaxis": {
            "gridcolor": "white",
            "linecolor": "white",
            "ticks": ""
           },
           "bgcolor": "#E5ECF6",
           "radialaxis": {
            "gridcolor": "white",
            "linecolor": "white",
            "ticks": ""
           }
          },
          "scene": {
           "xaxis": {
            "backgroundcolor": "#E5ECF6",
            "gridcolor": "white",
            "gridwidth": 2,
            "linecolor": "white",
            "showbackground": true,
            "ticks": "",
            "zerolinecolor": "white"
           },
           "yaxis": {
            "backgroundcolor": "#E5ECF6",
            "gridcolor": "white",
            "gridwidth": 2,
            "linecolor": "white",
            "showbackground": true,
            "ticks": "",
            "zerolinecolor": "white"
           },
           "zaxis": {
            "backgroundcolor": "#E5ECF6",
            "gridcolor": "white",
            "gridwidth": 2,
            "linecolor": "white",
            "showbackground": true,
            "ticks": "",
            "zerolinecolor": "white"
           }
          },
          "shapedefaults": {
           "line": {
            "color": "#2a3f5f"
           }
          },
          "ternary": {
           "aaxis": {
            "gridcolor": "white",
            "linecolor": "white",
            "ticks": ""
           },
           "baxis": {
            "gridcolor": "white",
            "linecolor": "white",
            "ticks": ""
           },
           "bgcolor": "#E5ECF6",
           "caxis": {
            "gridcolor": "white",
            "linecolor": "white",
            "ticks": ""
           }
          },
          "title": {
           "x": 0.05
          },
          "xaxis": {
           "automargin": true,
           "gridcolor": "white",
           "linecolor": "white",
           "ticks": "",
           "title": {
            "standoff": 15
           },
           "zerolinecolor": "white",
           "zerolinewidth": 2
          },
          "yaxis": {
           "automargin": true,
           "gridcolor": "white",
           "linecolor": "white",
           "ticks": "",
           "title": {
            "standoff": 15
           },
           "zerolinecolor": "white",
           "zerolinewidth": 2
          }
         }
        },
        "title": {
         "font": {
          "color": "#212529",
          "size": 24
         },
         "text": "Valor da conta de Luz<br><sup size=1 style=\"color:#555655\">De 2022 a 2025 </sup>"
        },
        "width": 1300,
        "xaxis": {
         "tickmode": "array",
         "ticktext": [
          2022,
          2023,
          2024,
          2025,
          "Total"
         ],
         "tickvals": {
          "bdata": "AAECAwQFBgcICQoL",
          "dtype": "i1"
         }
        },
        "yaxis": {
         "range": [
          0,
          48000
         ],
         "showticklabels": false
        }
       }
      }
     },
     "metadata": {},
     "output_type": "display_data"
    }
   ],
   "source": [
    "## Configurando o gráfico com parâmetros que potencializam a visualização dos dados\n",
    "\n",
    "# Importando as bibliotecas\n",
    "import plotly.graph_objects as go\n",
    "import numpy as np\n",
    "\n",
    "# --- Correção fundamental ---\n",
    "df_luz_anos_casc.loc[df_luz_anos_casc[\"ano\"] == \"Total\", \"Variação\"] = \\\n",
    "    df_luz_anos_casc.loc[df_luz_anos_casc[\"ano\"] == \"Total\", \"Valor\"]\n",
    "\n",
    "# Gerando o gráfico de cascata\n",
    "fig = go.Figure(\n",
    "                go.Waterfall(name = \"\", orientation = \"v\", measure = df_luz_anos_casc[\"Medidas\"],\n",
    "                             y = df_luz_anos_casc[\"Variação\"], text = df_luz_anos_casc[\"Valor (texto)\"],\n",
    "                             textposition = \"outside\",\n",
    "                             connector_line = dict(color = CINZA3),\n",
    "                             totals_marker = dict(color = AZUL3),\n",
    "                             increasing_marker = dict(color = VERDE1),\n",
    "                             decreasing_marker = dict(color = VERMELHO1)\n",
    "                             )\n",
    "                )\n",
    "\n",
    "# Personalizando o gráfico\n",
    "fig.update_layout(width=1300, height=600, font_family = 'DejaVu Sans', font_size=15,\n",
    "                  font_color= CINZA2, title_font_color= CINZA1, title_font_size=24,\n",
    "                  title_text='Valor da conta de Luz' +\n",
    "                             '<br><sup size=1 style=\"color:#555655\">De 2022 a 2025 </sup>',\n",
    "                  plot_bgcolor= BRANCO, yaxis_range=[0,48000])\n",
    "\n",
    "# Retirando os ticks do eixo y\n",
    "fig.update_yaxes(showticklabels=False)\n",
    "\n",
    "# Ajustando o eixo x para receber o Total\n",
    "fig.update_xaxes(tickmode='array', tickvals=np.arange(0,12), ticktext=df_luz_anos_casc[\"ano\"])\n",
    "\n",
    "# Dados ao passar o mouse\n",
    "fig.update_traces(hovertemplate = \"<b>%{x}</b> = %{text}\")\n",
    "\n",
    "fig.add_annotation(text=\"Em <b>2023</b> o valor apresentou recuo <br> Isso porque neste periodo não tivemos <br> bandeiras <b>Vermelhas</b> ou <b>Taxas</b> \",\n",
    "                   align=\"left\", axref = 'x', ayref='y', x=1, y=10000, ax=3, ay=20100,\n",
    "                   arrowhead=1, arrowside = \"start\", showarrow=True, arrowwidth=2, arrowcolor=CINZA3,\n",
    "                   bordercolor= CINZA3, borderwidth=1, borderpad=4)\n",
    "\n",
    "\n",
    "fig.show()"
   ]
  },
  {
   "cell_type": "markdown",
   "id": "93389899",
   "metadata": {},
   "source": [
    "Este aumento pode ter sido causado pelas bandeiras da light?\n",
    "---\n",
    "A **bandeira tarifária**, que indica o **custo da geração de energia**, foi **alterada pela Agência Nacional de Energia Elétrica (ANEEL)** em **2025** nos seguintes meses, tornando a **conta de luz mais cara**:"
   ]
  },
  {
   "cell_type": "markdown",
   "id": "f47c2d9c",
   "metadata": {},
   "source": [
    "## Bandeira Tarifária — `2022`\n",
    "- **Janeiro a Abril:** Bandeira Escassez Hídrica (adicional de R$ 14,20 a cada 100 kWh consumidos)  \n",
    "- **Maio a Dezembro:** Bandeira Verde (sem cobrança extra)\n"
   ]
  },
  {
   "cell_type": "markdown",
   "id": "06b1aa03",
   "metadata": {},
   "source": [
    "## Bandeira Tarifária — `2023`\n",
    "\n",
    "Em **2023**, a bandeira tarifária para a **Light** (e para todo o país) permaneceu na **cor verde** durante **todos os meses**, o que significa que **não houve cobrança extra** na conta de luz por condições desfavoráveis de geração de energia.\n",
    "\n",
    "No entanto, é importante notar que a **Light** teve um **reajuste tarifário anual** aprovado pela **ANEEL** em **março de 2023**, que entrou em vigor no dia **15** daquele mês.  \n",
    "Esse reajuste **não está diretamente relacionado** à bandeira tarifária, que é determinada **mensalmente** com base nas **condições do sistema de energia elétrica** como um todo.\n",
    "\n",
    "A mudança nas bandeiras — como a alteração para a **bandeira amarela** ou **vermelha** — ocorreu em **outros anos**, como **2024** e **2025**, devido a **diferentes condições hidrológicas** e de **custo de geração de energia**.\n"
   ]
  },
  {
   "cell_type": "markdown",
   "id": "ced5cfb6",
   "metadata": {},
   "source": [
    "## Bandeira Tarifária — `2024`\n",
    "- **Janeiro a Julho:** Bandeira Verde  \n",
    "- **Agosto:** Bandeira Verde  \n",
    "- **Setembro:** Bandeira Vermelha Patamar 1  \n",
    "- **Outubro:** Bandeira Vermelha Patamar 2  \n",
    "- **Novembro e Dezembro:** Bandeira Verde\n"
   ]
  },
  {
   "cell_type": "markdown",
   "id": "955bb663",
   "metadata": {},
   "source": [
    "## Bandeira Tarifária — `2025`\n",
    "\n",
    "- **Maio:** Passou de verde para amarela.  \n",
    "- **Junho:** Aumentou para vermelha, **patamar 1**.  \n",
    "- **Agosto:** Chegou ao patamar mais alto, **vermelha 2**.  \n",
    "- **Setembro:** Permaneceu em **vermelha 2**.  \n",
    "- **Outubro:** Houve uma redução para **vermelha, patamar 1**.  \n",
    "\n"
   ]
  },
  {
   "cell_type": "code",
   "execution_count": 27,
   "id": "1b0b0c68",
   "metadata": {},
   "outputs": [
    {
     "data": {
      "text/html": [
       "<div>\n",
       "<style scoped>\n",
       "    .dataframe tbody tr th:only-of-type {\n",
       "        vertical-align: middle;\n",
       "    }\n",
       "\n",
       "    .dataframe tbody tr th {\n",
       "        vertical-align: top;\n",
       "    }\n",
       "\n",
       "    .dataframe thead th {\n",
       "        text-align: right;\n",
       "    }\n",
       "</style>\n",
       "<table border=\"1\" class=\"dataframe\">\n",
       "  <thead>\n",
       "    <tr style=\"text-align: right;\">\n",
       "      <th></th>\n",
       "      <th>Data</th>\n",
       "      <th>Valor</th>\n",
       "    </tr>\n",
       "  </thead>\n",
       "  <tbody>\n",
       "    <tr>\n",
       "      <th>0</th>\n",
       "      <td>2022-01-01</td>\n",
       "      <td>1558.16</td>\n",
       "    </tr>\n",
       "    <tr>\n",
       "      <th>1</th>\n",
       "      <td>2022-02-01</td>\n",
       "      <td>2278.44</td>\n",
       "    </tr>\n",
       "    <tr>\n",
       "      <th>2</th>\n",
       "      <td>2022-03-01</td>\n",
       "      <td>2541.48</td>\n",
       "    </tr>\n",
       "    <tr>\n",
       "      <th>3</th>\n",
       "      <td>2022-04-01</td>\n",
       "      <td>2410.81</td>\n",
       "    </tr>\n",
       "    <tr>\n",
       "      <th>4</th>\n",
       "      <td>2022-05-01</td>\n",
       "      <td>1455.10</td>\n",
       "    </tr>\n",
       "  </tbody>\n",
       "</table>\n",
       "</div>"
      ],
      "text/plain": [
       "        Data    Valor\n",
       "0 2022-01-01  1558.16\n",
       "1 2022-02-01  2278.44\n",
       "2 2022-03-01  2541.48\n",
       "3 2022-04-01  2410.81\n",
       "4 2022-05-01  1455.10"
      ]
     },
     "execution_count": 27,
     "metadata": {},
     "output_type": "execute_result"
    }
   ],
   "source": [
    "df_mes_valor = df.copy()\n",
    "df_mes_valor.head(5)"
   ]
  },
  {
   "cell_type": "code",
   "execution_count": 28,
   "id": "f1e41fd0",
   "metadata": {},
   "outputs": [
    {
     "data": {
      "image/png": "[encoded data removed]",
      "text/plain": [
       "<Figure size 1400x400 with 1 Axes>"
      ]
     },
     "metadata": {},
     "output_type": "display_data"
    }
   ],
   "source": [
    "\n",
    "def grafico_luz_lw():\n",
    "  # Área do gráfico e tema da visualização\n",
    "  fig, ax = plt.subplots(figsize=(14,4))\n",
    "\n",
    "  # Gráfico de linha\n",
    "  mes_alvo = 3 #Aqui passamos o mes alvo\n",
    "  pontos_a_marcar = [True if mes == mes_alvo else False for mes in df_mes_valor[\"Data\"].dt.month] #Desta forma Vamos estrair o mes da coluna desejada , com esta forma podemos só alterar o numero\n",
    "  ax.plot(df_mes_valor[\"Data\"],df_mes_valor[\"Valor\"],lw=3,color=AZUL5,marker=\"o\",markersize=10,markerfacecolor=AZUL2,markevery=pontos_a_marcar)\n",
    "\n",
    "                                           \n",
    "\n",
    "  # ## Personalizando o gráfico\n",
    "  ax.set_title('Gastos com energia elétrica em casa', fontsize = 18, color = CINZA1, loc='left',pad=60)\n",
    "  ax.text(0.3,1.2, \"De 2022 a 2025\", transform=ax.transAxes, color= CINZA2, fontsize=12, ha='right', va='center')\n",
    "  ax.set_xlabel('')\n",
    "  ax.set_ylabel('')\n",
    "  ax.set_yticklabels([])\n",
    "  ax.set_frame_on(False)\n",
    "  ax.xaxis.set_tick_params(labelsize=14, labelcolor = CINZA2)\n",
    "\n",
    "     # Remover todos os ticks do eixo x e y\n",
    "  ax.tick_params(axis='both', which='both', length=0)\n",
    "\n",
    "    # Destacando e anotando os valores para o mês de março (mes_alvo = 3)\n",
    "  for i in range(len(df_mes_valor[\"Valor\"])):\n",
    "        if df_mes_valor[\"Data\"].iloc[i].month == mes_alvo:  # Verifica se o mês é março\n",
    "            # A posição do eixo X será baseada diretamente na data\n",
    "            x_pos = df_mes_valor[\"Data\"].iloc[i]\n",
    "            x_pos = x_pos + pd.Timedelta(days=25) \n",
    "            y_pos = df_mes_valor[\"Valor\"].iloc[i] + 100  # Posicionando o texto um pouco acima do valor\n",
    "            valor_texto = f\"R$ {df_mes_valor['Valor'].iloc[i]} mil\"  # Formatação do valor\n",
    "            ax.text(x=x_pos, y=y_pos, s=valor_texto, color=AZUL2, weight=\"bold\", fontsize=10)\n",
    "\n",
    "\n",
    "  return ax\n",
    "\n",
    "ax = grafico_luz_lw()"
   ]
  },
  {
   "cell_type": "markdown",
   "id": "d28a480b",
   "metadata": {},
   "source": [
    "Vamos agora realizar uma previsões \n",
    "---\n"
   ]
  },
  {
   "cell_type": "code",
   "execution_count": 78,
   "id": "e45d4c95",
   "metadata": {},
   "outputs": [],
   "source": [
    "df_meses_prev = df_mes_valor.copy()"
   ]
  },
  {
   "cell_type": "code",
   "execution_count": 79,
   "id": "cc0b3752",
   "metadata": {},
   "outputs": [
    {
     "data": {
      "text/html": [
       "<div>\n",
       "<style scoped>\n",
       "    .dataframe tbody tr th:only-of-type {\n",
       "        vertical-align: middle;\n",
       "    }\n",
       "\n",
       "    .dataframe tbody tr th {\n",
       "        vertical-align: top;\n",
       "    }\n",
       "\n",
       "    .dataframe thead th {\n",
       "        text-align: right;\n",
       "    }\n",
       "</style>\n",
       "<table border=\"1\" class=\"dataframe\">\n",
       "  <thead>\n",
       "    <tr style=\"text-align: right;\">\n",
       "      <th></th>\n",
       "      <th>Data</th>\n",
       "      <th>Valor</th>\n",
       "    </tr>\n",
       "  </thead>\n",
       "  <tbody>\n",
       "    <tr>\n",
       "      <th>0</th>\n",
       "      <td>2022-01-01</td>\n",
       "      <td>1558.16</td>\n",
       "    </tr>\n",
       "    <tr>\n",
       "      <th>1</th>\n",
       "      <td>2022-02-01</td>\n",
       "      <td>2278.44</td>\n",
       "    </tr>\n",
       "    <tr>\n",
       "      <th>2</th>\n",
       "      <td>2022-03-01</td>\n",
       "      <td>2541.48</td>\n",
       "    </tr>\n",
       "    <tr>\n",
       "      <th>3</th>\n",
       "      <td>2022-04-01</td>\n",
       "      <td>2410.81</td>\n",
       "    </tr>\n",
       "    <tr>\n",
       "      <th>4</th>\n",
       "      <td>2022-05-01</td>\n",
       "      <td>1455.10</td>\n",
       "    </tr>\n",
       "  </tbody>\n",
       "</table>\n",
       "</div>"
      ],
      "text/plain": [
       "        Data    Valor\n",
       "0 2022-01-01  1558.16\n",
       "1 2022-02-01  2278.44\n",
       "2 2022-03-01  2541.48\n",
       "3 2022-04-01  2410.81\n",
       "4 2022-05-01  1455.10"
      ]
     },
     "execution_count": 79,
     "metadata": {},
     "output_type": "execute_result"
    }
   ],
   "source": [
    "df_meses_prev.head()"
   ]
  },
  {
   "cell_type": "code",
   "execution_count": 80,
   "id": "0f5afea4",
   "metadata": {},
   "outputs": [],
   "source": [
    "df_meses_prev = df_meses_prev.set_index('Data')\n",
    "df_meses_prev = df_meses_prev.sort_index()"
   ]
  },
  {
   "cell_type": "code",
   "execution_count": 82,
   "id": "1dce4ecd",
   "metadata": {},
   "outputs": [],
   "source": [
    "df_resampled = df_meses_prev.resample('MS').mean()"
   ]
  },
  {
   "cell_type": "code",
   "execution_count": null,
   "id": "444ad8df",
   "metadata": {},
   "outputs": [
    {
     "data": {
      "text/html": [
       "<div>\n",
       "<style scoped>\n",
       "    .dataframe tbody tr th:only-of-type {\n",
       "        vertical-align: middle;\n",
       "    }\n",
       "\n",
       "    .dataframe tbody tr th {\n",
       "        vertical-align: top;\n",
       "    }\n",
       "\n",
       "    .dataframe thead th {\n",
       "        text-align: right;\n",
       "    }\n",
       "</style>\n",
       "<table border=\"1\" class=\"dataframe\">\n",
       "  <thead>\n",
       "    <tr style=\"text-align: right;\">\n",
       "      <th></th>\n",
       "      <th>Valor</th>\n",
       "    </tr>\n",
       "    <tr>\n",
       "      <th>Data</th>\n",
       "      <th></th>\n",
       "    </tr>\n",
       "  </thead>\n",
       "  <tbody>\n",
       "    <tr>\n",
       "      <th>2022-01-01</th>\n",
       "      <td>1558.16</td>\n",
       "    </tr>\n",
       "    <tr>\n",
       "      <th>2022-02-01</th>\n",
       "      <td>2278.44</td>\n",
       "    </tr>\n",
       "    <tr>\n",
       "      <th>2022-03-01</th>\n",
       "      <td>2541.48</td>\n",
       "    </tr>\n",
       "    <tr>\n",
       "      <th>2022-04-01</th>\n",
       "      <td>2410.81</td>\n",
       "    </tr>\n",
       "    <tr>\n",
       "      <th>2022-05-01</th>\n",
       "      <td>1455.10</td>\n",
       "    </tr>\n",
       "    <tr>\n",
       "      <th>2022-06-01</th>\n",
       "      <td>1013.27</td>\n",
       "    </tr>\n",
       "    <tr>\n",
       "      <th>2022-07-01</th>\n",
       "      <td>742.55</td>\n",
       "    </tr>\n",
       "    <tr>\n",
       "      <th>2022-08-01</th>\n",
       "      <td>906.23</td>\n",
       "    </tr>\n",
       "    <tr>\n",
       "      <th>2022-09-01</th>\n",
       "      <td>739.06</td>\n",
       "    </tr>\n",
       "    <tr>\n",
       "      <th>2022-10-01</th>\n",
       "      <td>763.29</td>\n",
       "    </tr>\n",
       "    <tr>\n",
       "      <th>2022-11-01</th>\n",
       "      <td>1138.73</td>\n",
       "    </tr>\n",
       "    <tr>\n",
       "      <th>2022-12-01</th>\n",
       "      <td>1521.52</td>\n",
       "    </tr>\n",
       "    <tr>\n",
       "      <th>2023-01-01</th>\n",
       "      <td>672.45</td>\n",
       "    </tr>\n",
       "    <tr>\n",
       "      <th>2023-02-01</th>\n",
       "      <td>545.58</td>\n",
       "    </tr>\n",
       "    <tr>\n",
       "      <th>2023-03-01</th>\n",
       "      <td>1382.26</td>\n",
       "    </tr>\n",
       "    <tr>\n",
       "      <th>2023-04-01</th>\n",
       "      <td>848.41</td>\n",
       "    </tr>\n",
       "    <tr>\n",
       "      <th>2023-05-01</th>\n",
       "      <td>823.37</td>\n",
       "    </tr>\n",
       "    <tr>\n",
       "      <th>2023-06-01</th>\n",
       "      <td>415.62</td>\n",
       "    </tr>\n",
       "    <tr>\n",
       "      <th>2023-07-01</th>\n",
       "      <td>276.69</td>\n",
       "    </tr>\n",
       "    <tr>\n",
       "      <th>2023-08-01</th>\n",
       "      <td>214.44</td>\n",
       "    </tr>\n",
       "    <tr>\n",
       "      <th>2023-09-01</th>\n",
       "      <td>304.00</td>\n",
       "    </tr>\n",
       "    <tr>\n",
       "      <th>2023-10-01</th>\n",
       "      <td>356.92</td>\n",
       "    </tr>\n",
       "    <tr>\n",
       "      <th>2023-11-01</th>\n",
       "      <td>499.03</td>\n",
       "    </tr>\n",
       "    <tr>\n",
       "      <th>2023-12-01</th>\n",
       "      <td>936.04</td>\n",
       "    </tr>\n",
       "    <tr>\n",
       "      <th>2024-01-01</th>\n",
       "      <td>663.86</td>\n",
       "    </tr>\n",
       "    <tr>\n",
       "      <th>2024-02-01</th>\n",
       "      <td>232.71</td>\n",
       "    </tr>\n",
       "    <tr>\n",
       "      <th>2024-03-01</th>\n",
       "      <td>1154.22</td>\n",
       "    </tr>\n",
       "    <tr>\n",
       "      <th>2024-04-01</th>\n",
       "      <td>994.55</td>\n",
       "    </tr>\n",
       "    <tr>\n",
       "      <th>2024-05-01</th>\n",
       "      <td>1160.03</td>\n",
       "    </tr>\n",
       "    <tr>\n",
       "      <th>2024-06-01</th>\n",
       "      <td>1168.06</td>\n",
       "    </tr>\n",
       "    <tr>\n",
       "      <th>2024-07-01</th>\n",
       "      <td>726.95</td>\n",
       "    </tr>\n",
       "    <tr>\n",
       "      <th>2024-08-01</th>\n",
       "      <td>399.92</td>\n",
       "    </tr>\n",
       "    <tr>\n",
       "      <th>2024-09-01</th>\n",
       "      <td>NaN</td>\n",
       "    </tr>\n",
       "    <tr>\n",
       "      <th>2024-10-01</th>\n",
       "      <td>898.74</td>\n",
       "    </tr>\n",
       "    <tr>\n",
       "      <th>2024-11-01</th>\n",
       "      <td>563.11</td>\n",
       "    </tr>\n",
       "    <tr>\n",
       "      <th>2024-12-01</th>\n",
       "      <td>928.00</td>\n",
       "    </tr>\n",
       "    <tr>\n",
       "      <th>2025-01-01</th>\n",
       "      <td>974.97</td>\n",
       "    </tr>\n",
       "    <tr>\n",
       "      <th>2025-02-01</th>\n",
       "      <td>1314.00</td>\n",
       "    </tr>\n",
       "    <tr>\n",
       "      <th>2025-03-01</th>\n",
       "      <td>2306.17</td>\n",
       "    </tr>\n",
       "    <tr>\n",
       "      <th>2025-04-01</th>\n",
       "      <td>1420.96</td>\n",
       "    </tr>\n",
       "    <tr>\n",
       "      <th>2025-05-01</th>\n",
       "      <td>1144.11</td>\n",
       "    </tr>\n",
       "    <tr>\n",
       "      <th>2025-06-01</th>\n",
       "      <td>993.71</td>\n",
       "    </tr>\n",
       "    <tr>\n",
       "      <th>2025-07-01</th>\n",
       "      <td>872.77</td>\n",
       "    </tr>\n",
       "    <tr>\n",
       "      <th>2025-08-01</th>\n",
       "      <td>469.01</td>\n",
       "    </tr>\n",
       "    <tr>\n",
       "      <th>2025-09-01</th>\n",
       "      <td>561.02</td>\n",
       "    </tr>\n",
       "    <tr>\n",
       "      <th>2025-10-01</th>\n",
       "      <td>647.18</td>\n",
       "    </tr>\n",
       "  </tbody>\n",
       "</table>\n",
       "</div>"
      ],
      "text/plain": [
       "              Valor\n",
       "Data               \n",
       "2022-01-01  1558.16\n",
       "2022-02-01  2278.44\n",
       "2022-03-01  2541.48\n",
       "2022-04-01  2410.81\n",
       "2022-05-01  1455.10\n",
       "2022-06-01  1013.27\n",
       "2022-07-01   742.55\n",
       "2022-08-01   906.23\n",
       "2022-09-01   739.06\n",
       "2022-10-01   763.29\n",
       "2022-11-01  1138.73\n",
       "2022-12-01  1521.52\n",
       "2023-01-01   672.45\n",
       "2023-02-01   545.58\n",
       "2023-03-01  1382.26\n",
       "2023-04-01   848.41\n",
       "2023-05-01   823.37\n",
       "2023-06-01   415.62\n",
       "2023-07-01   276.69\n",
       "2023-08-01   214.44\n",
       "2023-09-01   304.00\n",
       "2023-10-01   356.92\n",
       "2023-11-01   499.03\n",
       "2023-12-01   936.04\n",
       "2024-01-01   663.86\n",
       "2024-02-01   232.71\n",
       "2024-03-01  1154.22\n",
       "2024-04-01   994.55\n",
       "2024-05-01  1160.03\n",
       "2024-06-01  1168.06\n",
       "2024-07-01   726.95\n",
       "2024-08-01   399.92\n",
       "2024-09-01      NaN\n",
       "2024-10-01   898.74\n",
       "2024-11-01   563.11\n",
       "2024-12-01   928.00\n",
       "2025-01-01   974.97\n",
       "2025-02-01  1314.00\n",
       "2025-03-01  2306.17\n",
       "2025-04-01  1420.96\n",
       "2025-05-01  1144.11\n",
       "2025-06-01   993.71\n",
       "2025-07-01   872.77\n",
       "2025-08-01   469.01\n",
       "2025-09-01   561.02\n",
       "2025-10-01   647.18"
      ]
     },
     "execution_count": 83,
     "metadata": {},
     "output_type": "execute_result"
    }
   ],
   "source": [
    "df_resampled.tail(46) # Descobrimos que Temos um mes faltando na base de dados 2024-09-01\tNaN"
   ]
  },
  {
   "cell_type": "code",
   "execution_count": 116,
   "id": "27191269",
   "metadata": {},
   "outputs": [],
   "source": [
    "df_clean = df_resampled.interpolate(method='time')"
   ]
  },
  {
   "cell_type": "markdown",
   "id": "be1e9163",
   "metadata": {},
   "source": [
    "Após usar df_resampled.interpolate(method='time'), o valor ausente (NaN) em 2024-09-01 será preenchido com uma interpolação linear, levando em consideração o valor entre as observações de 2024-08-01 e 2024-10-01"
   ]
  },
  {
   "cell_type": "code",
   "execution_count": 117,
   "id": "f8a78b93",
   "metadata": {},
   "outputs": [
    {
     "name": "stdout",
     "output_type": "stream",
     "text": [
      "--- Dados Limpos e Reamostrados ---\n",
      "              Valor\n",
      "Data               \n",
      "2022-01-01  1558.16\n",
      "2022-02-01  2278.44\n",
      "2022-03-01  2541.48\n",
      "2022-04-01  2410.81\n",
      "2022-05-01  1455.10\n",
      "\n",
      "Verificando o mês que faltava (índice 32):\n",
      "                 Valor\n",
      "Data                  \n",
      "2024-08-01  399.920000\n",
      "2024-09-01  653.418689\n",
      "2024-10-01  898.740000\n"
     ]
    }
   ],
   "source": [
    "print(\"--- Dados Limpos e Reamostrados ---\")\n",
    "print(df_clean.head())\n",
    "print(\"\\nVerificando o mês que faltava (índice 32):\")\n",
    "# O mês '2024-09-01' agora existe e tem um valor interpolado.\n",
    "print(df_clean.iloc[31:34])"
   ]
  },
  {
   "cell_type": "code",
   "execution_count": 118,
   "id": "fb19b908",
   "metadata": {},
   "outputs": [],
   "source": [
    "# 5. Criar a base de modelagem\n",
    "df_model = df_clean.copy()\n",
    "\n",
    "# Feature 1: Tendência (Time Step)\n",
    "# O seu 'Meses'. É a forma mais simples de capturar a tendência.\n",
    "# Usar np.arange é um pouco mais limpo que o cálculo manual.\n",
    "df_model['time_step'] = np.arange(len(df_model.index))\n",
    "\n",
    "# Feature 2: Sazonalidade (Mês)\n",
    "# A mais importante. Diz ao modelo que 'Janeiro' é sempre '1'.\n",
    "df_model['mes'] = df_model.index.month"
   ]
  },
  {
   "cell_type": "code",
   "execution_count": 119,
   "id": "28b80b9c",
   "metadata": {},
   "outputs": [
    {
     "data": {
      "text/html": [
       "<div>\n",
       "<style scoped>\n",
       "    .dataframe tbody tr th:only-of-type {\n",
       "        vertical-align: middle;\n",
       "    }\n",
       "\n",
       "    .dataframe tbody tr th {\n",
       "        vertical-align: top;\n",
       "    }\n",
       "\n",
       "    .dataframe thead th {\n",
       "        text-align: right;\n",
       "    }\n",
       "</style>\n",
       "<table border=\"1\" class=\"dataframe\">\n",
       "  <thead>\n",
       "    <tr style=\"text-align: right;\">\n",
       "      <th></th>\n",
       "      <th>Valor</th>\n",
       "      <th>time_step</th>\n",
       "      <th>mes</th>\n",
       "    </tr>\n",
       "    <tr>\n",
       "      <th>Data</th>\n",
       "      <th></th>\n",
       "      <th></th>\n",
       "      <th></th>\n",
       "    </tr>\n",
       "  </thead>\n",
       "  <tbody>\n",
       "    <tr>\n",
       "      <th>2022-01-01</th>\n",
       "      <td>1558.16</td>\n",
       "      <td>0</td>\n",
       "      <td>1</td>\n",
       "    </tr>\n",
       "    <tr>\n",
       "      <th>2022-02-01</th>\n",
       "      <td>2278.44</td>\n",
       "      <td>1</td>\n",
       "      <td>2</td>\n",
       "    </tr>\n",
       "    <tr>\n",
       "      <th>2022-03-01</th>\n",
       "      <td>2541.48</td>\n",
       "      <td>2</td>\n",
       "      <td>3</td>\n",
       "    </tr>\n",
       "    <tr>\n",
       "      <th>2022-04-01</th>\n",
       "      <td>2410.81</td>\n",
       "      <td>3</td>\n",
       "      <td>4</td>\n",
       "    </tr>\n",
       "    <tr>\n",
       "      <th>2022-05-01</th>\n",
       "      <td>1455.10</td>\n",
       "      <td>4</td>\n",
       "      <td>5</td>\n",
       "    </tr>\n",
       "    <tr>\n",
       "      <th>2022-06-01</th>\n",
       "      <td>1013.27</td>\n",
       "      <td>5</td>\n",
       "      <td>6</td>\n",
       "    </tr>\n",
       "    <tr>\n",
       "      <th>2022-07-01</th>\n",
       "      <td>742.55</td>\n",
       "      <td>6</td>\n",
       "      <td>7</td>\n",
       "    </tr>\n",
       "    <tr>\n",
       "      <th>2022-08-01</th>\n",
       "      <td>906.23</td>\n",
       "      <td>7</td>\n",
       "      <td>8</td>\n",
       "    </tr>\n",
       "    <tr>\n",
       "      <th>2022-09-01</th>\n",
       "      <td>739.06</td>\n",
       "      <td>8</td>\n",
       "      <td>9</td>\n",
       "    </tr>\n",
       "    <tr>\n",
       "      <th>2022-10-01</th>\n",
       "      <td>763.29</td>\n",
       "      <td>9</td>\n",
       "      <td>10</td>\n",
       "    </tr>\n",
       "  </tbody>\n",
       "</table>\n",
       "</div>"
      ],
      "text/plain": [
       "              Valor  time_step  mes\n",
       "Data                               \n",
       "2022-01-01  1558.16          0    1\n",
       "2022-02-01  2278.44          1    2\n",
       "2022-03-01  2541.48          2    3\n",
       "2022-04-01  2410.81          3    4\n",
       "2022-05-01  1455.10          4    5\n",
       "2022-06-01  1013.27          5    6\n",
       "2022-07-01   742.55          6    7\n",
       "2022-08-01   906.23          7    8\n",
       "2022-09-01   739.06          8    9\n",
       "2022-10-01   763.29          9   10"
      ]
     },
     "execution_count": 119,
     "metadata": {},
     "output_type": "execute_result"
    }
   ],
   "source": [
    "df_model.head(10)"
   ]
  },
  {
   "cell_type": "code",
   "execution_count": 120,
   "id": "4f2a3c4e",
   "metadata": {},
   "outputs": [
    {
     "name": "stdout",
     "output_type": "stream",
     "text": [
      "--- DataFrame com Engenharia de Atributos ---\n",
      "              Valor  time_step  mes   ano  valor_lag_1\n",
      "Data                                                  \n",
      "2022-02-01  2278.44          1    2  2022      1558.16\n",
      "2022-03-01  2541.48          2    3  2022      2278.44\n",
      "2022-04-01  2410.81          3    4  2022      2541.48\n",
      "2022-05-01  1455.10          4    5  2022      2410.81\n",
      "2022-06-01  1013.27          5    6  2022      1455.10\n"
     ]
    }
   ],
   "source": [
    "# Feature 3: Sazonalidade (Ano)\n",
    "# Captura tendências de longo prazo.\n",
    "df_model['ano'] = df_model.index.year\n",
    "\n",
    "# Feature 4: Autocorrelação (Lags)\n",
    "# O valor de hoje é provavelmente parecido com o de ontem.\n",
    "# 'shift(1)' usa o valor do mês anterior.\n",
    "df_model['valor_lag_1'] = df_model['Valor'].shift(1)\n",
    "\n",
    "# Ao criar lags, a primeira linha se torna NaN. Vamos removê-la.\n",
    "df_model = df_model.dropna()\n",
    "\n",
    "print(\"--- DataFrame com Engenharia de Atributos ---\")\n",
    "print(df_model.head(5))"
   ]
  },
  {
   "cell_type": "code",
   "execution_count": 121,
   "id": "d5d48632",
   "metadata": {},
   "outputs": [
    {
     "data": {
      "text/html": [
       "<div>\n",
       "<style scoped>\n",
       "    .dataframe tbody tr th:only-of-type {\n",
       "        vertical-align: middle;\n",
       "    }\n",
       "\n",
       "    .dataframe tbody tr th {\n",
       "        vertical-align: top;\n",
       "    }\n",
       "\n",
       "    .dataframe thead th {\n",
       "        text-align: right;\n",
       "    }\n",
       "</style>\n",
       "<table border=\"1\" class=\"dataframe\">\n",
       "  <thead>\n",
       "    <tr style=\"text-align: right;\">\n",
       "      <th></th>\n",
       "      <th>Valor</th>\n",
       "      <th>time_step</th>\n",
       "      <th>mes</th>\n",
       "      <th>ano</th>\n",
       "      <th>valor_lag_1</th>\n",
       "    </tr>\n",
       "    <tr>\n",
       "      <th>Data</th>\n",
       "      <th></th>\n",
       "      <th></th>\n",
       "      <th></th>\n",
       "      <th></th>\n",
       "      <th></th>\n",
       "    </tr>\n",
       "  </thead>\n",
       "  <tbody>\n",
       "    <tr>\n",
       "      <th>2022-02-01</th>\n",
       "      <td>2278.44</td>\n",
       "      <td>1</td>\n",
       "      <td>2</td>\n",
       "      <td>2022</td>\n",
       "      <td>1558.16</td>\n",
       "    </tr>\n",
       "    <tr>\n",
       "      <th>2022-03-01</th>\n",
       "      <td>2541.48</td>\n",
       "      <td>2</td>\n",
       "      <td>3</td>\n",
       "      <td>2022</td>\n",
       "      <td>2278.44</td>\n",
       "    </tr>\n",
       "    <tr>\n",
       "      <th>2022-04-01</th>\n",
       "      <td>2410.81</td>\n",
       "      <td>3</td>\n",
       "      <td>4</td>\n",
       "      <td>2022</td>\n",
       "      <td>2541.48</td>\n",
       "    </tr>\n",
       "    <tr>\n",
       "      <th>2022-05-01</th>\n",
       "      <td>1455.10</td>\n",
       "      <td>4</td>\n",
       "      <td>5</td>\n",
       "      <td>2022</td>\n",
       "      <td>2410.81</td>\n",
       "    </tr>\n",
       "    <tr>\n",
       "      <th>2022-06-01</th>\n",
       "      <td>1013.27</td>\n",
       "      <td>5</td>\n",
       "      <td>6</td>\n",
       "      <td>2022</td>\n",
       "      <td>1455.10</td>\n",
       "    </tr>\n",
       "  </tbody>\n",
       "</table>\n",
       "</div>"
      ],
      "text/plain": [
       "              Valor  time_step  mes   ano  valor_lag_1\n",
       "Data                                                  \n",
       "2022-02-01  2278.44          1    2  2022      1558.16\n",
       "2022-03-01  2541.48          2    3  2022      2278.44\n",
       "2022-04-01  2410.81          3    4  2022      2541.48\n",
       "2022-05-01  1455.10          4    5  2022      2410.81\n",
       "2022-06-01  1013.27          5    6  2022      1455.10"
      ]
     },
     "execution_count": 121,
     "metadata": {},
     "output_type": "execute_result"
    }
   ],
   "source": [
    "df_model.head(5)"
   ]
  },
  {
   "cell_type": "code",
   "execution_count": 125,
   "id": "2217cdaf",
   "metadata": {},
   "outputs": [
    {
     "name": "stdout",
     "output_type": "stream",
     "text": [
      "Tamanho do Treino: 36 amostras (passado)\n",
      "Tamanho do Teste:  9 amostras (futuro)\n"
     ]
    }
   ],
   "source": [
    "# 6. Definir Features (X) e Alvo (y)\n",
    "features = ['time_step', 'mes', 'ano', 'valor_lag_1']\n",
    "target = 'Valor'\n",
    "\n",
    "X = df_model[features]\n",
    "y = df_model[target]\n",
    "\n",
    "# 7. Dividir os dados\n",
    "# Usaremos 80% para treino e 20% para teste.\n",
    "# SHUFFLE=FALSE é obrigatório para séries temporais, garantindo que os dados de treino sempre sejam do \"passado\" e os de teste do \"futuro\".\n",
    "#Iremos printar apenas para testes para saber as divisões\n",
    "from sklearn.model_selection import train_test_split\n",
    "\n",
    "X_train, X_test, y_train, y_test = train_test_split(\n",
    "    X, y, test_size=0.2, shuffle=False\n",
    ")\n",
    "\n",
    "print(f\"Tamanho do Treino: {len(X_train)} amostras (passado)\")\n",
    "print(f\"Tamanho do Teste:  {len(X_test)} amostras (futuro)\")\n"
   ]
  },
  {
   "cell_type": "code",
   "execution_count": 127,
   "id": "f1f04c8e",
   "metadata": {},
   "outputs": [
    {
     "name": "stdout",
     "output_type": "stream",
     "text": [
      "\n",
      "--- Avaliação do Modelo (RMSE): 481.70 ---\n",
      "Isso significa que as previsões do modelo no teste erraram, em média, R$ 223.51.\n"
     ]
    }
   ],
   "source": [
    "# 8. Treinar o modelo\n",
    "#Agora, vamos treinar o modelo apenas nos dados de treino e ver o quão bem ele se sai nos dados de teste (que ele nunca viu).\n",
    "from sklearn.metrics import mean_squared_error\n",
    "model = LinearRegression()\n",
    "model.fit(X_train, y_train)\n",
    "\n",
    "# 9. Fazer previsões no conjunto de teste\n",
    "y_pred = model.predict(X_test)\n",
    "\n",
    "# 10. Avaliar o modelo\n",
    "# RMSE (Root Mean Squared Error) nos diz o erro médio em 'Reais'.\n",
    "rmse = np.sqrt(mean_squared_error(y_test, y_pred))\n",
    "print(f\"\\n--- Avaliação do Modelo (RMSE): {rmse:.2f} ---\")\n",
    "print(\"Isso significa que as previsões do modelo no teste erraram, em média, R$ 223.51.\")"
   ]
  },
  {
   "cell_type": "code",
   "execution_count": 128,
   "id": "d52008cf",
   "metadata": {},
   "outputs": [
    {
     "data": {
      "image/png": "[encoded data removed]",
      "text/plain": [
       "<Figure size 1200x600 with 1 Axes>"
      ]
     },
     "metadata": {},
     "output_type": "display_data"
    }
   ],
   "source": [
    "# 11. Criar DataFrame de resultados para plotagem\n",
    "df_results = pd.DataFrame({\n",
    "    'Data': X_test.index,\n",
    "    'Valor Real': y_test,\n",
    "    'Valor Previsto': y_pred\n",
    "}).set_index('Data')\n",
    "\n",
    "# 12. Plotar a validação (Knaflic)\n",
    "fig, ax = plt.subplots(figsize=(12, 6))\n",
    "ax.plot(df_results['Valor Real'], label='Valor Real', color='#0072B2', marker='o', markersize=5)\n",
    "ax.plot(df_results['Valor Previsto'], label='Valor Previsto', color='#D55E00', linestyle='--', marker='x', markersize=5)\n",
    "\n",
    "ax.set_title('Validação do Modelo: Real vs. Previsto (Dados de Teste)', loc='left', fontsize=16, pad=20)\n",
    "ax.set_ylabel('Valor')\n",
    "ax.legend()\n",
    "ax.spines['top'].set_visible(False)\n",
    "ax.spines['right'].set_visible(False)\n",
    "ax.grid(axis='y', linestyle='--', alpha=0.7)\n",
    "\n",
    "plt.tight_layout()\n",
    "plt.savefig('validacao_modelo.png')"
   ]
  },
  {
   "cell_type": "code",
   "execution_count": 129,
   "id": "a1326e83",
   "metadata": {},
   "outputs": [
    {
     "name": "stdout",
     "output_type": "stream",
     "text": [
      "\n",
      "--- Previsões Futuras ---\n",
      "                 Valor\n",
      "Data                  \n",
      "2025-11-01  628.435536\n",
      "2025-12-01  604.077676\n",
      "2026-01-01  683.960751\n",
      "2026-02-01  724.423955\n",
      "2026-03-01  738.979204\n",
      "2026-04-01  736.506943\n",
      "2026-05-01  722.843677\n",
      "2026-06-01  701.825338\n",
      "2026-07-01  675.973017\n",
      "2026-08-01  646.943653\n",
      "2026-09-01  615.826240\n",
      "2026-10-01  583.336495\n"
     ]
    },
    {
     "name": "stderr",
     "output_type": "stream",
     "text": [
      "c:\\Users\\oneplayer\\miniconda3\\envs\\testes\\lib\\site-packages\\sklearn\\utils\\validation.py:2749: UserWarning:\n",
      "\n",
      "X does not have valid feature names, but LinearRegression was fitted with feature names\n",
      "\n",
      "c:\\Users\\oneplayer\\miniconda3\\envs\\testes\\lib\\site-packages\\sklearn\\utils\\validation.py:2749: UserWarning:\n",
      "\n",
      "X does not have valid feature names, but LinearRegression was fitted with feature names\n",
      "\n",
      "c:\\Users\\oneplayer\\miniconda3\\envs\\testes\\lib\\site-packages\\sklearn\\utils\\validation.py:2749: UserWarning:\n",
      "\n",
      "X does not have valid feature names, but LinearRegression was fitted with feature names\n",
      "\n",
      "c:\\Users\\oneplayer\\miniconda3\\envs\\testes\\lib\\site-packages\\sklearn\\utils\\validation.py:2749: UserWarning:\n",
      "\n",
      "X does not have valid feature names, but LinearRegression was fitted with feature names\n",
      "\n",
      "c:\\Users\\oneplayer\\miniconda3\\envs\\testes\\lib\\site-packages\\sklearn\\utils\\validation.py:2749: UserWarning:\n",
      "\n",
      "X does not have valid feature names, but LinearRegression was fitted with feature names\n",
      "\n",
      "c:\\Users\\oneplayer\\miniconda3\\envs\\testes\\lib\\site-packages\\sklearn\\utils\\validation.py:2749: UserWarning:\n",
      "\n",
      "X does not have valid feature names, but LinearRegression was fitted with feature names\n",
      "\n",
      "c:\\Users\\oneplayer\\miniconda3\\envs\\testes\\lib\\site-packages\\sklearn\\utils\\validation.py:2749: UserWarning:\n",
      "\n",
      "X does not have valid feature names, but LinearRegression was fitted with feature names\n",
      "\n",
      "c:\\Users\\oneplayer\\miniconda3\\envs\\testes\\lib\\site-packages\\sklearn\\utils\\validation.py:2749: UserWarning:\n",
      "\n",
      "X does not have valid feature names, but LinearRegression was fitted with feature names\n",
      "\n",
      "c:\\Users\\oneplayer\\miniconda3\\envs\\testes\\lib\\site-packages\\sklearn\\utils\\validation.py:2749: UserWarning:\n",
      "\n",
      "X does not have valid feature names, but LinearRegression was fitted with feature names\n",
      "\n",
      "c:\\Users\\oneplayer\\miniconda3\\envs\\testes\\lib\\site-packages\\sklearn\\utils\\validation.py:2749: UserWarning:\n",
      "\n",
      "X does not have valid feature names, but LinearRegression was fitted with feature names\n",
      "\n",
      "c:\\Users\\oneplayer\\miniconda3\\envs\\testes\\lib\\site-packages\\sklearn\\utils\\validation.py:2749: UserWarning:\n",
      "\n",
      "X does not have valid feature names, but LinearRegression was fitted with feature names\n",
      "\n",
      "c:\\Users\\oneplayer\\miniconda3\\envs\\testes\\lib\\site-packages\\sklearn\\utils\\validation.py:2749: UserWarning:\n",
      "\n",
      "X does not have valid feature names, but LinearRegression was fitted with feature names\n",
      "\n"
     ]
    }
   ],
   "source": [
    "# 13. Treinar o modelo FINAL com TODOS os dados\n",
    "model_final = LinearRegression()\n",
    "model_final.fit(X, y) # X e y completos\n",
    "\n",
    "# 14. Preparar o loop de previsão\n",
    "n_forecast = 12 # Vamos prever os próximos 12 meses\n",
    "future_predictions = []\n",
    "last_date = df_model.index[-1]\n",
    "last_known_data = df_model.iloc[-1].copy()\n",
    "\n",
    "# 15. Loop autoregressivo (McKinney avançado)\n",
    "for i in range(n_forecast):\n",
    "    # 1. Preparar as features do próximo mês\n",
    "    next_date = last_date + pd.DateOffset(months=1)\n",
    "    next_time_step = last_known_data['time_step'] + 1\n",
    "    next_mes = next_date.month\n",
    "    next_ano = next_date.year\n",
    "    # O 'lag' é o valor do passo anterior\n",
    "    next_lag_1 = last_known_data['Valor'] \n",
    "    \n",
    "    # Criar o array de features para prever\n",
    "    X_future = np.array([[\n",
    "        next_time_step,\n",
    "        next_mes,\n",
    "        next_ano,\n",
    "        next_lag_1\n",
    "    ]])\n",
    "    \n",
    "    # 2. Fazer a previsão\n",
    "    next_pred = model_final.predict(X_future)[0]\n",
    "    \n",
    "    # 3. Salvar a previsão\n",
    "    future_predictions.append((next_date, next_pred))\n",
    "    \n",
    "    # 4. Atualizar o 'last_known_data' para a próxima iteração\n",
    "    # O valor previsto se torna o 'lag' do próximo loop\n",
    "    last_known_data['Valor'] = next_pred # CRUCIAL\n",
    "    last_known_data['time_step'] = next_time_step\n",
    "    last_date = next_date\n",
    "\n",
    "# 16. Criar o DataFrame de previsões\n",
    "df_forecast = pd.DataFrame(future_predictions, columns=['Data', 'Valor'])\n",
    "df_forecast = df_forecast.set_index('Data')\n",
    "\n",
    "print(\"\\n--- Previsões Futuras ---\")\n",
    "print(df_forecast)"
   ]
  },
  {
   "cell_type": "code",
   "execution_count": 130,
   "id": "a030cf04",
   "metadata": {},
   "outputs": [
    {
     "data": {
      "image/png": "[encoded data removed]",
      "text/plain": [
       "<Figure size 1400x700 with 1 Axes>"
      ]
     },
     "metadata": {},
     "output_type": "display_data"
    }
   ],
   "source": [
    "# 17. Preparar dados para o gráfico final\n",
    "df_model['Tipo'] = 'Histórico'\n",
    "df_forecast['Tipo'] = 'Previsão'\n",
    "\n",
    "df_grafico_final = pd.concat([df_model, df_forecast])\n",
    "\n",
    "# 18. Plotar o gráfico final (Knaflic)\n",
    "fig, ax = plt.subplots(figsize=(14, 7))\n",
    "ax.plot(\n",
    "    df_grafico_final[df_grafico_final['Tipo'] == 'Histórico'].index,\n",
    "    df_grafico_final[df_grafico_final['Tipo'] == 'Histórico']['Valor'],\n",
    "    label='Histórico', \n",
    "    color='#0072B2',\n",
    "    linewidth=2\n",
    ")\n",
    "ax.plot(\n",
    "    df_grafico_final[df_grafico_final['Tipo'] == 'Previsão'].index,\n",
    "    df_grafico_final[df_grafico_final['Tipo'] == 'Previsão']['Valor'],\n",
    "    label='Previsão', \n",
    "    color='#D55E00', \n",
    "    linestyle='--',\n",
    "    linewidth=2,\n",
    "    marker='o',\n",
    "    markersize=4\n",
    ")\n",
    "\n",
    "# Adicionar uma linha vertical para separar o histórico da previsão\n",
    "ax.axvline(df_model.index[-1], color='gray', linestyle=':', linewidth=1.5)\n",
    "\n",
    "ax.set_title('Previsão de Valor (Próximos 12 Meses)', loc='left', fontsize=18, pad=20)\n",
    "ax.set_ylabel('Valor')\n",
    "ax.legend()\n",
    "ax.spines['top'].set_visible(False)\n",
    "ax.spines['right'].set_visible(False)\n",
    "ax.grid(axis='y', linestyle='--', alpha=0.7)\n",
    "\n",
    "plt.tight_layout()\n",
    "plt.savefig('previsao_final.png')"
   ]
  }
 ],
 "metadata": {
  "kernelspec": {
   "display_name": "testes",
   "language": "python",
   "name": "python3"
  },
  "language_info": {
   "codemirror_mode": {
    "name": "ipython",
    "version": 3
   },
   "file_extension": ".py",
   "mimetype": "text/x-python",
   "name": "python",
   "nbconvert_exporter": "python",
   "pygments_lexer": "ipython3",
   "version": "3.10.18"
  }
 },
 "nbformat": 4,
 "nbformat_minor": 5
}
