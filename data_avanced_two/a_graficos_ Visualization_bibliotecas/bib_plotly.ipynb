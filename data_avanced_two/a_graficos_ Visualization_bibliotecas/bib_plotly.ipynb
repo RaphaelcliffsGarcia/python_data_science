{
 "cells": [
  {
   "cell_type": "markdown",
   "id": "ea79c4f6",
   "metadata": {},
   "source": [
    "## <font color=#F8F8FF> Biblioteca Plotli\n",
    "---\n",
    "\n",
    "\n"
   ]
  },
  {
   "cell_type": "code",
   "execution_count": 3,
   "id": "b3c97299",
   "metadata": {},
   "outputs": [],
   "source": [
    "import pandas as pd\n",
    "import matplotlib.pyplot as plt\n",
    "import numpy as np\n",
    "import seaborn as sns\n",
    "import plotly.express as px"
   ]
  },
  {
   "cell_type": "code",
   "execution_count": 4,
   "id": "5fdc69c2",
   "metadata": {},
   "outputs": [
    {
     "data": {
      "text/html": [
       "<div>\n",
       "<style scoped>\n",
       "    .dataframe tbody tr th:only-of-type {\n",
       "        vertical-align: middle;\n",
       "    }\n",
       "\n",
       "    .dataframe tbody tr th {\n",
       "        vertical-align: top;\n",
       "    }\n",
       "\n",
       "    .dataframe thead th {\n",
       "        text-align: right;\n",
       "    }\n",
       "</style>\n",
       "<table border=\"1\" class=\"dataframe\">\n",
       "  <thead>\n",
       "    <tr style=\"text-align: right;\">\n",
       "      <th></th>\n",
       "      <th>ano</th>\n",
       "      <th>imigrantes</th>\n",
       "    </tr>\n",
       "  </thead>\n",
       "  <tbody>\n",
       "    <tr>\n",
       "      <th>0</th>\n",
       "      <td>1980</td>\n",
       "      <td>211</td>\n",
       "    </tr>\n",
       "    <tr>\n",
       "      <th>1</th>\n",
       "      <td>1981</td>\n",
       "      <td>220</td>\n",
       "    </tr>\n",
       "    <tr>\n",
       "      <th>2</th>\n",
       "      <td>1982</td>\n",
       "      <td>192</td>\n",
       "    </tr>\n",
       "    <tr>\n",
       "      <th>3</th>\n",
       "      <td>1983</td>\n",
       "      <td>139</td>\n",
       "    </tr>\n",
       "    <tr>\n",
       "      <th>4</th>\n",
       "      <td>1984</td>\n",
       "      <td>145</td>\n",
       "    </tr>\n",
       "    <tr>\n",
       "      <th>5</th>\n",
       "      <td>1985</td>\n",
       "      <td>130</td>\n",
       "    </tr>\n",
       "    <tr>\n",
       "      <th>6</th>\n",
       "      <td>1986</td>\n",
       "      <td>205</td>\n",
       "    </tr>\n",
       "    <tr>\n",
       "      <th>7</th>\n",
       "      <td>1987</td>\n",
       "      <td>244</td>\n",
       "    </tr>\n",
       "    <tr>\n",
       "      <th>8</th>\n",
       "      <td>1988</td>\n",
       "      <td>394</td>\n",
       "    </tr>\n",
       "    <tr>\n",
       "      <th>9</th>\n",
       "      <td>1989</td>\n",
       "      <td>650</td>\n",
       "    </tr>\n",
       "  </tbody>\n",
       "</table>\n",
       "</div>"
      ],
      "text/plain": [
       "    ano  imigrantes\n",
       "0  1980         211\n",
       "1  1981         220\n",
       "2  1982         192\n",
       "3  1983         139\n",
       "4  1984         145\n",
       "5  1985         130\n",
       "6  1986         205\n",
       "7  1987         244\n",
       "8  1988         394\n",
       "9  1989         650"
      ]
     },
     "execution_count": 4,
     "metadata": {},
     "output_type": "execute_result"
    }
   ],
   "source": [
    "df = pd.read_csv('./datas/canadian_immegration_data.csv')\n",
    "df.set_index('Country',inplace=True)\n",
    "anos = list(map(str,range(1980,2014)))\n",
    "brasil = df.loc['Brazil',anos]\n",
    "brasil_dict = {'ano': brasil.index.tolist(),'imigrantes' : brasil.values.tolist()}\n",
    "dados_brasil = pd.DataFrame(brasil_dict)\n",
    "dados_brasil.head(10)"
   ]
  },
  {
   "cell_type": "markdown",
   "id": "34681a23",
   "metadata": {},
   "source": [
    "## <font color=#F8F8FF> Graficos Plotli\n",
    "---\n",
    "O legal dos graficos em linha que pasando o mouse em cima vemos os valores ano = e imigrante =\n",
    "\n",
    "\n"
   ]
  },
  {
   "cell_type": "code",
   "execution_count": null,
   "id": "11b424e4",
   "metadata": {},
   "outputs": [
    {
     "data": {
      "application/vnd.plotly.v1+json": {
       "config": {
        "plotlyServerURL": "https://plot.ly"
       },
       "data": [
        {
         "hovertemplate": "ano=%{x}<br>imigrantes=%{y}<extra></extra>",
         "legendgroup": "",
         "line": {
          "color": "green",
          "dash": "solid",
          "width": 4
         },
         "marker": {
          "symbol": "circle"
         },
         "mode": "lines",
         "name": "",
         "orientation": "v",
         "showlegend": false,
         "type": "scatter",
         "x": [
          "1980",
          "1981",
          "1982",
          "1983",
          "1984",
          "1985",
          "1986",
          "1987",
          "1988",
          "1989",
          "1990",
          "1991",
          "1992",
          "1993",
          "1994",
          "1995",
          "1996",
          "1997",
          "1998",
          "1999",
          "2000",
          "2001",
          "2002",
          "2003",
          "2004",
          "2005",
          "2006",
          "2007",
          "2008",
          "2009",
          "2010",
          "2011",
          "2012",
          "2013"
         ],
         "xaxis": "x",
         "y": {
          "bdata": "0wDcAMAAiwCRAIIAzQD0AIoBigKKAm0DKgRiAzYCPAJKAk8CEwJyAk0DTwPpAkcDlQPJA50E0gZaCM0JJgrkBWoGsgY=",
          "dtype": "i2"
         },
         "yaxis": "y"
        }
       ],
       "layout": {
        "font": {
         "color": "grey",
         "family": "Arial",
         "size": 14
        },
        "height": 500,
        "legend": {
         "tracegroupgap": 0
        },
        "template": {
         "data": {
          "bar": [
           {
            "error_x": {
             "color": "#2a3f5f"
            },
            "error_y": {
             "color": "#2a3f5f"
            },
            "marker": {
             "line": {
              "color": "#E5ECF6",
              "width": 0.5
             },
             "pattern": {
              "fillmode": "overlay",
              "size": 10,
              "solidity": 0.2
             }
            },
            "type": "bar"
           }
          ],
          "barpolar": [
           {
            "marker": {
             "line": {
              "color": "#E5ECF6",
              "width": 0.5
             },
             "pattern": {
              "fillmode": "overlay",
              "size": 10,
              "solidity": 0.2
             }
            },
            "type": "barpolar"
           }
          ],
          "carpet": [
           {
            "aaxis": {
             "endlinecolor": "#2a3f5f",
             "gridcolor": "white",
             "linecolor": "white",
             "minorgridcolor": "white",
             "startlinecolor": "#2a3f5f"
            },
            "baxis": {
             "endlinecolor": "#2a3f5f",
             "gridcolor": "white",
             "linecolor": "white",
             "minorgridcolor": "white",
             "startlinecolor": "#2a3f5f"
            },
            "type": "carpet"
           }
          ],
          "choropleth": [
           {
            "colorbar": {
             "outlinewidth": 0,
             "ticks": ""
            },
            "type": "choropleth"
           }
          ],
          "contour": [
           {
            "colorbar": {
             "outlinewidth": 0,
             "ticks": ""
            },
            "colorscale": [
             [
              0,
              "#0d0887"
             ],
             [
              0.1111111111111111,
              "#46039f"
             ],
             [
              0.2222222222222222,
              "#7201a8"
             ],
             [
              0.3333333333333333,
              "#9c179e"
             ],
             [
              0.4444444444444444,
              "#bd3786"
             ],
             [
              0.5555555555555556,
              "#d8576b"
             ],
             [
              0.6666666666666666,
              "#ed7953"
             ],
             [
              0.7777777777777778,
              "#fb9f3a"
             ],
             [
              0.8888888888888888,
              "#fdca26"
             ],
             [
              1,
              "#f0f921"
             ]
            ],
            "type": "contour"
           }
          ],
          "contourcarpet": [
           {
            "colorbar": {
             "outlinewidth": 0,
             "ticks": ""
            },
            "type": "contourcarpet"
           }
          ],
          "heatmap": [
           {
            "colorbar": {
             "outlinewidth": 0,
             "ticks": ""
            },
            "colorscale": [
             [
              0,
              "#0d0887"
             ],
             [
              0.1111111111111111,
              "#46039f"
             ],
             [
              0.2222222222222222,
              "#7201a8"
             ],
             [
              0.3333333333333333,
              "#9c179e"
             ],
             [
              0.4444444444444444,
              "#bd3786"
             ],
             [
              0.5555555555555556,
              "#d8576b"
             ],
             [
              0.6666666666666666,
              "#ed7953"
             ],
             [
              0.7777777777777778,
              "#fb9f3a"
             ],
             [
              0.8888888888888888,
              "#fdca26"
             ],
             [
              1,
              "#f0f921"
             ]
            ],
            "type": "heatmap"
           }
          ],
          "histogram": [
           {
            "marker": {
             "pattern": {
              "fillmode": "overlay",
              "size": 10,
              "solidity": 0.2
             }
            },
            "type": "histogram"
           }
          ],
          "histogram2d": [
           {
            "colorbar": {
             "outlinewidth": 0,
             "ticks": ""
            },
            "colorscale": [
             [
              0,
              "#0d0887"
             ],
             [
              0.1111111111111111,
              "#46039f"
             ],
             [
              0.2222222222222222,
              "#7201a8"
             ],
             [
              0.3333333333333333,
              "#9c179e"
             ],
             [
              0.4444444444444444,
              "#bd3786"
             ],
             [
              0.5555555555555556,
              "#d8576b"
             ],
             [
              0.6666666666666666,
              "#ed7953"
             ],
             [
              0.7777777777777778,
              "#fb9f3a"
             ],
             [
              0.8888888888888888,
              "#fdca26"
             ],
             [
              1,
              "#f0f921"
             ]
            ],
            "type": "histogram2d"
           }
          ],
          "histogram2dcontour": [
           {
            "colorbar": {
             "outlinewidth": 0,
             "ticks": ""
            },
            "colorscale": [
             [
              0,
              "#0d0887"
             ],
             [
              0.1111111111111111,
              "#46039f"
             ],
             [
              0.2222222222222222,
              "#7201a8"
             ],
             [
              0.3333333333333333,
              "#9c179e"
             ],
             [
              0.4444444444444444,
              "#bd3786"
             ],
             [
              0.5555555555555556,
              "#d8576b"
             ],
             [
              0.6666666666666666,
              "#ed7953"
             ],
             [
              0.7777777777777778,
              "#fb9f3a"
             ],
             [
              0.8888888888888888,
              "#fdca26"
             ],
             [
              1,
              "#f0f921"
             ]
            ],
            "type": "histogram2dcontour"
           }
          ],
          "mesh3d": [
           {
            "colorbar": {
             "outlinewidth": 0,
             "ticks": ""
            },
            "type": "mesh3d"
           }
          ],
          "parcoords": [
           {
            "line": {
             "colorbar": {
              "outlinewidth": 0,
              "ticks": ""
             }
            },
            "type": "parcoords"
           }
          ],
          "pie": [
           {
            "automargin": true,
            "type": "pie"
           }
          ],
          "scatter": [
           {
            "fillpattern": {
             "fillmode": "overlay",
             "size": 10,
             "solidity": 0.2
            },
            "type": "scatter"
           }
          ],
          "scatter3d": [
           {
            "line": {
             "colorbar": {
              "outlinewidth": 0,
              "ticks": ""
             }
            },
            "marker": {
             "colorbar": {
              "outlinewidth": 0,
              "ticks": ""
             }
            },
            "type": "scatter3d"
           }
          ],
          "scattercarpet": [
           {
            "marker": {
             "colorbar": {
              "outlinewidth": 0,
              "ticks": ""
             }
            },
            "type": "scattercarpet"
           }
          ],
          "scattergeo": [
           {
            "marker": {
             "colorbar": {
              "outlinewidth": 0,
              "ticks": ""
             }
            },
            "type": "scattergeo"
           }
          ],
          "scattergl": [
           {
            "marker": {
             "colorbar": {
              "outlinewidth": 0,
              "ticks": ""
             }
            },
            "type": "scattergl"
           }
          ],
          "scattermap": [
           {
            "marker": {
             "colorbar": {
              "outlinewidth": 0,
              "ticks": ""
             }
            },
            "type": "scattermap"
           }
          ],
          "scattermapbox": [
           {
            "marker": {
             "colorbar": {
              "outlinewidth": 0,
              "ticks": ""
             }
            },
            "type": "scattermapbox"
           }
          ],
          "scatterpolar": [
           {
            "marker": {
             "colorbar": {
              "outlinewidth": 0,
              "ticks": ""
             }
            },
            "type": "scatterpolar"
           }
          ],
          "scatterpolargl": [
           {
            "marker": {
             "colorbar": {
              "outlinewidth": 0,
              "ticks": ""
             }
            },
            "type": "scatterpolargl"
           }
          ],
          "scatterternary": [
           {
            "marker": {
             "colorbar": {
              "outlinewidth": 0,
              "ticks": ""
             }
            },
            "type": "scatterternary"
           }
          ],
          "surface": [
           {
            "colorbar": {
             "outlinewidth": 0,
             "ticks": ""
            },
            "colorscale": [
             [
              0,
              "#0d0887"
             ],
             [
              0.1111111111111111,
              "#46039f"
             ],
             [
              0.2222222222222222,
              "#7201a8"
             ],
             [
              0.3333333333333333,
              "#9c179e"
             ],
             [
              0.4444444444444444,
              "#bd3786"
             ],
             [
              0.5555555555555556,
              "#d8576b"
             ],
             [
              0.6666666666666666,
              "#ed7953"
             ],
             [
              0.7777777777777778,
              "#fb9f3a"
             ],
             [
              0.8888888888888888,
              "#fdca26"
             ],
             [
              1,
              "#f0f921"
             ]
            ],
            "type": "surface"
           }
          ],
          "table": [
           {
            "cells": {
             "fill": {
              "color": "#EBF0F8"
             },
             "line": {
              "color": "white"
             }
            },
            "header": {
             "fill": {
              "color": "#C8D4E3"
             },
             "line": {
              "color": "white"
             }
            },
            "type": "table"
           }
          ]
         },
         "layout": {
          "annotationdefaults": {
           "arrowcolor": "#2a3f5f",
           "arrowhead": 0,
           "arrowwidth": 1
          },
          "autotypenumbers": "strict",
          "coloraxis": {
           "colorbar": {
            "outlinewidth": 0,
            "ticks": ""
           }
          },
          "colorscale": {
           "diverging": [
            [
             0,
             "#8e0152"
            ],
            [
             0.1,
             "#c51b7d"
            ],
            [
             0.2,
             "#de77ae"
            ],
            [
             0.3,
             "#f1b6da"
            ],
            [
             0.4,
             "#fde0ef"
            ],
            [
             0.5,
             "#f7f7f7"
            ],
            [
             0.6,
             "#e6f5d0"
            ],
            [
             0.7,
             "#b8e186"
            ],
            [
             0.8,
             "#7fbc41"
            ],
            [
             0.9,
             "#4d9221"
            ],
            [
             1,
             "#276419"
            ]
           ],
           "sequential": [
            [
             0,
             "#0d0887"
            ],
            [
             0.1111111111111111,
             "#46039f"
            ],
            [
             0.2222222222222222,
             "#7201a8"
            ],
            [
             0.3333333333333333,
             "#9c179e"
            ],
            [
             0.4444444444444444,
             "#bd3786"
            ],
            [
             0.5555555555555556,
             "#d8576b"
            ],
            [
             0.6666666666666666,
             "#ed7953"
            ],
            [
             0.7777777777777778,
             "#fb9f3a"
            ],
            [
             0.8888888888888888,
             "#fdca26"
            ],
            [
             1,
             "#f0f921"
            ]
           ],
           "sequentialminus": [
            [
             0,
             "#0d0887"
            ],
            [
             0.1111111111111111,
             "#46039f"
            ],
            [
             0.2222222222222222,
             "#7201a8"
            ],
            [
             0.3333333333333333,
             "#9c179e"
            ],
            [
             0.4444444444444444,
             "#bd3786"
            ],
            [
             0.5555555555555556,
             "#d8576b"
            ],
            [
             0.6666666666666666,
             "#ed7953"
            ],
            [
             0.7777777777777778,
             "#fb9f3a"
            ],
            [
             0.8888888888888888,
             "#fdca26"
            ],
            [
             1,
             "#f0f921"
            ]
           ]
          },
          "colorway": [
           "#636efa",
           "#EF553B",
           "#00cc96",
           "#ab63fa",
           "#FFA15A",
           "#19d3f3",
           "#FF6692",
           "#B6E880",
           "#FF97FF",
           "#FECB52"
          ],
          "font": {
           "color": "#2a3f5f"
          },
          "geo": {
           "bgcolor": "white",
           "lakecolor": "white",
           "landcolor": "#E5ECF6",
           "showlakes": true,
           "showland": true,
           "subunitcolor": "white"
          },
          "hoverlabel": {
           "align": "left"
          },
          "hovermode": "closest",
          "mapbox": {
           "style": "light"
          },
          "paper_bgcolor": "white",
          "plot_bgcolor": "#E5ECF6",
          "polar": {
           "angularaxis": {
            "gridcolor": "white",
            "linecolor": "white",
            "ticks": ""
           },
           "bgcolor": "#E5ECF6",
           "radialaxis": {
            "gridcolor": "white",
            "linecolor": "white",
            "ticks": ""
           }
          },
          "scene": {
           "xaxis": {
            "backgroundcolor": "#E5ECF6",
            "gridcolor": "white",
            "gridwidth": 2,
            "linecolor": "white",
            "showbackground": true,
            "ticks": "",
            "zerolinecolor": "white"
           },
           "yaxis": {
            "backgroundcolor": "#E5ECF6",
            "gridcolor": "white",
            "gridwidth": 2,
            "linecolor": "white",
            "showbackground": true,
            "ticks": "",
            "zerolinecolor": "white"
           },
           "zaxis": {
            "backgroundcolor": "#E5ECF6",
            "gridcolor": "white",
            "gridwidth": 2,
            "linecolor": "white",
            "showbackground": true,
            "ticks": "",
            "zerolinecolor": "white"
           }
          },
          "shapedefaults": {
           "line": {
            "color": "#2a3f5f"
           }
          },
          "ternary": {
           "aaxis": {
            "gridcolor": "white",
            "linecolor": "white",
            "ticks": ""
           },
           "baxis": {
            "gridcolor": "white",
            "linecolor": "white",
            "ticks": ""
           },
           "bgcolor": "#E5ECF6",
           "caxis": {
            "gridcolor": "white",
            "linecolor": "white",
            "ticks": ""
           }
          },
          "title": {
           "x": 0.05
          },
          "xaxis": {
           "automargin": true,
           "gridcolor": "white",
           "linecolor": "white",
           "ticks": "",
           "title": {
            "standoff": 15
           },
           "zerolinecolor": "white",
           "zerolinewidth": 2
          },
          "yaxis": {
           "automargin": true,
           "gridcolor": "white",
           "linecolor": "white",
           "ticks": "",
           "title": {
            "standoff": 15
           },
           "zerolinecolor": "white",
           "zerolinewidth": 2
          }
         }
        },
        "title": {
         "font": {
          "color": "black",
          "size": 22
         },
         "text": "Imigração do Brasil para o Canadá no período de 1980 a 2013"
        },
        "width": 1000,
        "xaxis": {
         "anchor": "y",
         "domain": [
          0,
          1
         ],
         "tickangle": -45,
         "title": {
          "text": "Ano"
         }
        },
        "yaxis": {
         "anchor": "x",
         "domain": [
          0,
          1
         ],
         "title": {
          "text": "Número de imigrantes"
         }
        }
       }
      }
     },
     "metadata": {},
     "output_type": "display_data"
    }
   ],
   "source": [
    "fig = px.line(dados_brasil, x='ano', y='imigrantes',\n",
    "              title='Imigração do Brasil para o Canadá no período de 1980 a 2013')\n",
    "fig.update_traces(line_color='green', line_width=4)  # Mudando a cor da Linha e o sua espessura\n",
    "fig.update_layout(\n",
    "    width=1000, height=500, \n",
    "    xaxis={'tickangle': -45}, # Deixa os anos deitadinhos para melhor visualização\n",
    "    font_family='Arial',      \n",
    "    font_size=14,\n",
    "    font_color='grey',\n",
    "    title_font_color='black',\n",
    "    title_font_size=22,\n",
    "    xaxis_title='Ano',\n",
    "    yaxis_title='Número de imigrantes')\n",
    "fig.show()"
   ]
  },
  {
   "cell_type": "markdown",
   "id": "bf597c2d",
   "metadata": {},
   "source": [
    "## <font color=#F8F8FF> Graficos Animados Com  Plotli\n",
    "---\n",
    "\n",
    "\n"
   ]
  },
  {
   "cell_type": "markdown",
   "id": "eea0f153",
   "metadata": {},
   "source": [
    "\n",
    "1 - A primeira etapa após obter o DataFrame apenas com os dados do Brasil, como fizemos no começo do curso, \n",
    "é mudar o tipo de dados da coluna que contém os anos para int ao invés de manter como strings:\n"
   ]
  },
  {
   "cell_type": "code",
   "execution_count": null,
   "id": "8edec54d",
   "metadata": {},
   "outputs": [],
   "source": [
    "dados_brasil['ano'] = dados_brasil['ano'].astype(int)"
   ]
  },
  {
   "cell_type": "markdown",
   "id": "aa103ffa",
   "metadata": {},
   "source": [
    "2 - Depois disso, vamos criar um bloco de código onde vamos construir essa animação, importando plotly.graph_objs, \n",
    "um módulo da biblioteca Plotly que contém classes para criar visualizações de dados interativas e personalizadas."
   ]
  },
  {
   "cell_type": "code",
   "execution_count": null,
   "id": "32292f1b",
   "metadata": {},
   "outputs": [],
   "source": [
    "import plotly.graph_objs as go"
   ]
  },
  {
   "cell_type": "markdown",
   "id": "3e09e43e",
   "metadata": {},
   "source": [
    "3 - Em seguida, uma figura vazia é criada usando a função go.Figure() e atribuída à variável fig."
   ]
  },
  {
   "cell_type": "code",
   "execution_count": null,
   "id": "0549b9ba",
   "metadata": {},
   "outputs": [],
   "source": [
    "fig = go.Figure()"
   ]
  },
  {
   "cell_type": "markdown",
   "id": "3831ae0e",
   "metadata": {},
   "source": [
    "\n",
    "4 - A seguir, uma linha é adicionada ao gráfico usando a função fig.add_trace(). Nesta função, é passado um objeto Scatter, que recebe como argumentos os dados para os eixos X e Y do gráfico. \n",
    "Para que o gráfico seja exibido sem linha antes de clicar no botão play usamos o iloc[0] nas duas variáveis. Isso ocorre porque o iloc[0] seleciona o primeiro valor das colunas ano e imigrantes dos dados do Brasil, respectivamente. \n",
    "Ao adicionar esse ponto de dados à visualização do gráfico, ele será exibido inicialmente como um único ponto, sem linhas que o conectem a outros pontos.\n",
    "Além disso, passamos o modo de exibição lines, que quer dizer linhas e o nome da linha. Também é definida a espessura da linha usando o dicionário line=dict(width=4).\n"
   ]
  },
  {
   "cell_type": "code",
   "execution_count": null,
   "id": "c1826fb3",
   "metadata": {},
   "outputs": [],
   "source": [
    "\n",
    "fig.add_trace(\n",
    "    go.Scatter(x=[dados_brasil['ano'].iloc[0]], y=[dados_brasil['imigrantes'].iloc[0]], mode='lines', name='Imigrantes', line=dict(width=4))\n",
    ")"
   ]
  },
  {
   "cell_type": "markdown",
   "id": "40fe060c",
   "metadata": {},
   "source": [
    "5 - Depois disso, o título do gráfico e as configurações do eixo X e Y são definidas usando a função fig.update_layout(). Os argumentos do título são:\n",
    "\n",
    "text='<b>Imigração do Brasil para o Canadá no período de 1980 a 2013</b>': define o texto do título como uma string formatada em negrito (usando as tags HTML \"<b>\" e \"</b>\")\n",
    "x=0.12: define a posição horizontal do título no layout, em relação à largura da figura. O valor 0.12 especifica que o título começará a 12% da largura da figura.\n",
    "xanchor='left': define o alinhamento horizontal do título. O valor 'left' significa que o título será alinhado à esquerda do layout.\n",
    "font=dict(size=20): define o tamanho do texto do título.\n",
    "Já Os argumentos para xaxis e yaxis são dicionários, com as seguintes propriedades:\n",
    "\n",
    "range=[1980, 2013]: define o intervalo do eixo, ou seja, o menor e o maior valor que serão exibidos. Neste caso, o eixo x terá como menor valor 1980 e como maior valor 2013, enquanto o eixo y terá como menor valor 0 e como maior valor 3000.\n",
    "autorange=False: define se os limites do eixo serão ajustados automaticamente (True) ou não (False). Neste caso, os limites não serão ajustados automaticamente.\n",
    "title='<b>Ano</b>': define o título do eixo. Neste caso, o eixo x terá o título \"Ano\", que é formatado em negrito (usando as tags HTML \"<b>\" e \"</b>\").\n",
    "title='<b>Número de imigrantes</b>': define o título do eixo. Neste caso, o eixo y terá o título \"Número de imigrantes\", que é formatado em negrito (usando as tags HTML \"<b>\" e \"</b>\")."
   ]
  },
  {
   "cell_type": "code",
   "execution_count": null,
   "id": "d8de500f",
   "metadata": {},
   "outputs": [],
   "source": [
    "\n",
    "\n",
    "fig.update_layout(\n",
    "    title=dict(\n",
    "        text='<b>Imigração do Brasil para o Canadá no período de 1980 a 2013</b>',\n",
    "        x=0.12,\n",
    "        xanchor='left',\n",
    "        font=dict(size=20)\n",
    "    ),\n",
    "    xaxis=dict(range=[1980, 2013], autorange=False, title='<b>Ano</b>'),\n",
    "    yaxis=dict(range=[0, 3000], autorange=False, title='<b>Número de imigrantes</b>'),"
   ]
  },
  {
   "cell_type": "markdown",
   "id": "6ff57ad5",
   "metadata": {},
   "source": [
    "\n",
    "6 - É adicionado um botão \"Play\" para a animação usando o argumento updatemenus. Esse argumento é uma lista que define as opções de menu para a figura. O valor atribuído a essa lista é um dicionário, com as seguintes propriedades:\n",
    "\n",
    "type='buttons': define que o menu será composto por botões.\n",
    "showactive=False: define que nenhum botão estará ativo inicialmente.\n",
    "buttons=[dict(label='Play', method='animate', args=[None, {'frame': {'duration': 100, 'redraw': True}, 'fromcurrent': True}])]: define o botão que será exibido no menu. Este botão tem a etiqueta \"Play\" (ou seja, \"tocar\"), que é exibida no próprio botão. O método animate \n",
    "é usado para ativar a animação dos dados. \n",
    "O argumento args é uma lista que contém dois elementos: o primeiro elemento é None, indicando que nenhum trace (ou camada) do gráfico será afetado pela animação, e o segundo elemento é um dicionário que especifica os parâmetros da animação. \n",
    "O parâmetro frame define a duração de cada quadro da animação e a atualização de cada quadro. O parâmetro fromcurrent define se o quadro atual deve ser mantido ou se a animação deve ser iniciada do primeiro quadro.\n"
   ]
  },
  {
   "cell_type": "code",
   "execution_count": null,
   "id": "de2815c3",
   "metadata": {},
   "outputs": [],
   "source": [
    "updatemenus=[dict(\n",
    "        type='buttons',\n",
    "        showactive=False,\n",
    "        buttons=[dict(\n",
    "            label='Play',\n",
    "            method='animate',\n",
    "            args=[None, {'frame': {'duration': 100, 'redraw': True}, 'fromcurrent': True}]\n",
    "        )]\n",
    "    )],\n",
    "\n",
    "# 7- A largura e a altura do gráfico são definidas com os parâmetros width e height, respectivamente:\n",
    "\n",
    "width=1000,\n",
    "height=500 "
   ]
  },
  {
   "cell_type": "markdown",
   "id": "354c8352",
   "metadata": {},
   "source": [
    "8 - Em seguida, as configurações de animação são definidas. A variável frames é uma lista de objetos Frame do Plotly,\n",
    " que contém as informações dos dados para cada quadro da animação. \n",
    "Cada quadro é representado por um objeto Frame que contém um único trace, que é um objeto Scatter. \n",
    "No caso deste código, cada Scatter representa um ponto no gráfico, onde X é o ano e Y é o número de imigrantes.\n",
    "\n",
    "O loop for é usado para criar um objeto Frame para cada ano no conjunto de dados, até o último ano. \n",
    "O método iloc é usado para selecionar os valores do DataFrame dados_brasil a partir do índice 0 até o índice atual i+1, \n",
    "o que significa que cada quadro da animação adiciona um ponto adicional ao gráfico. A cada iteração,\n",
    " a lista frames é preenchida com um novo objeto Frame.\n",
    "\n",
    "Por último, a lista frames é atribuída à propriedade frames do objeto Figure (fig) criado anteriormente. Isso permite que a animação seja exibida no gráfico quando o botão de controle de animação é pressionado.\n",
    " Cada frame contém os dados do gráfico para um determinado ano e é exibido em sequência quando o botão \"Play\" é clicado."
   ]
  },
  {
   "cell_type": "code",
   "execution_count": null,
   "id": "4a6f1cb3",
   "metadata": {},
   "outputs": [],
   "source": [
    "frames = [go.Frame(data=[go.Scatter(x=dados_brasil['ano'].iloc[:i+1], y=dados_brasil['imigrantes'].iloc[:i+1])]) for i in range(len(dados_brasil))]\n",
    "fig.frames = frames"
   ]
  },
  {
   "cell_type": "markdown",
   "id": "20f74567",
   "metadata": {},
   "source": [
    "9 - Por fim, a função fig.show() é chamada para exibir o gráfico animado no notebook. Quando o botão \"Play\" é pressionado, o gráfico será animado, mostrando a imigração do Brasil para o Canadá no período de 1980 a 2013.\n",
    "\n",
    "Temos o código completo abaixo:"
   ]
  },
  {
   "cell_type": "code",
   "execution_count": 25,
   "id": "60ab1253",
   "metadata": {},
   "outputs": [
    {
     "data": {
      "application/vnd.plotly.v1+json": {
       "config": {
        "plotlyServerURL": "https://plot.ly"
       },
       "data": [
        {
         "line": {
          "width": 4
         },
         "mode": "lines",
         "name": "Imigrantes",
         "type": "scatter",
         "x": [
          1980
         ],
         "y": [
          211
         ]
        }
       ],
       "frames": [
        {
         "data": [
          {
           "type": "scatter",
           "x": {
            "bdata": "vAc=",
            "dtype": "i2"
           },
           "y": {
            "bdata": "0wA=",
            "dtype": "i2"
           }
          }
         ]
        },
        {
         "data": [
          {
           "type": "scatter",
           "x": {
            "bdata": "vAe9Bw==",
            "dtype": "i2"
           },
           "y": {
            "bdata": "0wDcAA==",
            "dtype": "i2"
           }
          }
         ]
        },
        {
         "data": [
          {
           "type": "scatter",
           "x": {
            "bdata": "vAe9B74H",
            "dtype": "i2"
           },
           "y": {
            "bdata": "0wDcAMAA",
            "dtype": "i2"
           }
          }
         ]
        },
        {
         "data": [
          {
           "type": "scatter",
           "x": {
            "bdata": "vAe9B74Hvwc=",
            "dtype": "i2"
           },
           "y": {
            "bdata": "0wDcAMAAiwA=",
            "dtype": "i2"
           }
          }
         ]
        },
        {
         "data": [
          {
           "type": "scatter",
           "x": {
            "bdata": "vAe9B74HvwfABw==",
            "dtype": "i2"
           },
           "y": {
            "bdata": "0wDcAMAAiwCRAA==",
            "dtype": "i2"
           }
          }
         ]
        },
        {
         "data": [
          {
           "type": "scatter",
           "x": {
            "bdata": "vAe9B74HvwfAB8EH",
            "dtype": "i2"
           },
           "y": {
            "bdata": "0wDcAMAAiwCRAIIA",
            "dtype": "i2"
           }
          }
         ]
        },
        {
         "data": [
          {
           "type": "scatter",
           "x": {
            "bdata": "vAe9B74HvwfAB8EHwgc=",
            "dtype": "i2"
           },
           "y": {
            "bdata": "0wDcAMAAiwCRAIIAzQA=",
            "dtype": "i2"
           }
          }
         ]
        },
        {
         "data": [
          {
           "type": "scatter",
           "x": {
            "bdata": "vAe9B74HvwfAB8EHwgfDBw==",
            "dtype": "i2"
           },
           "y": {
            "bdata": "0wDcAMAAiwCRAIIAzQD0AA==",
            "dtype": "i2"
           }
          }
         ]
        },
        {
         "data": [
          {
           "type": "scatter",
           "x": {
            "bdata": "vAe9B74HvwfAB8EHwgfDB8QH",
            "dtype": "i2"
           },
           "y": {
            "bdata": "0wDcAMAAiwCRAIIAzQD0AIoB",
            "dtype": "i2"
           }
          }
         ]
        },
        {
         "data": [
          {
           "type": "scatter",
           "x": {
            "bdata": "vAe9B74HvwfAB8EHwgfDB8QHxQc=",
            "dtype": "i2"
           },
           "y": {
            "bdata": "0wDcAMAAiwCRAIIAzQD0AIoBigI=",
            "dtype": "i2"
           }
          }
         ]
        },
        {
         "data": [
          {
           "type": "scatter",
           "x": {
            "bdata": "vAe9B74HvwfAB8EHwgfDB8QHxQfGBw==",
            "dtype": "i2"
           },
           "y": {
            "bdata": "0wDcAMAAiwCRAIIAzQD0AIoBigKKAg==",
            "dtype": "i2"
           }
          }
         ]
        },
        {
         "data": [
          {
           "type": "scatter",
           "x": {
            "bdata": "vAe9B74HvwfAB8EHwgfDB8QHxQfGB8cH",
            "dtype": "i2"
           },
           "y": {
            "bdata": "0wDcAMAAiwCRAIIAzQD0AIoBigKKAm0D",
            "dtype": "i2"
           }
          }
         ]
        },
        {
         "data": [
          {
           "type": "scatter",
           "x": {
            "bdata": "vAe9B74HvwfAB8EHwgfDB8QHxQfGB8cHyAc=",
            "dtype": "i2"
           },
           "y": {
            "bdata": "0wDcAMAAiwCRAIIAzQD0AIoBigKKAm0DKgQ=",
            "dtype": "i2"
           }
          }
         ]
        },
        {
         "data": [
          {
           "type": "scatter",
           "x": {
            "bdata": "vAe9B74HvwfAB8EHwgfDB8QHxQfGB8cHyAfJBw==",
            "dtype": "i2"
           },
           "y": {
            "bdata": "0wDcAMAAiwCRAIIAzQD0AIoBigKKAm0DKgRiAw==",
            "dtype": "i2"
           }
          }
         ]
        },
        {
         "data": [
          {
           "type": "scatter",
           "x": {
            "bdata": "vAe9B74HvwfAB8EHwgfDB8QHxQfGB8cHyAfJB8oH",
            "dtype": "i2"
           },
           "y": {
            "bdata": "0wDcAMAAiwCRAIIAzQD0AIoBigKKAm0DKgRiAzYC",
            "dtype": "i2"
           }
          }
         ]
        },
        {
         "data": [
          {
           "type": "scatter",
           "x": {
            "bdata": "vAe9B74HvwfAB8EHwgfDB8QHxQfGB8cHyAfJB8oHywc=",
            "dtype": "i2"
           },
           "y": {
            "bdata": "0wDcAMAAiwCRAIIAzQD0AIoBigKKAm0DKgRiAzYCPAI=",
            "dtype": "i2"
           }
          }
         ]
        },
        {
         "data": [
          {
           "type": "scatter",
           "x": {
            "bdata": "vAe9B74HvwfAB8EHwgfDB8QHxQfGB8cHyAfJB8oHywfMBw==",
            "dtype": "i2"
           },
           "y": {
            "bdata": "0wDcAMAAiwCRAIIAzQD0AIoBigKKAm0DKgRiAzYCPAJKAg==",
            "dtype": "i2"
           }
          }
         ]
        },
        {
         "data": [
          {
           "type": "scatter",
           "x": {
            "bdata": "vAe9B74HvwfAB8EHwgfDB8QHxQfGB8cHyAfJB8oHywfMB80H",
            "dtype": "i2"
           },
           "y": {
            "bdata": "0wDcAMAAiwCRAIIAzQD0AIoBigKKAm0DKgRiAzYCPAJKAk8C",
            "dtype": "i2"
           }
          }
         ]
        },
        {
         "data": [
          {
           "type": "scatter",
           "x": {
            "bdata": "vAe9B74HvwfAB8EHwgfDB8QHxQfGB8cHyAfJB8oHywfMB80Hzgc=",
            "dtype": "i2"
           },
           "y": {
            "bdata": "0wDcAMAAiwCRAIIAzQD0AIoBigKKAm0DKgRiAzYCPAJKAk8CEwI=",
            "dtype": "i2"
           }
          }
         ]
        },
        {
         "data": [
          {
           "type": "scatter",
           "x": {
            "bdata": "vAe9B74HvwfAB8EHwgfDB8QHxQfGB8cHyAfJB8oHywfMB80HzgfPBw==",
            "dtype": "i2"
           },
           "y": {
            "bdata": "0wDcAMAAiwCRAIIAzQD0AIoBigKKAm0DKgRiAzYCPAJKAk8CEwJyAg==",
            "dtype": "i2"
           }
          }
         ]
        },
        {
         "data": [
          {
           "type": "scatter",
           "x": {
            "bdata": "vAe9B74HvwfAB8EHwgfDB8QHxQfGB8cHyAfJB8oHywfMB80HzgfPB9AH",
            "dtype": "i2"
           },
           "y": {
            "bdata": "0wDcAMAAiwCRAIIAzQD0AIoBigKKAm0DKgRiAzYCPAJKAk8CEwJyAk0D",
            "dtype": "i2"
           }
          }
         ]
        },
        {
         "data": [
          {
           "type": "scatter",
           "x": {
            "bdata": "vAe9B74HvwfAB8EHwgfDB8QHxQfGB8cHyAfJB8oHywfMB80HzgfPB9AH0Qc=",
            "dtype": "i2"
           },
           "y": {
            "bdata": "0wDcAMAAiwCRAIIAzQD0AIoBigKKAm0DKgRiAzYCPAJKAk8CEwJyAk0DTwM=",
            "dtype": "i2"
           }
          }
         ]
        },
        {
         "data": [
          {
           "type": "scatter",
           "x": {
            "bdata": "vAe9B74HvwfAB8EHwgfDB8QHxQfGB8cHyAfJB8oHywfMB80HzgfPB9AH0QfSBw==",
            "dtype": "i2"
           },
           "y": {
            "bdata": "0wDcAMAAiwCRAIIAzQD0AIoBigKKAm0DKgRiAzYCPAJKAk8CEwJyAk0DTwPpAg==",
            "dtype": "i2"
           }
          }
         ]
        },
        {
         "data": [
          {
           "type": "scatter",
           "x": {
            "bdata": "vAe9B74HvwfAB8EHwgfDB8QHxQfGB8cHyAfJB8oHywfMB80HzgfPB9AH0QfSB9MH",
            "dtype": "i2"
           },
           "y": {
            "bdata": "0wDcAMAAiwCRAIIAzQD0AIoBigKKAm0DKgRiAzYCPAJKAk8CEwJyAk0DTwPpAkcD",
            "dtype": "i2"
           }
          }
         ]
        },
        {
         "data": [
          {
           "type": "scatter",
           "x": {
            "bdata": "vAe9B74HvwfAB8EHwgfDB8QHxQfGB8cHyAfJB8oHywfMB80HzgfPB9AH0QfSB9MH1Ac=",
            "dtype": "i2"
           },
           "y": {
            "bdata": "0wDcAMAAiwCRAIIAzQD0AIoBigKKAm0DKgRiAzYCPAJKAk8CEwJyAk0DTwPpAkcDlQM=",
            "dtype": "i2"
           }
          }
         ]
        },
        {
         "data": [
          {
           "type": "scatter",
           "x": {
            "bdata": "vAe9B74HvwfAB8EHwgfDB8QHxQfGB8cHyAfJB8oHywfMB80HzgfPB9AH0QfSB9MH1AfVBw==",
            "dtype": "i2"
           },
           "y": {
            "bdata": "0wDcAMAAiwCRAIIAzQD0AIoBigKKAm0DKgRiAzYCPAJKAk8CEwJyAk0DTwPpAkcDlQPJAw==",
            "dtype": "i2"
           }
          }
         ]
        },
        {
         "data": [
          {
           "type": "scatter",
           "x": {
            "bdata": "vAe9B74HvwfAB8EHwgfDB8QHxQfGB8cHyAfJB8oHywfMB80HzgfPB9AH0QfSB9MH1AfVB9YH",
            "dtype": "i2"
           },
           "y": {
            "bdata": "0wDcAMAAiwCRAIIAzQD0AIoBigKKAm0DKgRiAzYCPAJKAk8CEwJyAk0DTwPpAkcDlQPJA50E",
            "dtype": "i2"
           }
          }
         ]
        },
        {
         "data": [
          {
           "type": "scatter",
           "x": {
            "bdata": "vAe9B74HvwfAB8EHwgfDB8QHxQfGB8cHyAfJB8oHywfMB80HzgfPB9AH0QfSB9MH1AfVB9YH1wc=",
            "dtype": "i2"
           },
           "y": {
            "bdata": "0wDcAMAAiwCRAIIAzQD0AIoBigKKAm0DKgRiAzYCPAJKAk8CEwJyAk0DTwPpAkcDlQPJA50E0gY=",
            "dtype": "i2"
           }
          }
         ]
        },
        {
         "data": [
          {
           "type": "scatter",
           "x": {
            "bdata": "vAe9B74HvwfAB8EHwgfDB8QHxQfGB8cHyAfJB8oHywfMB80HzgfPB9AH0QfSB9MH1AfVB9YH1wfYBw==",
            "dtype": "i2"
           },
           "y": {
            "bdata": "0wDcAMAAiwCRAIIAzQD0AIoBigKKAm0DKgRiAzYCPAJKAk8CEwJyAk0DTwPpAkcDlQPJA50E0gZaCA==",
            "dtype": "i2"
           }
          }
         ]
        },
        {
         "data": [
          {
           "type": "scatter",
           "x": {
            "bdata": "vAe9B74HvwfAB8EHwgfDB8QHxQfGB8cHyAfJB8oHywfMB80HzgfPB9AH0QfSB9MH1AfVB9YH1wfYB9kH",
            "dtype": "i2"
           },
           "y": {
            "bdata": "0wDcAMAAiwCRAIIAzQD0AIoBigKKAm0DKgRiAzYCPAJKAk8CEwJyAk0DTwPpAkcDlQPJA50E0gZaCM0J",
            "dtype": "i2"
           }
          }
         ]
        },
        {
         "data": [
          {
           "type": "scatter",
           "x": {
            "bdata": "vAe9B74HvwfAB8EHwgfDB8QHxQfGB8cHyAfJB8oHywfMB80HzgfPB9AH0QfSB9MH1AfVB9YH1wfYB9kH2gc=",
            "dtype": "i2"
           },
           "y": {
            "bdata": "0wDcAMAAiwCRAIIAzQD0AIoBigKKAm0DKgRiAzYCPAJKAk8CEwJyAk0DTwPpAkcDlQPJA50E0gZaCM0JJgo=",
            "dtype": "i2"
           }
          }
         ]
        },
        {
         "data": [
          {
           "type": "scatter",
           "x": {
            "bdata": "vAe9B74HvwfAB8EHwgfDB8QHxQfGB8cHyAfJB8oHywfMB80HzgfPB9AH0QfSB9MH1AfVB9YH1wfYB9kH2gfbBw==",
            "dtype": "i2"
           },
           "y": {
            "bdata": "0wDcAMAAiwCRAIIAzQD0AIoBigKKAm0DKgRiAzYCPAJKAk8CEwJyAk0DTwPpAkcDlQPJA50E0gZaCM0JJgrkBQ==",
            "dtype": "i2"
           }
          }
         ]
        },
        {
         "data": [
          {
           "type": "scatter",
           "x": {
            "bdata": "vAe9B74HvwfAB8EHwgfDB8QHxQfGB8cHyAfJB8oHywfMB80HzgfPB9AH0QfSB9MH1AfVB9YH1wfYB9kH2gfbB9wH",
            "dtype": "i2"
           },
           "y": {
            "bdata": "0wDcAMAAiwCRAIIAzQD0AIoBigKKAm0DKgRiAzYCPAJKAk8CEwJyAk0DTwPpAkcDlQPJA50E0gZaCM0JJgrkBWoG",
            "dtype": "i2"
           }
          }
         ]
        },
        {
         "data": [
          {
           "type": "scatter",
           "x": {
            "bdata": "vAe9B74HvwfAB8EHwgfDB8QHxQfGB8cHyAfJB8oHywfMB80HzgfPB9AH0QfSB9MH1AfVB9YH1wfYB9kH2gfbB9wH3Qc=",
            "dtype": "i2"
           },
           "y": {
            "bdata": "0wDcAMAAiwCRAIIAzQD0AIoBigKKAm0DKgRiAzYCPAJKAk8CEwJyAk0DTwPpAkcDlQPJA50E0gZaCM0JJgrkBWoGsgY=",
            "dtype": "i2"
           }
          }
         ]
        }
       ],
       "layout": {
        "height": 500,
        "template": {
         "data": {
          "bar": [
           {
            "error_x": {
             "color": "#2a3f5f"
            },
            "error_y": {
             "color": "#2a3f5f"
            },
            "marker": {
             "line": {
              "color": "#E5ECF6",
              "width": 0.5
             },
             "pattern": {
              "fillmode": "overlay",
              "size": 10,
              "solidity": 0.2
             }
            },
            "type": "bar"
           }
          ],
          "barpolar": [
           {
            "marker": {
             "line": {
              "color": "#E5ECF6",
              "width": 0.5
             },
             "pattern": {
              "fillmode": "overlay",
              "size": 10,
              "solidity": 0.2
             }
            },
            "type": "barpolar"
           }
          ],
          "carpet": [
           {
            "aaxis": {
             "endlinecolor": "#2a3f5f",
             "gridcolor": "white",
             "linecolor": "white",
             "minorgridcolor": "white",
             "startlinecolor": "#2a3f5f"
            },
            "baxis": {
             "endlinecolor": "#2a3f5f",
             "gridcolor": "white",
             "linecolor": "white",
             "minorgridcolor": "white",
             "startlinecolor": "#2a3f5f"
            },
            "type": "carpet"
           }
          ],
          "choropleth": [
           {
            "colorbar": {
             "outlinewidth": 0,
             "ticks": ""
            },
            "type": "choropleth"
           }
          ],
          "contour": [
           {
            "colorbar": {
             "outlinewidth": 0,
             "ticks": ""
            },
            "colorscale": [
             [
              0,
              "#0d0887"
             ],
             [
              0.1111111111111111,
              "#46039f"
             ],
             [
              0.2222222222222222,
              "#7201a8"
             ],
             [
              0.3333333333333333,
              "#9c179e"
             ],
             [
              0.4444444444444444,
              "#bd3786"
             ],
             [
              0.5555555555555556,
              "#d8576b"
             ],
             [
              0.6666666666666666,
              "#ed7953"
             ],
             [
              0.7777777777777778,
              "#fb9f3a"
             ],
             [
              0.8888888888888888,
              "#fdca26"
             ],
             [
              1,
              "#f0f921"
             ]
            ],
            "type": "contour"
           }
          ],
          "contourcarpet": [
           {
            "colorbar": {
             "outlinewidth": 0,
             "ticks": ""
            },
            "type": "contourcarpet"
           }
          ],
          "heatmap": [
           {
            "colorbar": {
             "outlinewidth": 0,
             "ticks": ""
            },
            "colorscale": [
             [
              0,
              "#0d0887"
             ],
             [
              0.1111111111111111,
              "#46039f"
             ],
             [
              0.2222222222222222,
              "#7201a8"
             ],
             [
              0.3333333333333333,
              "#9c179e"
             ],
             [
              0.4444444444444444,
              "#bd3786"
             ],
             [
              0.5555555555555556,
              "#d8576b"
             ],
             [
              0.6666666666666666,
              "#ed7953"
             ],
             [
              0.7777777777777778,
              "#fb9f3a"
             ],
             [
              0.8888888888888888,
              "#fdca26"
             ],
             [
              1,
              "#f0f921"
             ]
            ],
            "type": "heatmap"
           }
          ],
          "histogram": [
           {
            "marker": {
             "pattern": {
              "fillmode": "overlay",
              "size": 10,
              "solidity": 0.2
             }
            },
            "type": "histogram"
           }
          ],
          "histogram2d": [
           {
            "colorbar": {
             "outlinewidth": 0,
             "ticks": ""
            },
            "colorscale": [
             [
              0,
              "#0d0887"
             ],
             [
              0.1111111111111111,
              "#46039f"
             ],
             [
              0.2222222222222222,
              "#7201a8"
             ],
             [
              0.3333333333333333,
              "#9c179e"
             ],
             [
              0.4444444444444444,
              "#bd3786"
             ],
             [
              0.5555555555555556,
              "#d8576b"
             ],
             [
              0.6666666666666666,
              "#ed7953"
             ],
             [
              0.7777777777777778,
              "#fb9f3a"
             ],
             [
              0.8888888888888888,
              "#fdca26"
             ],
             [
              1,
              "#f0f921"
             ]
            ],
            "type": "histogram2d"
           }
          ],
          "histogram2dcontour": [
           {
            "colorbar": {
             "outlinewidth": 0,
             "ticks": ""
            },
            "colorscale": [
             [
              0,
              "#0d0887"
             ],
             [
              0.1111111111111111,
              "#46039f"
             ],
             [
              0.2222222222222222,
              "#7201a8"
             ],
             [
              0.3333333333333333,
              "#9c179e"
             ],
             [
              0.4444444444444444,
              "#bd3786"
             ],
             [
              0.5555555555555556,
              "#d8576b"
             ],
             [
              0.6666666666666666,
              "#ed7953"
             ],
             [
              0.7777777777777778,
              "#fb9f3a"
             ],
             [
              0.8888888888888888,
              "#fdca26"
             ],
             [
              1,
              "#f0f921"
             ]
            ],
            "type": "histogram2dcontour"
           }
          ],
          "mesh3d": [
           {
            "colorbar": {
             "outlinewidth": 0,
             "ticks": ""
            },
            "type": "mesh3d"
           }
          ],
          "parcoords": [
           {
            "line": {
             "colorbar": {
              "outlinewidth": 0,
              "ticks": ""
             }
            },
            "type": "parcoords"
           }
          ],
          "pie": [
           {
            "automargin": true,
            "type": "pie"
           }
          ],
          "scatter": [
           {
            "fillpattern": {
             "fillmode": "overlay",
             "size": 10,
             "solidity": 0.2
            },
            "type": "scatter"
           }
          ],
          "scatter3d": [
           {
            "line": {
             "colorbar": {
              "outlinewidth": 0,
              "ticks": ""
             }
            },
            "marker": {
             "colorbar": {
              "outlinewidth": 0,
              "ticks": ""
             }
            },
            "type": "scatter3d"
           }
          ],
          "scattercarpet": [
           {
            "marker": {
             "colorbar": {
              "outlinewidth": 0,
              "ticks": ""
             }
            },
            "type": "scattercarpet"
           }
          ],
          "scattergeo": [
           {
            "marker": {
             "colorbar": {
              "outlinewidth": 0,
              "ticks": ""
             }
            },
            "type": "scattergeo"
           }
          ],
          "scattergl": [
           {
            "marker": {
             "colorbar": {
              "outlinewidth": 0,
              "ticks": ""
             }
            },
            "type": "scattergl"
           }
          ],
          "scattermap": [
           {
            "marker": {
             "colorbar": {
              "outlinewidth": 0,
              "ticks": ""
             }
            },
            "type": "scattermap"
           }
          ],
          "scattermapbox": [
           {
            "marker": {
             "colorbar": {
              "outlinewidth": 0,
              "ticks": ""
             }
            },
            "type": "scattermapbox"
           }
          ],
          "scatterpolar": [
           {
            "marker": {
             "colorbar": {
              "outlinewidth": 0,
              "ticks": ""
             }
            },
            "type": "scatterpolar"
           }
          ],
          "scatterpolargl": [
           {
            "marker": {
             "colorbar": {
              "outlinewidth": 0,
              "ticks": ""
             }
            },
            "type": "scatterpolargl"
           }
          ],
          "scatterternary": [
           {
            "marker": {
             "colorbar": {
              "outlinewidth": 0,
              "ticks": ""
             }
            },
            "type": "scatterternary"
           }
          ],
          "surface": [
           {
            "colorbar": {
             "outlinewidth": 0,
             "ticks": ""
            },
            "colorscale": [
             [
              0,
              "#0d0887"
             ],
             [
              0.1111111111111111,
              "#46039f"
             ],
             [
              0.2222222222222222,
              "#7201a8"
             ],
             [
              0.3333333333333333,
              "#9c179e"
             ],
             [
              0.4444444444444444,
              "#bd3786"
             ],
             [
              0.5555555555555556,
              "#d8576b"
             ],
             [
              0.6666666666666666,
              "#ed7953"
             ],
             [
              0.7777777777777778,
              "#fb9f3a"
             ],
             [
              0.8888888888888888,
              "#fdca26"
             ],
             [
              1,
              "#f0f921"
             ]
            ],
            "type": "surface"
           }
          ],
          "table": [
           {
            "cells": {
             "fill": {
              "color": "#EBF0F8"
             },
             "line": {
              "color": "white"
             }
            },
            "header": {
             "fill": {
              "color": "#C8D4E3"
             },
             "line": {
              "color": "white"
             }
            },
            "type": "table"
           }
          ]
         },
         "layout": {
          "annotationdefaults": {
           "arrowcolor": "#2a3f5f",
           "arrowhead": 0,
           "arrowwidth": 1
          },
          "autotypenumbers": "strict",
          "coloraxis": {
           "colorbar": {
            "outlinewidth": 0,
            "ticks": ""
           }
          },
          "colorscale": {
           "diverging": [
            [
             0,
             "#8e0152"
            ],
            [
             0.1,
             "#c51b7d"
            ],
            [
             0.2,
             "#de77ae"
            ],
            [
             0.3,
             "#f1b6da"
            ],
            [
             0.4,
             "#fde0ef"
            ],
            [
             0.5,
             "#f7f7f7"
            ],
            [
             0.6,
             "#e6f5d0"
            ],
            [
             0.7,
             "#b8e186"
            ],
            [
             0.8,
             "#7fbc41"
            ],
            [
             0.9,
             "#4d9221"
            ],
            [
             1,
             "#276419"
            ]
           ],
           "sequential": [
            [
             0,
             "#0d0887"
            ],
            [
             0.1111111111111111,
             "#46039f"
            ],
            [
             0.2222222222222222,
             "#7201a8"
            ],
            [
             0.3333333333333333,
             "#9c179e"
            ],
            [
             0.4444444444444444,
             "#bd3786"
            ],
            [
             0.5555555555555556,
             "#d8576b"
            ],
            [
             0.6666666666666666,
             "#ed7953"
            ],
            [
             0.7777777777777778,
             "#fb9f3a"
            ],
            [
             0.8888888888888888,
             "#fdca26"
            ],
            [
             1,
             "#f0f921"
            ]
           ],
           "sequentialminus": [
            [
             0,
             "#0d0887"
            ],
            [
             0.1111111111111111,
             "#46039f"
            ],
            [
             0.2222222222222222,
             "#7201a8"
            ],
            [
             0.3333333333333333,
             "#9c179e"
            ],
            [
             0.4444444444444444,
             "#bd3786"
            ],
            [
             0.5555555555555556,
             "#d8576b"
            ],
            [
             0.6666666666666666,
             "#ed7953"
            ],
            [
             0.7777777777777778,
             "#fb9f3a"
            ],
            [
             0.8888888888888888,
             "#fdca26"
            ],
            [
             1,
             "#f0f921"
            ]
           ]
          },
          "colorway": [
           "#636efa",
           "#EF553B",
           "#00cc96",
           "#ab63fa",
           "#FFA15A",
           "#19d3f3",
           "#FF6692",
           "#B6E880",
           "#FF97FF",
           "#FECB52"
          ],
          "font": {
           "color": "#2a3f5f"
          },
          "geo": {
           "bgcolor": "white",
           "lakecolor": "white",
           "landcolor": "#E5ECF6",
           "showlakes": true,
           "showland": true,
           "subunitcolor": "white"
          },
          "hoverlabel": {
           "align": "left"
          },
          "hovermode": "closest",
          "mapbox": {
           "style": "light"
          },
          "paper_bgcolor": "white",
          "plot_bgcolor": "#E5ECF6",
          "polar": {
           "angularaxis": {
            "gridcolor": "white",
            "linecolor": "white",
            "ticks": ""
           },
           "bgcolor": "#E5ECF6",
           "radialaxis": {
            "gridcolor": "white",
            "linecolor": "white",
            "ticks": ""
           }
          },
          "scene": {
           "xaxis": {
            "backgroundcolor": "#E5ECF6",
            "gridcolor": "white",
            "gridwidth": 2,
            "linecolor": "white",
            "showbackground": true,
            "ticks": "",
            "zerolinecolor": "white"
           },
           "yaxis": {
            "backgroundcolor": "#E5ECF6",
            "gridcolor": "white",
            "gridwidth": 2,
            "linecolor": "white",
            "showbackground": true,
            "ticks": "",
            "zerolinecolor": "white"
           },
           "zaxis": {
            "backgroundcolor": "#E5ECF6",
            "gridcolor": "white",
            "gridwidth": 2,
            "linecolor": "white",
            "showbackground": true,
            "ticks": "",
            "zerolinecolor": "white"
           }
          },
          "shapedefaults": {
           "line": {
            "color": "#2a3f5f"
           }
          },
          "ternary": {
           "aaxis": {
            "gridcolor": "white",
            "linecolor": "white",
            "ticks": ""
           },
           "baxis": {
            "gridcolor": "white",
            "linecolor": "white",
            "ticks": ""
           },
           "bgcolor": "#E5ECF6",
           "caxis": {
            "gridcolor": "white",
            "linecolor": "white",
            "ticks": ""
           }
          },
          "title": {
           "x": 0.05
          },
          "xaxis": {
           "automargin": true,
           "gridcolor": "white",
           "linecolor": "white",
           "ticks": "",
           "title": {
            "standoff": 15
           },
           "zerolinecolor": "white",
           "zerolinewidth": 2
          },
          "yaxis": {
           "automargin": true,
           "gridcolor": "white",
           "linecolor": "white",
           "ticks": "",
           "title": {
            "standoff": 15
           },
           "zerolinecolor": "white",
           "zerolinewidth": 2
          }
         }
        },
        "title": {
         "font": {
          "size": 20
         },
         "text": "<b>Imigração do Brasil para o Canadá no período de 1980 a 2013</b>",
         "x": 0.12,
         "xanchor": "left"
        },
        "updatemenus": [
         {
          "buttons": [
           {
            "args": [
             null,
             {
              "frame": {
               "duration": 100,
               "redraw": true
              },
              "fromcurrent": true
             }
            ],
            "label": "Play",
            "method": "animate"
           }
          ],
          "showactive": false,
          "type": "buttons"
         }
        ],
        "width": 1000,
        "xaxis": {
         "autorange": false,
         "range": [
          1980,
          2013
         ],
         "title": {
          "text": "<b>Ano</b>"
         }
        },
        "yaxis": {
         "autorange": false,
         "range": [
          0,
          3000
         ],
         "title": {
          "text": "<b>Número de imigrantes</b>"
         }
        }
       }
      }
     },
     "metadata": {},
     "output_type": "display_data"
    }
   ],
   "source": [
    "import plotly.graph_objs as go\n",
    "\n",
    "# Criando uma figura\n",
    "fig = go.Figure()\n",
    "\n",
    "# Adicionando a linha do gráfico e definindo a espessura da linha\n",
    "fig.add_trace(\n",
    "    go.Scatter(x=[dados_brasil['ano'].iloc[0]], y=[dados_brasil['imigrantes'].iloc[0]], mode='lines', name='Imigrantes', line=dict(width=4))\n",
    ")\n",
    "\n",
    "# Definindo as configurações de layout\n",
    "fig.update_layout(\n",
    "    title=dict(\n",
    "        text='<b>Imigração do Brasil para o Canadá no período de 1980 a 2013</b>',\n",
    "        x=0.12,\n",
    "        xanchor='left',\n",
    "        font=dict(size=20)\n",
    "    ),\n",
    "    xaxis=dict(range=[1980, 2013], autorange=False, title='<b>Ano</b>'),\n",
    "    yaxis=dict(range=[0, 3000], autorange=False, title='<b>Número de imigrantes</b>'),\n",
    "    updatemenus=[dict(\n",
    "        type='buttons',\n",
    "        showactive=False,\n",
    "        buttons=[dict(\n",
    "            label='Play',\n",
    "            method='animate',\n",
    "            args=[None, {'frame': {'duration': 100, 'redraw': True}, 'fromcurrent': True}]\n",
    "        )]\n",
    "    )],\n",
    "    width=1000, \n",
    "    height=500 \n",
    ")\n",
    "\n",
    "# Definir as configurações de animação\n",
    "frames = [go.Frame(data=[go.Scatter(x=dados_brasil['ano'].iloc[:i+1], y=dados_brasil['imigrantes'].iloc[:i+1])]) for i in range(len(dados_brasil))]\n",
    "fig.frames = frames\n",
    "\n",
    "# Mostrando a figura\n",
    "fig.show()"
   ]
  },
  {
   "cell_type": "markdown",
   "id": "8b2f5f70",
   "metadata": {},
   "source": [
    "## <font color=#F8F8FF> Graficos Diversos Plotli\n",
    "---\n",
    "Utilizar Varios países traz um insight muito legal com grafico de linhas\n",
    "\n"
   ]
  },
  {
   "cell_type": "code",
   "execution_count": 14,
   "id": "3f4f5fe7",
   "metadata": {},
   "outputs": [],
   "source": [
    "south_america = df.query('Region == \"South America\"')\n",
    "south_america.index = south_america.index.str.split('(').str[0].str.strip()\n",
    "#Limpando o () de cada pais para poder mostralos no grafico"
   ]
  },
  {
   "cell_type": "code",
   "execution_count": 15,
   "id": "2701effe",
   "metadata": {},
   "outputs": [
    {
     "data": {
      "text/html": [
       "<div>\n",
       "<style scoped>\n",
       "    .dataframe tbody tr th:only-of-type {\n",
       "        vertical-align: middle;\n",
       "    }\n",
       "\n",
       "    .dataframe tbody tr th {\n",
       "        vertical-align: top;\n",
       "    }\n",
       "\n",
       "    .dataframe thead th {\n",
       "        text-align: right;\n",
       "    }\n",
       "</style>\n",
       "<table border=\"1\" class=\"dataframe\">\n",
       "  <thead>\n",
       "    <tr style=\"text-align: right;\">\n",
       "      <th></th>\n",
       "      <th>Continent</th>\n",
       "      <th>Region</th>\n",
       "      <th>DevName</th>\n",
       "      <th>1980</th>\n",
       "      <th>1981</th>\n",
       "      <th>1982</th>\n",
       "      <th>1983</th>\n",
       "      <th>1984</th>\n",
       "      <th>1985</th>\n",
       "      <th>1986</th>\n",
       "      <th>...</th>\n",
       "      <th>2005</th>\n",
       "      <th>2006</th>\n",
       "      <th>2007</th>\n",
       "      <th>2008</th>\n",
       "      <th>2009</th>\n",
       "      <th>2010</th>\n",
       "      <th>2011</th>\n",
       "      <th>2012</th>\n",
       "      <th>2013</th>\n",
       "      <th>Total</th>\n",
       "    </tr>\n",
       "    <tr>\n",
       "      <th>Country</th>\n",
       "      <th></th>\n",
       "      <th></th>\n",
       "      <th></th>\n",
       "      <th></th>\n",
       "      <th></th>\n",
       "      <th></th>\n",
       "      <th></th>\n",
       "      <th></th>\n",
       "      <th></th>\n",
       "      <th></th>\n",
       "      <th></th>\n",
       "      <th></th>\n",
       "      <th></th>\n",
       "      <th></th>\n",
       "      <th></th>\n",
       "      <th></th>\n",
       "      <th></th>\n",
       "      <th></th>\n",
       "      <th></th>\n",
       "      <th></th>\n",
       "      <th></th>\n",
       "    </tr>\n",
       "  </thead>\n",
       "  <tbody>\n",
       "    <tr>\n",
       "      <th>Argentina</th>\n",
       "      <td>Latin America and the Caribbean</td>\n",
       "      <td>South America</td>\n",
       "      <td>Developing regions</td>\n",
       "      <td>368</td>\n",
       "      <td>426</td>\n",
       "      <td>626</td>\n",
       "      <td>241</td>\n",
       "      <td>237</td>\n",
       "      <td>196</td>\n",
       "      <td>213</td>\n",
       "      <td>...</td>\n",
       "      <td>1153</td>\n",
       "      <td>847</td>\n",
       "      <td>620</td>\n",
       "      <td>540</td>\n",
       "      <td>467</td>\n",
       "      <td>459</td>\n",
       "      <td>278</td>\n",
       "      <td>263</td>\n",
       "      <td>282</td>\n",
       "      <td>19596</td>\n",
       "    </tr>\n",
       "    <tr>\n",
       "      <th>Bolivia</th>\n",
       "      <td>Latin America and the Caribbean</td>\n",
       "      <td>South America</td>\n",
       "      <td>Developing regions</td>\n",
       "      <td>44</td>\n",
       "      <td>52</td>\n",
       "      <td>42</td>\n",
       "      <td>49</td>\n",
       "      <td>38</td>\n",
       "      <td>44</td>\n",
       "      <td>79</td>\n",
       "      <td>...</td>\n",
       "      <td>134</td>\n",
       "      <td>139</td>\n",
       "      <td>107</td>\n",
       "      <td>143</td>\n",
       "      <td>214</td>\n",
       "      <td>180</td>\n",
       "      <td>86</td>\n",
       "      <td>83</td>\n",
       "      <td>107</td>\n",
       "      <td>3205</td>\n",
       "    </tr>\n",
       "    <tr>\n",
       "      <th>Brazil</th>\n",
       "      <td>Latin America and the Caribbean</td>\n",
       "      <td>South America</td>\n",
       "      <td>Developing regions</td>\n",
       "      <td>211</td>\n",
       "      <td>220</td>\n",
       "      <td>192</td>\n",
       "      <td>139</td>\n",
       "      <td>145</td>\n",
       "      <td>130</td>\n",
       "      <td>205</td>\n",
       "      <td>...</td>\n",
       "      <td>969</td>\n",
       "      <td>1181</td>\n",
       "      <td>1746</td>\n",
       "      <td>2138</td>\n",
       "      <td>2509</td>\n",
       "      <td>2598</td>\n",
       "      <td>1508</td>\n",
       "      <td>1642</td>\n",
       "      <td>1714</td>\n",
       "      <td>29659</td>\n",
       "    </tr>\n",
       "    <tr>\n",
       "      <th>Chile</th>\n",
       "      <td>Latin America and the Caribbean</td>\n",
       "      <td>South America</td>\n",
       "      <td>Developing regions</td>\n",
       "      <td>1233</td>\n",
       "      <td>1069</td>\n",
       "      <td>1078</td>\n",
       "      <td>781</td>\n",
       "      <td>681</td>\n",
       "      <td>533</td>\n",
       "      <td>633</td>\n",
       "      <td>...</td>\n",
       "      <td>384</td>\n",
       "      <td>427</td>\n",
       "      <td>530</td>\n",
       "      <td>350</td>\n",
       "      <td>375</td>\n",
       "      <td>340</td>\n",
       "      <td>174</td>\n",
       "      <td>291</td>\n",
       "      <td>273</td>\n",
       "      <td>21359</td>\n",
       "    </tr>\n",
       "    <tr>\n",
       "      <th>Colombia</th>\n",
       "      <td>Latin America and the Caribbean</td>\n",
       "      <td>South America</td>\n",
       "      <td>Developing regions</td>\n",
       "      <td>266</td>\n",
       "      <td>326</td>\n",
       "      <td>360</td>\n",
       "      <td>244</td>\n",
       "      <td>235</td>\n",
       "      <td>214</td>\n",
       "      <td>257</td>\n",
       "      <td>...</td>\n",
       "      <td>6424</td>\n",
       "      <td>6535</td>\n",
       "      <td>5357</td>\n",
       "      <td>5452</td>\n",
       "      <td>4652</td>\n",
       "      <td>5218</td>\n",
       "      <td>4366</td>\n",
       "      <td>3741</td>\n",
       "      <td>3631</td>\n",
       "      <td>72088</td>\n",
       "    </tr>\n",
       "  </tbody>\n",
       "</table>\n",
       "<p>5 rows × 38 columns</p>\n",
       "</div>"
      ],
      "text/plain": [
       "                                 Continent         Region             DevName  \\\n",
       "Country                                                                         \n",
       "Argentina  Latin America and the Caribbean  South America  Developing regions   \n",
       "Bolivia    Latin America and the Caribbean  South America  Developing regions   \n",
       "Brazil     Latin America and the Caribbean  South America  Developing regions   \n",
       "Chile      Latin America and the Caribbean  South America  Developing regions   \n",
       "Colombia   Latin America and the Caribbean  South America  Developing regions   \n",
       "\n",
       "           1980  1981  1982  1983  1984  1985  1986  ...  2005  2006  2007  \\\n",
       "Country                                              ...                     \n",
       "Argentina   368   426   626   241   237   196   213  ...  1153   847   620   \n",
       "Bolivia      44    52    42    49    38    44    79  ...   134   139   107   \n",
       "Brazil      211   220   192   139   145   130   205  ...   969  1181  1746   \n",
       "Chile      1233  1069  1078   781   681   533   633  ...   384   427   530   \n",
       "Colombia    266   326   360   244   235   214   257  ...  6424  6535  5357   \n",
       "\n",
       "           2008  2009  2010  2011  2012  2013  Total  \n",
       "Country                                               \n",
       "Argentina   540   467   459   278   263   282  19596  \n",
       "Bolivia     143   214   180    86    83   107   3205  \n",
       "Brazil     2138  2509  2598  1508  1642  1714  29659  \n",
       "Chile       350   375   340   174   291   273  21359  \n",
       "Colombia   5452  4652  5218  4366  3741  3631  72088  \n",
       "\n",
       "[5 rows x 38 columns]"
      ]
     },
     "execution_count": 15,
     "metadata": {},
     "output_type": "execute_result"
    }
   ],
   "source": [
    "south_america.head()"
   ]
  },
  {
   "cell_type": "markdown",
   "id": "3d7b02a1",
   "metadata": {},
   "source": [
    "---\n",
    "Para realizar o grafico de linhas precisamos de uma data frame que tenha o país e o valor de cada ano. Teremos que filtrar esse DF\n"
   ]
  },
  {
   "cell_type": "code",
   "execution_count": 16,
   "id": "5ffca80a",
   "metadata": {},
   "outputs": [],
   "source": [
    "df_south_america_clean = south_america.drop([\"Continent\",\"Region\",\"DevName\",\"Total\"],axis=1) # o axis=1 é para dizer ao drop que queremos colunas para linhas seria 0\n",
    "south_america_clean = df_south_america_clean.T\n"
   ]
  },
  {
   "cell_type": "code",
   "execution_count": 17,
   "id": "85d1401f",
   "metadata": {},
   "outputs": [
    {
     "data": {
      "text/html": [
       "<div>\n",
       "<style scoped>\n",
       "    .dataframe tbody tr th:only-of-type {\n",
       "        vertical-align: middle;\n",
       "    }\n",
       "\n",
       "    .dataframe tbody tr th {\n",
       "        vertical-align: top;\n",
       "    }\n",
       "\n",
       "    .dataframe thead th {\n",
       "        text-align: right;\n",
       "    }\n",
       "</style>\n",
       "<table border=\"1\" class=\"dataframe\">\n",
       "  <thead>\n",
       "    <tr style=\"text-align: right;\">\n",
       "      <th>Country</th>\n",
       "      <th>Argentina</th>\n",
       "      <th>Bolivia</th>\n",
       "      <th>Brazil</th>\n",
       "      <th>Chile</th>\n",
       "      <th>Colombia</th>\n",
       "      <th>Ecuador</th>\n",
       "      <th>Guyana</th>\n",
       "      <th>Paraguay</th>\n",
       "      <th>Peru</th>\n",
       "      <th>Suriname</th>\n",
       "      <th>Uruguay</th>\n",
       "      <th>Venezuela</th>\n",
       "    </tr>\n",
       "  </thead>\n",
       "  <tbody>\n",
       "    <tr>\n",
       "      <th>1980</th>\n",
       "      <td>368</td>\n",
       "      <td>44</td>\n",
       "      <td>211</td>\n",
       "      <td>1233</td>\n",
       "      <td>266</td>\n",
       "      <td>238</td>\n",
       "      <td>2334</td>\n",
       "      <td>45</td>\n",
       "      <td>317</td>\n",
       "      <td>15</td>\n",
       "      <td>128</td>\n",
       "      <td>103</td>\n",
       "    </tr>\n",
       "    <tr>\n",
       "      <th>1981</th>\n",
       "      <td>426</td>\n",
       "      <td>52</td>\n",
       "      <td>220</td>\n",
       "      <td>1069</td>\n",
       "      <td>326</td>\n",
       "      <td>207</td>\n",
       "      <td>2943</td>\n",
       "      <td>26</td>\n",
       "      <td>456</td>\n",
       "      <td>10</td>\n",
       "      <td>132</td>\n",
       "      <td>117</td>\n",
       "    </tr>\n",
       "    <tr>\n",
       "      <th>1982</th>\n",
       "      <td>626</td>\n",
       "      <td>42</td>\n",
       "      <td>192</td>\n",
       "      <td>1078</td>\n",
       "      <td>360</td>\n",
       "      <td>184</td>\n",
       "      <td>3575</td>\n",
       "      <td>32</td>\n",
       "      <td>401</td>\n",
       "      <td>21</td>\n",
       "      <td>146</td>\n",
       "      <td>174</td>\n",
       "    </tr>\n",
       "    <tr>\n",
       "      <th>1983</th>\n",
       "      <td>241</td>\n",
       "      <td>49</td>\n",
       "      <td>139</td>\n",
       "      <td>781</td>\n",
       "      <td>244</td>\n",
       "      <td>155</td>\n",
       "      <td>2650</td>\n",
       "      <td>40</td>\n",
       "      <td>241</td>\n",
       "      <td>12</td>\n",
       "      <td>105</td>\n",
       "      <td>124</td>\n",
       "    </tr>\n",
       "    <tr>\n",
       "      <th>1984</th>\n",
       "      <td>237</td>\n",
       "      <td>38</td>\n",
       "      <td>145</td>\n",
       "      <td>681</td>\n",
       "      <td>235</td>\n",
       "      <td>179</td>\n",
       "      <td>1932</td>\n",
       "      <td>48</td>\n",
       "      <td>306</td>\n",
       "      <td>5</td>\n",
       "      <td>90</td>\n",
       "      <td>142</td>\n",
       "    </tr>\n",
       "  </tbody>\n",
       "</table>\n",
       "</div>"
      ],
      "text/plain": [
       "Country  Argentina  Bolivia  Brazil  Chile  Colombia  Ecuador  Guyana  \\\n",
       "1980           368       44     211   1233       266      238    2334   \n",
       "1981           426       52     220   1069       326      207    2943   \n",
       "1982           626       42     192   1078       360      184    3575   \n",
       "1983           241       49     139    781       244      155    2650   \n",
       "1984           237       38     145    681       235      179    1932   \n",
       "\n",
       "Country  Paraguay  Peru  Suriname  Uruguay  Venezuela  \n",
       "1980           45   317        15      128        103  \n",
       "1981           26   456        10      132        117  \n",
       "1982           32   401        21      146        174  \n",
       "1983           40   241        12      105        124  \n",
       "1984           48   306         5       90        142  "
      ]
     },
     "execution_count": 17,
     "metadata": {},
     "output_type": "execute_result"
    }
   ],
   "source": [
    "south_america_clean.head()"
   ]
  },
  {
   "cell_type": "code",
   "execution_count": 21,
   "id": "8ccd3019",
   "metadata": {},
   "outputs": [
    {
     "data": {
      "application/vnd.plotly.v1+json": {
       "config": {
        "plotlyServerURL": "https://plot.ly"
       },
       "data": [
        {
         "hovertemplate": "Country=Argentina<br>index=%{x}<br>value=%{y}<extra></extra>",
         "legendgroup": "Argentina",
         "line": {
          "color": "#636efa",
          "dash": "solid"
         },
         "marker": {
          "symbol": "circle"
         },
         "mode": "lines+markers",
         "name": "Argentina",
         "orientation": "v",
         "showlegend": true,
         "type": "scatter",
         "x": [
          "1980",
          "1981",
          "1982",
          "1983",
          "1984",
          "1985",
          "1986",
          "1987",
          "1988",
          "1989",
          "1990",
          "1991",
          "1992",
          "1993",
          "1994",
          "1995",
          "1996",
          "1997",
          "1998",
          "1999",
          "2000",
          "2001",
          "2002",
          "2003",
          "2004",
          "2005",
          "2006",
          "2007",
          "2008",
          "2009",
          "2010",
          "2011",
          "2012",
          "2013"
         ],
         "xaxis": "x",
         "y": {
          "bdata": "cAGqAXIC8QDtAMQA1QAHAnYBGgKmAvsC/wP+A24BfAGMAYcBXQE+AasBewJhA9EGNwaBBE8DbAIcAtMBywEWAQcBGgE=",
          "dtype": "i2"
         },
         "yaxis": "y"
        },
        {
         "hovertemplate": "Country=Bolivia<br>index=%{x}<br>value=%{y}<extra></extra>",
         "legendgroup": "Bolivia",
         "line": {
          "color": "#EF553B",
          "dash": "solid"
         },
         "marker": {
          "symbol": "circle"
         },
         "mode": "lines+markers",
         "name": "Bolivia",
         "orientation": "v",
         "showlegend": true,
         "type": "scatter",
         "x": [
          "1980",
          "1981",
          "1982",
          "1983",
          "1984",
          "1985",
          "1986",
          "1987",
          "1988",
          "1989",
          "1990",
          "1991",
          "1992",
          "1993",
          "1994",
          "1995",
          "1996",
          "1997",
          "1998",
          "1999",
          "2000",
          "2001",
          "2002",
          "2003",
          "2004",
          "2005",
          "2006",
          "2007",
          "2008",
          "2009",
          "2010",
          "2011",
          "2012",
          "2013"
         ],
         "xaxis": "x",
         "y": {
          "bdata": "LAA0ACoAMQAmACwATwClAD8ARABHANYA9wC0AEsAPQBgACsAIQAqACEASAA5ADsAVQCGAIsAawCPANYAtABWAFMAawA=",
          "dtype": "i2"
         },
         "yaxis": "y"
        },
        {
         "hovertemplate": "Country=Brazil<br>index=%{x}<br>value=%{y}<extra></extra>",
         "legendgroup": "Brazil",
         "line": {
          "color": "#00cc96",
          "dash": "solid"
         },
         "marker": {
          "symbol": "circle"
         },
         "mode": "lines+markers",
         "name": "Brazil",
         "orientation": "v",
         "showlegend": true,
         "type": "scatter",
         "x": [
          "1980",
          "1981",
          "1982",
          "1983",
          "1984",
          "1985",
          "1986",
          "1987",
          "1988",
          "1989",
          "1990",
          "1991",
          "1992",
          "1993",
          "1994",
          "1995",
          "1996",
          "1997",
          "1998",
          "1999",
          "2000",
          "2001",
          "2002",
          "2003",
          "2004",
          "2005",
          "2006",
          "2007",
          "2008",
          "2009",
          "2010",
          "2011",
          "2012",
          "2013"
         ],
         "xaxis": "x",
         "y": {
          "bdata": "0wDcAMAAiwCRAIIAzQD0AIoBigKKAm0DKgRiAzYCPAJKAk8CEwJyAk0DTwPpAkcDlQPJA50E0gZaCM0JJgrkBWoGsgY=",
          "dtype": "i2"
         },
         "yaxis": "y"
        },
        {
         "hovertemplate": "Country=Chile<br>index=%{x}<br>value=%{y}<extra></extra>",
         "legendgroup": "Chile",
         "line": {
          "color": "#ab63fa",
          "dash": "solid"
         },
         "marker": {
          "symbol": "circle"
         },
         "mode": "lines+markers",
         "name": "Chile",
         "orientation": "v",
         "showlegend": true,
         "type": "scatter",
         "x": [
          "1980",
          "1981",
          "1982",
          "1983",
          "1984",
          "1985",
          "1986",
          "1987",
          "1988",
          "1989",
          "1990",
          "1991",
          "1992",
          "1993",
          "1994",
          "1995",
          "1996",
          "1997",
          "1998",
          "1999",
          "2000",
          "2001",
          "2002",
          "2003",
          "2004",
          "2005",
          "2006",
          "2007",
          "2008",
          "2009",
          "2010",
          "2011",
          "2012",
          "2013"
         ],
         "xaxis": "x",
         "y": {
          "bdata": "0QQtBDYEDQOpAhUCeQKuBd4D/wMGBdUGlwS5AmABEQH0AEUBeAGNAW4BcQGRAVsBfwGAAasBEgJeAXcBVAGuACMBEQE=",
          "dtype": "i2"
         },
         "yaxis": "y"
        },
        {
         "hovertemplate": "Country=Colombia<br>index=%{x}<br>value=%{y}<extra></extra>",
         "legendgroup": "Colombia",
         "line": {
          "color": "#FFA15A",
          "dash": "solid"
         },
         "marker": {
          "symbol": "circle"
         },
         "mode": "lines+markers",
         "name": "Colombia",
         "orientation": "v",
         "showlegend": true,
         "type": "scatter",
         "x": [
          "1980",
          "1981",
          "1982",
          "1983",
          "1984",
          "1985",
          "1986",
          "1987",
          "1988",
          "1989",
          "1990",
          "1991",
          "1992",
          "1993",
          "1994",
          "1995",
          "1996",
          "1997",
          "1998",
          "1999",
          "2000",
          "2001",
          "2002",
          "2003",
          "2004",
          "2005",
          "2006",
          "2007",
          "2008",
          "2009",
          "2010",
          "2011",
          "2012",
          "2013"
         ],
         "xaxis": "x",
         "y": {
          "bdata": "CgFGAWgB9ADrANYAAQF4AWABtwFmAowCRgLQAXcBcwF9AUICoQMaBdMIlQvTDN4Q1hEYGYcZ7RRMFSwSYhQOEZ0OLw4=",
          "dtype": "i2"
         },
         "yaxis": "y"
        },
        {
         "hovertemplate": "Country=Ecuador<br>index=%{x}<br>value=%{y}<extra></extra>",
         "legendgroup": "Ecuador",
         "line": {
          "color": "#19d3f3",
          "dash": "solid"
         },
         "marker": {
          "symbol": "circle"
         },
         "mode": "lines+markers",
         "name": "Ecuador",
         "orientation": "v",
         "showlegend": true,
         "type": "scatter",
         "x": [
          "1980",
          "1981",
          "1982",
          "1983",
          "1984",
          "1985",
          "1986",
          "1987",
          "1988",
          "1989",
          "1990",
          "1991",
          "1992",
          "1993",
          "1994",
          "1995",
          "1996",
          "1997",
          "1998",
          "1999",
          "2000",
          "2001",
          "2002",
          "2003",
          "2004",
          "2005",
          "2006",
          "2007",
          "2008",
          "2009",
          "2010",
          "2011",
          "2012",
          "2013"
         ],
         "xaxis": "x",
         "y": {
          "bdata": "7gDPALgAmwCzANAA8ABYAQkBFgEoAoMChAIjAq8BcAE2AT0BJwEjAVYBYQGiAWkBoQHrAQ0CowG1AXUBYQFcARoBogE=",
          "dtype": "i2"
         },
         "yaxis": "y"
        },
        {
         "hovertemplate": "Country=Guyana<br>index=%{x}<br>value=%{y}<extra></extra>",
         "legendgroup": "Guyana",
         "line": {
          "color": "#FF6692",
          "dash": "solid"
         },
         "marker": {
          "symbol": "circle"
         },
         "mode": "lines+markers",
         "name": "Guyana",
         "orientation": "v",
         "showlegend": true,
         "type": "scatter",
         "x": [
          "1980",
          "1981",
          "1982",
          "1983",
          "1984",
          "1985",
          "1986",
          "1987",
          "1988",
          "1989",
          "1990",
          "1991",
          "1992",
          "1993",
          "1994",
          "1995",
          "1996",
          "1997",
          "1998",
          "1999",
          "2000",
          "2001",
          "2002",
          "2003",
          "2004",
          "2005",
          "2006",
          "2007",
          "2008",
          "2009",
          "2010",
          "2011",
          "2012",
          "2013"
         ],
         "xaxis": "x",
         "y": {
          "bdata": "Hgl/C/cNWgqMB/sIZg8eGKELxgwIC8IMdAtHDVUQXw8UCQMH1gRWBRwFqwbHBYIFPQW/BAYF/QRxBJwEuQMkA6QCkAI=",
          "dtype": "i2"
         },
         "yaxis": "y"
        },
        {
         "hovertemplate": "Country=Paraguay<br>index=%{x}<br>value=%{y}<extra></extra>",
         "legendgroup": "Paraguay",
         "line": {
          "color": "#B6E880",
          "dash": "solid"
         },
         "marker": {
          "symbol": "circle"
         },
         "mode": "lines+markers",
         "name": "Paraguay",
         "orientation": "v",
         "showlegend": true,
         "type": "scatter",
         "x": [
          "1980",
          "1981",
          "1982",
          "1983",
          "1984",
          "1985",
          "1986",
          "1987",
          "1988",
          "1989",
          "1990",
          "1991",
          "1992",
          "1993",
          "1994",
          "1995",
          "1996",
          "1997",
          "1998",
          "1999",
          "2000",
          "2001",
          "2002",
          "2003",
          "2004",
          "2005",
          "2006",
          "2007",
          "2008",
          "2009",
          "2010",
          "2011",
          "2012",
          "2013"
         ],
         "xaxis": "x",
         "y": {
          "bdata": "LRogKDAkIkg1MDgzXksuJyYeGSIdIjxYSktYYl9YWVM3Qg==",
          "dtype": "i1"
         },
         "yaxis": "y"
        },
        {
         "hovertemplate": "Country=Peru<br>index=%{x}<br>value=%{y}<extra></extra>",
         "legendgroup": "Peru",
         "line": {
          "color": "#FF97FF",
          "dash": "solid"
         },
         "marker": {
          "symbol": "circle"
         },
         "mode": "lines+markers",
         "name": "Peru",
         "orientation": "v",
         "showlegend": true,
         "type": "scatter",
         "x": [
          "1980",
          "1981",
          "1982",
          "1983",
          "1984",
          "1985",
          "1986",
          "1987",
          "1988",
          "1989",
          "1990",
          "1991",
          "1992",
          "1993",
          "1994",
          "1995",
          "1996",
          "1997",
          "1998",
          "1999",
          "2000",
          "2001",
          "2002",
          "2003",
          "2004",
          "2005",
          "2006",
          "2007",
          "2008",
          "2009",
          "2010",
          "2011",
          "2012",
          "2013"
         ],
         "xaxis": "x",
         "y": {
          "bdata": "PQHIAZEB8QAyAUgBdAJLA9UEgwZoBfIFYAb6BOEDOwNNA6QC7QEwAlsCUQNXA/8DtAV1BsEF0gVGBFwHAwV2AxMDqgI=",
          "dtype": "i2"
         },
         "yaxis": "y"
        },
        {
         "hovertemplate": "Country=Suriname<br>index=%{x}<br>value=%{y}<extra></extra>",
         "legendgroup": "Suriname",
         "line": {
          "color": "#FECB52",
          "dash": "solid"
         },
         "marker": {
          "symbol": "circle"
         },
         "mode": "lines+markers",
         "name": "Suriname",
         "orientation": "v",
         "showlegend": true,
         "type": "scatter",
         "x": [
          "1980",
          "1981",
          "1982",
          "1983",
          "1984",
          "1985",
          "1986",
          "1987",
          "1988",
          "1989",
          "1990",
          "1991",
          "1992",
          "1993",
          "1994",
          "1995",
          "1996",
          "1997",
          "1998",
          "1999",
          "2000",
          "2001",
          "2002",
          "2003",
          "2004",
          "2005",
          "2006",
          "2007",
          "2008",
          "2009",
          "2010",
          "2011",
          "2012",
          "2013"
         ],
         "xaxis": "x",
         "y": {
          "bdata": "DwoVDAUQBy4QGBoNNTMgOjMjFgsQFhYWEQ8QFAkMDQsQBA==",
          "dtype": "i1"
         },
         "yaxis": "y"
        },
        {
         "hovertemplate": "Country=Uruguay<br>index=%{x}<br>value=%{y}<extra></extra>",
         "legendgroup": "Uruguay",
         "line": {
          "color": "#636efa",
          "dash": "solid"
         },
         "marker": {
          "symbol": "circle"
         },
         "mode": "lines+markers",
         "name": "Uruguay",
         "orientation": "v",
         "showlegend": true,
         "type": "scatter",
         "x": [
          "1980",
          "1981",
          "1982",
          "1983",
          "1984",
          "1985",
          "1986",
          "1987",
          "1988",
          "1989",
          "1990",
          "1991",
          "1992",
          "1993",
          "1994",
          "1995",
          "1996",
          "1997",
          "1998",
          "1999",
          "2000",
          "2001",
          "2002",
          "2003",
          "2004",
          "2005",
          "2006",
          "2007",
          "2008",
          "2009",
          "2010",
          "2011",
          "2012",
          "2013"
         ],
         "xaxis": "x",
         "y": {
          "bdata": "gACEAJIAaQBaAFwAiQANAWMAkABvAOUAKwG1AX0ApACrAHUAVwBdAEsAQABbAGcAggDZAK8AkwCgAGMAXQBRAC8AOgA=",
          "dtype": "i2"
         },
         "yaxis": "y"
        },
        {
         "hovertemplate": "Country=Venezuela<br>index=%{x}<br>value=%{y}<extra></extra>",
         "legendgroup": "Venezuela",
         "line": {
          "color": "#EF553B",
          "dash": "solid"
         },
         "marker": {
          "symbol": "circle"
         },
         "mode": "lines+markers",
         "name": "Venezuela",
         "orientation": "v",
         "showlegend": true,
         "type": "scatter",
         "x": [
          "1980",
          "1981",
          "1982",
          "1983",
          "1984",
          "1985",
          "1986",
          "1987",
          "1988",
          "1989",
          "1990",
          "1991",
          "1992",
          "1993",
          "1994",
          "1995",
          "1996",
          "1997",
          "1998",
          "1999",
          "2000",
          "2001",
          "2002",
          "2003",
          "2004",
          "2005",
          "2006",
          "2007",
          "2008",
          "2009",
          "2010",
          "2011",
          "2012",
          "2013"
         ],
         "xaxis": "x",
         "y": {
          "bdata": "ZwB1AK4AfACOAKUAswDlABcBMAFYAecBYgLqAU4BkgEIAq4C6QHQAbsBMAIMArsCyAS7BKgENwXXBEkF5gOsBV0F/gM=",
          "dtype": "i2"
         },
         "yaxis": "y"
        }
       ],
       "layout": {
        "legend": {
         "title": {
          "text": "Country"
         },
         "tracegroupgap": 0
        },
        "template": {
         "data": {
          "bar": [
           {
            "error_x": {
             "color": "#2a3f5f"
            },
            "error_y": {
             "color": "#2a3f5f"
            },
            "marker": {
             "line": {
              "color": "#E5ECF6",
              "width": 0.5
             },
             "pattern": {
              "fillmode": "overlay",
              "size": 10,
              "solidity": 0.2
             }
            },
            "type": "bar"
           }
          ],
          "barpolar": [
           {
            "marker": {
             "line": {
              "color": "#E5ECF6",
              "width": 0.5
             },
             "pattern": {
              "fillmode": "overlay",
              "size": 10,
              "solidity": 0.2
             }
            },
            "type": "barpolar"
           }
          ],
          "carpet": [
           {
            "aaxis": {
             "endlinecolor": "#2a3f5f",
             "gridcolor": "white",
             "linecolor": "white",
             "minorgridcolor": "white",
             "startlinecolor": "#2a3f5f"
            },
            "baxis": {
             "endlinecolor": "#2a3f5f",
             "gridcolor": "white",
             "linecolor": "white",
             "minorgridcolor": "white",
             "startlinecolor": "#2a3f5f"
            },
            "type": "carpet"
           }
          ],
          "choropleth": [
           {
            "colorbar": {
             "outlinewidth": 0,
             "ticks": ""
            },
            "type": "choropleth"
           }
          ],
          "contour": [
           {
            "colorbar": {
             "outlinewidth": 0,
             "ticks": ""
            },
            "colorscale": [
             [
              0,
              "#0d0887"
             ],
             [
              0.1111111111111111,
              "#46039f"
             ],
             [
              0.2222222222222222,
              "#7201a8"
             ],
             [
              0.3333333333333333,
              "#9c179e"
             ],
             [
              0.4444444444444444,
              "#bd3786"
             ],
             [
              0.5555555555555556,
              "#d8576b"
             ],
             [
              0.6666666666666666,
              "#ed7953"
             ],
             [
              0.7777777777777778,
              "#fb9f3a"
             ],
             [
              0.8888888888888888,
              "#fdca26"
             ],
             [
              1,
              "#f0f921"
             ]
            ],
            "type": "contour"
           }
          ],
          "contourcarpet": [
           {
            "colorbar": {
             "outlinewidth": 0,
             "ticks": ""
            },
            "type": "contourcarpet"
           }
          ],
          "heatmap": [
           {
            "colorbar": {
             "outlinewidth": 0,
             "ticks": ""
            },
            "colorscale": [
             [
              0,
              "#0d0887"
             ],
             [
              0.1111111111111111,
              "#46039f"
             ],
             [
              0.2222222222222222,
              "#7201a8"
             ],
             [
              0.3333333333333333,
              "#9c179e"
             ],
             [
              0.4444444444444444,
              "#bd3786"
             ],
             [
              0.5555555555555556,
              "#d8576b"
             ],
             [
              0.6666666666666666,
              "#ed7953"
             ],
             [
              0.7777777777777778,
              "#fb9f3a"
             ],
             [
              0.8888888888888888,
              "#fdca26"
             ],
             [
              1,
              "#f0f921"
             ]
            ],
            "type": "heatmap"
           }
          ],
          "histogram": [
           {
            "marker": {
             "pattern": {
              "fillmode": "overlay",
              "size": 10,
              "solidity": 0.2
             }
            },
            "type": "histogram"
           }
          ],
          "histogram2d": [
           {
            "colorbar": {
             "outlinewidth": 0,
             "ticks": ""
            },
            "colorscale": [
             [
              0,
              "#0d0887"
             ],
             [
              0.1111111111111111,
              "#46039f"
             ],
             [
              0.2222222222222222,
              "#7201a8"
             ],
             [
              0.3333333333333333,
              "#9c179e"
             ],
             [
              0.4444444444444444,
              "#bd3786"
             ],
             [
              0.5555555555555556,
              "#d8576b"
             ],
             [
              0.6666666666666666,
              "#ed7953"
             ],
             [
              0.7777777777777778,
              "#fb9f3a"
             ],
             [
              0.8888888888888888,
              "#fdca26"
             ],
             [
              1,
              "#f0f921"
             ]
            ],
            "type": "histogram2d"
           }
          ],
          "histogram2dcontour": [
           {
            "colorbar": {
             "outlinewidth": 0,
             "ticks": ""
            },
            "colorscale": [
             [
              0,
              "#0d0887"
             ],
             [
              0.1111111111111111,
              "#46039f"
             ],
             [
              0.2222222222222222,
              "#7201a8"
             ],
             [
              0.3333333333333333,
              "#9c179e"
             ],
             [
              0.4444444444444444,
              "#bd3786"
             ],
             [
              0.5555555555555556,
              "#d8576b"
             ],
             [
              0.6666666666666666,
              "#ed7953"
             ],
             [
              0.7777777777777778,
              "#fb9f3a"
             ],
             [
              0.8888888888888888,
              "#fdca26"
             ],
             [
              1,
              "#f0f921"
             ]
            ],
            "type": "histogram2dcontour"
           }
          ],
          "mesh3d": [
           {
            "colorbar": {
             "outlinewidth": 0,
             "ticks": ""
            },
            "type": "mesh3d"
           }
          ],
          "parcoords": [
           {
            "line": {
             "colorbar": {
              "outlinewidth": 0,
              "ticks": ""
             }
            },
            "type": "parcoords"
           }
          ],
          "pie": [
           {
            "automargin": true,
            "type": "pie"
           }
          ],
          "scatter": [
           {
            "fillpattern": {
             "fillmode": "overlay",
             "size": 10,
             "solidity": 0.2
            },
            "type": "scatter"
           }
          ],
          "scatter3d": [
           {
            "line": {
             "colorbar": {
              "outlinewidth": 0,
              "ticks": ""
             }
            },
            "marker": {
             "colorbar": {
              "outlinewidth": 0,
              "ticks": ""
             }
            },
            "type": "scatter3d"
           }
          ],
          "scattercarpet": [
           {
            "marker": {
             "colorbar": {
              "outlinewidth": 0,
              "ticks": ""
             }
            },
            "type": "scattercarpet"
           }
          ],
          "scattergeo": [
           {
            "marker": {
             "colorbar": {
              "outlinewidth": 0,
              "ticks": ""
             }
            },
            "type": "scattergeo"
           }
          ],
          "scattergl": [
           {
            "marker": {
             "colorbar": {
              "outlinewidth": 0,
              "ticks": ""
             }
            },
            "type": "scattergl"
           }
          ],
          "scattermap": [
           {
            "marker": {
             "colorbar": {
              "outlinewidth": 0,
              "ticks": ""
             }
            },
            "type": "scattermap"
           }
          ],
          "scattermapbox": [
           {
            "marker": {
             "colorbar": {
              "outlinewidth": 0,
              "ticks": ""
             }
            },
            "type": "scattermapbox"
           }
          ],
          "scatterpolar": [
           {
            "marker": {
             "colorbar": {
              "outlinewidth": 0,
              "ticks": ""
             }
            },
            "type": "scatterpolar"
           }
          ],
          "scatterpolargl": [
           {
            "marker": {
             "colorbar": {
              "outlinewidth": 0,
              "ticks": ""
             }
            },
            "type": "scatterpolargl"
           }
          ],
          "scatterternary": [
           {
            "marker": {
             "colorbar": {
              "outlinewidth": 0,
              "ticks": ""
             }
            },
            "type": "scatterternary"
           }
          ],
          "surface": [
           {
            "colorbar": {
             "outlinewidth": 0,
             "ticks": ""
            },
            "colorscale": [
             [
              0,
              "#0d0887"
             ],
             [
              0.1111111111111111,
              "#46039f"
             ],
             [
              0.2222222222222222,
              "#7201a8"
             ],
             [
              0.3333333333333333,
              "#9c179e"
             ],
             [
              0.4444444444444444,
              "#bd3786"
             ],
             [
              0.5555555555555556,
              "#d8576b"
             ],
             [
              0.6666666666666666,
              "#ed7953"
             ],
             [
              0.7777777777777778,
              "#fb9f3a"
             ],
             [
              0.8888888888888888,
              "#fdca26"
             ],
             [
              1,
              "#f0f921"
             ]
            ],
            "type": "surface"
           }
          ],
          "table": [
           {
            "cells": {
             "fill": {
              "color": "#EBF0F8"
             },
             "line": {
              "color": "white"
             }
            },
            "header": {
             "fill": {
              "color": "#C8D4E3"
             },
             "line": {
              "color": "white"
             }
            },
            "type": "table"
           }
          ]
         },
         "layout": {
          "annotationdefaults": {
           "arrowcolor": "#2a3f5f",
           "arrowhead": 0,
           "arrowwidth": 1
          },
          "autotypenumbers": "strict",
          "coloraxis": {
           "colorbar": {
            "outlinewidth": 0,
            "ticks": ""
           }
          },
          "colorscale": {
           "diverging": [
            [
             0,
             "#8e0152"
            ],
            [
             0.1,
             "#c51b7d"
            ],
            [
             0.2,
             "#de77ae"
            ],
            [
             0.3,
             "#f1b6da"
            ],
            [
             0.4,
             "#fde0ef"
            ],
            [
             0.5,
             "#f7f7f7"
            ],
            [
             0.6,
             "#e6f5d0"
            ],
            [
             0.7,
             "#b8e186"
            ],
            [
             0.8,
             "#7fbc41"
            ],
            [
             0.9,
             "#4d9221"
            ],
            [
             1,
             "#276419"
            ]
           ],
           "sequential": [
            [
             0,
             "#0d0887"
            ],
            [
             0.1111111111111111,
             "#46039f"
            ],
            [
             0.2222222222222222,
             "#7201a8"
            ],
            [
             0.3333333333333333,
             "#9c179e"
            ],
            [
             0.4444444444444444,
             "#bd3786"
            ],
            [
             0.5555555555555556,
             "#d8576b"
            ],
            [
             0.6666666666666666,
             "#ed7953"
            ],
            [
             0.7777777777777778,
             "#fb9f3a"
            ],
            [
             0.8888888888888888,
             "#fdca26"
            ],
            [
             1,
             "#f0f921"
            ]
           ],
           "sequentialminus": [
            [
             0,
             "#0d0887"
            ],
            [
             0.1111111111111111,
             "#46039f"
            ],
            [
             0.2222222222222222,
             "#7201a8"
            ],
            [
             0.3333333333333333,
             "#9c179e"
            ],
            [
             0.4444444444444444,
             "#bd3786"
            ],
            [
             0.5555555555555556,
             "#d8576b"
            ],
            [
             0.6666666666666666,
             "#ed7953"
            ],
            [
             0.7777777777777778,
             "#fb9f3a"
            ],
            [
             0.8888888888888888,
             "#fdca26"
            ],
            [
             1,
             "#f0f921"
            ]
           ]
          },
          "colorway": [
           "#636efa",
           "#EF553B",
           "#00cc96",
           "#ab63fa",
           "#FFA15A",
           "#19d3f3",
           "#FF6692",
           "#B6E880",
           "#FF97FF",
           "#FECB52"
          ],
          "font": {
           "color": "#2a3f5f"
          },
          "geo": {
           "bgcolor": "white",
           "lakecolor": "white",
           "landcolor": "#E5ECF6",
           "showlakes": true,
           "showland": true,
           "subunitcolor": "white"
          },
          "hoverlabel": {
           "align": "left"
          },
          "hovermode": "closest",
          "mapbox": {
           "style": "light"
          },
          "paper_bgcolor": "white",
          "plot_bgcolor": "#E5ECF6",
          "polar": {
           "angularaxis": {
            "gridcolor": "white",
            "linecolor": "white",
            "ticks": ""
           },
           "bgcolor": "#E5ECF6",
           "radialaxis": {
            "gridcolor": "white",
            "linecolor": "white",
            "ticks": ""
           }
          },
          "scene": {
           "xaxis": {
            "backgroundcolor": "#E5ECF6",
            "gridcolor": "white",
            "gridwidth": 2,
            "linecolor": "white",
            "showbackground": true,
            "ticks": "",
            "zerolinecolor": "white"
           },
           "yaxis": {
            "backgroundcolor": "#E5ECF6",
            "gridcolor": "white",
            "gridwidth": 2,
            "linecolor": "white",
            "showbackground": true,
            "ticks": "",
            "zerolinecolor": "white"
           },
           "zaxis": {
            "backgroundcolor": "#E5ECF6",
            "gridcolor": "white",
            "gridwidth": 2,
            "linecolor": "white",
            "showbackground": true,
            "ticks": "",
            "zerolinecolor": "white"
           }
          },
          "shapedefaults": {
           "line": {
            "color": "#2a3f5f"
           }
          },
          "ternary": {
           "aaxis": {
            "gridcolor": "white",
            "linecolor": "white",
            "ticks": ""
           },
           "baxis": {
            "gridcolor": "white",
            "linecolor": "white",
            "ticks": ""
           },
           "bgcolor": "#E5ECF6",
           "caxis": {
            "gridcolor": "white",
            "linecolor": "white",
            "ticks": ""
           }
          },
          "title": {
           "x": 0.05
          },
          "xaxis": {
           "automargin": true,
           "gridcolor": "white",
           "linecolor": "white",
           "ticks": "",
           "title": {
            "standoff": 15
           },
           "zerolinecolor": "white",
           "zerolinewidth": 2
          },
          "yaxis": {
           "automargin": true,
           "gridcolor": "white",
           "linecolor": "white",
           "ticks": "",
           "title": {
            "standoff": 15
           },
           "zerolinecolor": "white",
           "zerolinewidth": 2
          }
         }
        },
        "title": {
         "text": "Imigração dos Países da America do Sul para o Canadá de 1980 a 2013"
        },
        "xaxis": {
         "anchor": "y",
         "domain": [
          0,
          1
         ],
         "tickangle": -45,
         "title": {
          "text": "Ano"
         }
        },
        "yaxis": {
         "anchor": "x",
         "domain": [
          0,
          1
         ],
         "title": {
          "text": "Número de imigrantes"
         }
        }
       }
      }
     },
     "metadata": {},
     "output_type": "display_data"
    }
   ],
   "source": [
    "fig = px.line(south_america_clean,x=south_america_clean.index,y=south_america_clean.columns,color='Country',\n",
    "              title='Imigração dos Países da America do Sul para o Canadá de 1980 a 2013',markers=True)\n",
    "\n",
    "fig.update_layout(\n",
    "    xaxis={'tickangle': -45},\n",
    "    xaxis_title='Ano',\n",
    "    yaxis_title='Número de imigrantes')\n",
    "\n",
    "fig.show()"
   ]
  },
  {
   "cell_type": "markdown",
   "id": "1391423d",
   "metadata": {},
   "source": [
    "#Podemos exportar em Html muito util para apresentações"
   ]
  },
  {
   "cell_type": "code",
   "execution_count": 22,
   "id": "481e7e73",
   "metadata": {},
   "outputs": [],
   "source": [
    "fig.write_html('imigracao_america_sul.html')"
   ]
  }
 ],
 "metadata": {
  "kernelspec": {
   "display_name": "testes",
   "language": "python",
   "name": "python3"
  },
  "language_info": {
   "codemirror_mode": {
    "name": "ipython",
    "version": 3
   },
   "file_extension": ".py",
   "mimetype": "text/x-python",
   "name": "python",
   "nbconvert_exporter": "python",
   "pygments_lexer": "ipython3",
   "version": "3.10.18"
  }
 },
 "nbformat": 4,
 "nbformat_minor": 5
}
