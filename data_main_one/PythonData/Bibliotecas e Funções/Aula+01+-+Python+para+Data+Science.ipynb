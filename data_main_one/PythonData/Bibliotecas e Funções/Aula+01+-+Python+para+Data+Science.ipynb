{
 "cells": [
  {
   "cell_type": "markdown",
   "metadata": {
    "id": "AGc2Cf4cBwd7"
   },
   "source": [
    "# <font color=green> PYTHON PARA DATA SCIENCE\n",
    "---"
   ]
  },
  {
   "cell_type": "markdown",
   "metadata": {
    "id": "fH2br9y9CYZ8"
   },
   "source": [
    "## <font color=green> 1. BIBLIOTECAS\n",
    "---"
   ]
  },
  {
   "cell_type": "markdown",
   "metadata": {
    "id": "jjEKgfiuFzHz"
   },
   "source": [
    "## 1.1 Instalação e importação de bibliotecas\n",
    "\n",
    "Na linguagem Python utiliza-se bastante o conceito de bibliotecas como um conjunto de módulos e funções úteis para o usuário. Elas facilitam em reduzir o uso de códigos no projeto, mantendo apenas o necessário para a tarefa que desejamos realizar."
   ]
  },
  {
   "cell_type": "markdown",
   "metadata": {
    "id": "JjpazCgqDRfZ"
   },
   "source": [
    "### Instalando uma biblioteca"
   ]
  },
  {
   "cell_type": "markdown",
   "metadata": {
    "id": "_qnuIo7oIQYx"
   },
   "source": [
    "Para instalar ou atualizar uma biblioteca no Python, podemos recorrer ao `pip` que é um gerenciador de bibliotecas no Python. "
   ]
  },
  {
   "cell_type": "code",
   "execution_count": null,
   "metadata": {
    "colab": {
     "base_uri": "https://localhost:8080/"
    },
    "executionInfo": {
     "elapsed": 3957,
     "status": "ok",
     "timestamp": 1678838783284,
     "user": {
      "displayName": "Afonso Augusto Rios",
      "userId": "05972796828124452071"
     },
     "user_tz": 180
    },
    "id": "rsxrF2fEDWcc",
    "outputId": "6c03fde2-4123-4fb9-efc8-00575efbdd3a"
   },
   "outputs": [],
   "source": [
    "# Instalando a biblioteca matplotlib pelo pip\n",
    "# !pip install matplotlib"
   ]
  },
  {
   "cell_type": "code",
   "execution_count": null,
   "metadata": {
    "colab": {
     "base_uri": "https://localhost:8080/"
    },
    "executionInfo": {
     "elapsed": 4448,
     "status": "ok",
     "timestamp": 1678839015622,
     "user": {
      "displayName": "Afonso Augusto Rios",
      "userId": "05972796828124452071"
     },
     "user_tz": 180
    },
    "id": "s7JtnISoNHjf",
    "outputId": "e7bb62a4-64ca-4cbe-8e09-dc1bdfeb5a83"
   },
   "outputs": [],
   "source": [
    "# # Instalando uma versão específica do matplotlib\n",
    "# !pip install matplotlib==3.6.2"
   ]
  },
  {
   "cell_type": "markdown",
   "metadata": {
    "id": "IHTmQnlXInD1"
   },
   "source": [
    "Existe também o PYPI que é um repositório de bibliotecas Python que traz as bibliotecas mais utilizadas pela comunidade junto a informações de como usar e acesso as documentações de cada uma delas.\n",
    "\n",
    "- PYPI ([https://pypi.org/](https://pypi.org/))"
   ]
  },
  {
   "cell_type": "markdown",
   "metadata": {
    "id": "A76TbnDbDehe"
   },
   "source": [
    "### Importando uma biblioteca"
   ]
  },
  {
   "cell_type": "code",
   "execution_count": 2,
   "metadata": {
    "executionInfo": {
     "elapsed": 300,
     "status": "ok",
     "timestamp": 1678839072755,
     "user": {
      "displayName": "Afonso Augusto Rios",
      "userId": "05972796828124452071"
     },
     "user_tz": 180
    },
    "id": "IOP3GEKUDNaS"
   },
   "outputs": [],
   "source": [
    "# Importando uma biblioteca sem alias\n",
    "import matplotlib"
   ]
  },
  {
   "cell_type": "code",
   "execution_count": 3,
   "metadata": {
    "colab": {
     "base_uri": "https://localhost:8080/",
     "height": 35
    },
    "executionInfo": {
     "elapsed": 295,
     "status": "ok",
     "timestamp": 1678839137591,
     "user": {
      "displayName": "Afonso Augusto Rios",
      "userId": "05972796828124452071"
     },
     "user_tz": 180
    },
    "id": "xciT3_H0DNUS",
    "outputId": "d4d667de-754e-4cb4-9843-bdf54d41bbc1"
   },
   "outputs": [
    {
     "data": {
      "application/vnd.google.colaboratory.intrinsic+json": {
       "type": "string"
      },
      "text/plain": [
       "'3.6.2'"
      ]
     },
     "execution_count": 3,
     "metadata": {},
     "output_type": "execute_result"
    }
   ],
   "source": [
    "matplotlib.__version__"
   ]
  },
  {
   "cell_type": "code",
   "execution_count": 4,
   "metadata": {
    "executionInfo": {
     "elapsed": 298,
     "status": "ok",
     "timestamp": 1678839320216,
     "user": {
      "displayName": "Afonso Augusto Rios",
      "userId": "05972796828124452071"
     },
     "user_tz": 180
    },
    "id": "I8x0l_5uDNXE"
   },
   "outputs": [],
   "source": [
    "# Importando uma biblioteca com alias\n",
    "import matplotlib.pyplot as plt"
   ]
  },
  {
   "cell_type": "code",
   "execution_count": 5,
   "metadata": {
    "executionInfo": {
     "elapsed": 286,
     "status": "ok",
     "timestamp": 1678839333612,
     "user": {
      "displayName": "Afonso Augusto Rios",
      "userId": "05972796828124452071"
     },
     "user_tz": 180
    },
    "id": "MjQYbxA-DWWT"
   },
   "outputs": [],
   "source": [
    "plt.show()"
   ]
  },
  {
   "cell_type": "markdown",
   "metadata": {
    "id": "oMxkV9-6GXwH"
   },
   "source": [
    "## 1.2 Utilizando pacotes/bibliotecas\n",
    "\n",
    "- Documentação do Python (https://docs.python.org/pt-br/3/)"
   ]
  },
  {
   "cell_type": "markdown",
   "metadata": {
    "id": "W1MHaXB2Q7tT"
   },
   "source": [
    "#### Exemplo 1: Vamos testar a biblioteca Matplotlib para um exemplo de médias de estudantes de uma classe.\n",
    "\n",
    "(https://matplotlib.org/stable/tutorials/introductory/pyplot.html)"
   ]
  },
  {
   "cell_type": "code",
   "execution_count": 6,
   "metadata": {
    "executionInfo": {
     "elapsed": 2,
     "status": "ok",
     "timestamp": 1678840487512,
     "user": {
      "displayName": "Afonso Augusto Rios",
      "userId": "05972796828124452071"
     },
     "user_tz": 180
    },
    "id": "jKBw5ho2DWTa"
   },
   "outputs": [],
   "source": [
    "import matplotlib.pyplot as plt"
   ]
  },
  {
   "cell_type": "code",
   "execution_count": 8,
   "metadata": {
    "executionInfo": {
     "elapsed": 329,
     "status": "ok",
     "timestamp": 1678840593094,
     "user": {
      "displayName": "Afonso Augusto Rios",
      "userId": "05972796828124452071"
     },
     "user_tz": 180
    },
    "id": "3Q8p9LonGo63"
   },
   "outputs": [],
   "source": [
    "estudantes = [\"João\", \"Maria\", \"José\"]\n",
    "notas = [8.5, 9, 6.5]"
   ]
  },
  {
   "cell_type": "code",
   "execution_count": 9,
   "metadata": {
    "colab": {
     "base_uri": "https://localhost:8080/",
     "height": 283
    },
    "executionInfo": {
     "elapsed": 584,
     "status": "ok",
     "timestamp": 1678840597615,
     "user": {
      "displayName": "Afonso Augusto Rios",
      "userId": "05972796828124452071"
     },
     "user_tz": 180
    },
    "id": "yhwQqLmBRvIw",
    "outputId": "9e6618cf-bfac-4e9e-9147-3c54d062111d"
   },
   "outputs": [
    {
     "data": {
      "text/plain": [
       "<BarContainer object of 3 artists>"
      ]
     },
     "execution_count": 9,
     "metadata": {},
     "output_type": "execute_result"
    },
    {
     "data": {
      "image/png": "[encoded data removed]",
      "text/plain": [
       "<Figure size 432x288 with 1 Axes>"
      ]
     },
     "metadata": {
      "needs_background": "light"
     },
     "output_type": "display_data"
    }
   ],
   "source": [
    "plt.bar(x = estudantes, height = notas)"
   ]
  },
  {
   "cell_type": "markdown",
   "metadata": {
    "id": "5G6u4ZRYRIFZ"
   },
   "source": [
    "#### Exemplo 2: Vamos selecionar aleatoriamente um aluno para apresentar o seu trabalho de ciência de dados usando a biblioteca Random\n",
    "\n",
    "(https://docs.python.org/pt-br/3/library/random.html)"
   ]
  },
  {
   "cell_type": "code",
   "execution_count": 10,
   "metadata": {
    "executionInfo": {
     "elapsed": 286,
     "status": "ok",
     "timestamp": 1678840683178,
     "user": {
      "displayName": "Afonso Augusto Rios",
      "userId": "05972796828124452071"
     },
     "user_tz": 180
    },
    "id": "vnqGBX4DYv17"
   },
   "outputs": [],
   "source": [
    "estudantes_2 = [\"João\", \"Maria\", \"José\", \"Ana\"]"
   ]
  },
  {
   "cell_type": "code",
   "execution_count": 13,
   "metadata": {
    "executionInfo": {
     "elapsed": 278,
     "status": "ok",
     "timestamp": 1678840812014,
     "user": {
      "displayName": "Afonso Augusto Rios",
      "userId": "05972796828124452071"
     },
     "user_tz": 180
    },
    "id": "5UYHaiWaGoy1"
   },
   "outputs": [],
   "source": [
    "# Importando uma função específica de uma biblioteca\n",
    "from random import choice"
   ]
  },
  {
   "cell_type": "markdown",
   "metadata": {
    "id": "N-XJrnISGpTN"
   },
   "source": [
    "<font color=green>**Dica:**</font> Você pode notar ao longo de nossa prática a importância de recorrer a documentação para aprender como utilizar um método ou pacote na linguagem Python. \n",
    "\n",
    "O método `help()`, por exemplo, retorna uma descrição sobre uma variável, método ou classe.\n",
    "\n",
    "https://docs.python.org/pt-br/3/library/functions.html?#help"
   ]
  },
  {
   "cell_type": "code",
   "execution_count": 14,
   "metadata": {
    "colab": {
     "base_uri": "https://localhost:8080/"
    },
    "executionInfo": {
     "elapsed": 452,
     "status": "ok",
     "timestamp": 1678840820970,
     "user": {
      "displayName": "Afonso Augusto Rios",
      "userId": "05972796828124452071"
     },
     "user_tz": 180
    },
    "id": "fKv4W4PJXNOR",
    "outputId": "6189596c-d267-4b08-af06-63f6dcdb0647"
   },
   "outputs": [
    {
     "name": "stdout",
     "output_type": "stream",
     "text": [
      "Help on method choice in module random:\n",
      "\n",
      "choice(seq) method of random.Random instance\n",
      "    Choose a random element from a non-empty sequence.\n",
      "\n"
     ]
    }
   ],
   "source": [
    "help(choice)"
   ]
  },
  {
   "cell_type": "code",
   "execution_count": 16,
   "metadata": {
    "colab": {
     "base_uri": "https://localhost:8080/",
     "height": 35
    },
    "executionInfo": {
     "elapsed": 422,
     "status": "ok",
     "timestamp": 1678840909368,
     "user": {
      "displayName": "Afonso Augusto Rios",
      "userId": "05972796828124452071"
     },
     "user_tz": 180
    },
    "id": "Pal_mZsFcV80",
    "outputId": "f3917bca-8e03-4dea-b3c0-39fcf69615df"
   },
   "outputs": [
    {
     "data": {
      "application/vnd.google.colaboratory.intrinsic+json": {
       "type": "string"
      },
      "text/plain": [
       "'José'"
      ]
     },
     "execution_count": 16,
     "metadata": {},
     "output_type": "execute_result"
    }
   ],
   "source": [
    "estudante = choice(estudantes_2)\n",
    "estudante"
   ]
  },
  {
   "cell_type": "markdown",
   "metadata": {
    "id": "2hrSPmlcBwWS"
   },
   "source": [
    "## <font color=green> 2. FUNÇÕES\n",
    "---"
   ]
  },
  {
   "cell_type": "markdown",
   "metadata": {
    "id": "gC4lHsW-DREY"
   },
   "source": [
    "Na linguagem Python, as **funções** são sequências de instruções que executam tarefas específicas, podendo ser reutilizadas em diferentes partes do código. Elas podem receber parâmetros de entrada (que podemos chamar de *inputs*) e também retornar resultados."
   ]
  },
  {
   "cell_type": "markdown",
   "metadata": {
    "id": "Qr_h1_UNEzHZ"
   },
   "source": [
    "## 2.1 Built-in function\n",
    "\n",
    "O interpretador do Python já possui uma série de funções embutidas que podem ser invocadas a qualquer momento. Algumas que vamos utilizar ao longo desse curso são: type(), print(), list(), zip(), sum(), map() etc.\n",
    "\n",
    "***Documentação:***\n",
    "https://docs.python.org/pt-br/3/library/functions.html\n"
   ]
  },
  {
   "cell_type": "markdown",
   "metadata": {
    "id": "MMOJIW3TyLIB"
   },
   "source": [
    "#### **Situação 1:**\n",
    "\n",
    "A escola em que estamos construindo o nosso case de dados compartilhou os dados das notas de um estudante para que pudéssemos calcular a média deste em até uma casa decimal. \n",
    "\n",
    "Os dados recebidos correspondem a um dicionário com as chaves indicando o trimestre em questão e os valores das notas de cada trimestre do estudante em uma dada matéria."
   ]
  },
  {
   "cell_type": "code",
   "execution_count": null,
   "metadata": {
    "colab": {
     "base_uri": "https://localhost:8080/"
    },
    "id": "kRAMC_KbI6U4",
    "outputId": "06f7bfdd-8551-4d59-8ccb-0d8718dd890e"
   },
   "outputs": [
    {
     "data": {
      "text/plain": [
       "{'1º Trimestre': 8.5, '2º Trimestre': 7.5, '3º Trimestre': 9}"
      ]
     },
     "execution_count": 27,
     "metadata": {},
     "output_type": "execute_result"
    }
   ],
   "source": [
    "# Notas do(a) estudante\n",
    "notas = {'1º Trimestre': 8.5, '2º Trimestre': 7.5, '3º Trimestre': 9}\n",
    "notas"
   ]
  },
  {
   "cell_type": "code",
   "execution_count": null,
   "metadata": {
    "id": "S7vIqSZJI6P4"
   },
   "outputs": [],
   "source": [
    "# Calculando a soma\n"
   ]
  },
  {
   "cell_type": "code",
   "execution_count": null,
   "metadata": {
    "id": "yr9YSRwNPF9S"
   },
   "outputs": [],
   "source": [
    "# Usando a função embutida sum()\n"
   ]
  },
  {
   "cell_type": "code",
   "execution_count": null,
   "metadata": {
    "id": "Zn6XAAdQI6Fw"
   },
   "outputs": [],
   "source": [
    "# Usando a função embutida len()\n"
   ]
  },
  {
   "cell_type": "code",
   "execution_count": null,
   "metadata": {
    "id": "iUx5UixrNsQh"
   },
   "outputs": [],
   "source": [
    "# calculando a média\n"
   ]
  },
  {
   "cell_type": "markdown",
   "metadata": {
    "id": "JD2z3LW8312E"
   },
   "source": [
    "*Arredondar a média usando round():*\n",
    "\n",
    "https://docs.python.org/pt-br/3/library/functions.html#round"
   ]
  },
  {
   "cell_type": "code",
   "execution_count": null,
   "metadata": {
    "id": "OAZC5RwkSwWh"
   },
   "outputs": [],
   "source": []
  },
  {
   "cell_type": "code",
   "execution_count": null,
   "metadata": {
    "id": "cJ1C2Pg-4PNq"
   },
   "outputs": [],
   "source": []
  },
  {
   "cell_type": "markdown",
   "metadata": {
    "id": "NCUSezOJIdfy"
   },
   "source": [
    "## 2.2 Criando funções"
   ]
  },
  {
   "cell_type": "markdown",
   "metadata": {
    "id": "QrTAXwghsg6s"
   },
   "source": [
    "Depois de explorarmos a built-in functions e aprendermos como utilizar algumas delas, você pode se deparar com a necessidade de resolver um problema específico em que elas não serão o suficiente.\n",
    "\n",
    "Nesse ponto, precisaremos criar as nossas próprias funções, ainda mais se precisarmos utilizá-las em mais partes de nossos códigos."
   ]
  },
  {
   "cell_type": "markdown",
   "metadata": {
    "id": "zxyXiX462A_X"
   },
   "source": [
    "### Funções sem parâmetros\n",
    "\n",
    "#### Formato padrão:\n",
    "\n",
    "```python\n",
    "def <nome>():\n",
    "  <instruções>\n",
    "```"
   ]
  },
  {
   "cell_type": "code",
   "execution_count": null,
   "metadata": {
    "id": "zQtsnpyCzHfb"
   },
   "outputs": [],
   "source": []
  },
  {
   "cell_type": "code",
   "execution_count": null,
   "metadata": {
    "id": "Eq4U8TPq0xOv"
   },
   "outputs": [],
   "source": []
  },
  {
   "cell_type": "markdown",
   "metadata": {
    "id": "o9AR_DNDFKSD"
   },
   "source": [
    "### Funções com parâmetros\n",
    "\n",
    "#### Formato padrão:\n",
    "\n",
    "```python\n",
    "def <nome>(<param_1>, <param_2>, ..., <param_n>):\n",
    "  <instruções>\n",
    "```"
   ]
  },
  {
   "cell_type": "code",
   "execution_count": null,
   "metadata": {
    "id": "zVIvbjeRDR24"
   },
   "outputs": [],
   "source": []
  },
  {
   "cell_type": "code",
   "execution_count": null,
   "metadata": {
    "id": "c6H9lfBn3FuA"
   },
   "outputs": [],
   "source": []
  },
  {
   "cell_type": "code",
   "execution_count": null,
   "metadata": {
    "id": "38M9GYEVQp_x"
   },
   "outputs": [],
   "source": []
  },
  {
   "cell_type": "markdown",
   "metadata": {
    "id": "-Umx7n134suz"
   },
   "source": [
    "#### **Situação 2:**\n",
    "\n",
    "Recebemos uma demanda de calcular a média de um estudante a partir de uma lista, sendo possível alterar a quantidade de notas, sem impedir que o cálculo seja refeito.\n",
    "\n",
    "Os dados recebidos, desta vez, correspondem a uma lista contendo apenas as notas de um estudante em uma dada matéria.\n",
    "\n",
    "**Vamos resolver esse desafio?**\n",
    "\n",
    "Para facilitar o nosso entendimento do processo vamos aplicar às notas de apenas um estudante, mas você pode testar outros casos para treinar."
   ]
  },
  {
   "cell_type": "code",
   "execution_count": null,
   "metadata": {
    "id": "9AiWnXLuzc1P"
   },
   "outputs": [],
   "source": [
    "# Notas do(a) estudante\n",
    "notas = [8.5, 9.0, 6.0, 10.0]"
   ]
  },
  {
   "cell_type": "code",
   "execution_count": null,
   "metadata": {
    "id": "bEf8Evf1DR0I"
   },
   "outputs": [],
   "source": []
  },
  {
   "cell_type": "code",
   "execution_count": null,
   "metadata": {
    "id": "R5ylO_vW6k8C"
   },
   "outputs": [],
   "source": []
  },
  {
   "cell_type": "code",
   "execution_count": null,
   "metadata": {
    "id": "9wNMcPOK_T9F"
   },
   "outputs": [],
   "source": []
  },
  {
   "cell_type": "code",
   "execution_count": null,
   "metadata": {
    "id": "4xnmTQ9w_ZTi"
   },
   "outputs": [],
   "source": []
  },
  {
   "cell_type": "code",
   "execution_count": null,
   "metadata": {
    "id": "x6m24TcG_W3w"
   },
   "outputs": [],
   "source": []
  },
  {
   "cell_type": "markdown",
   "metadata": {
    "id": "skMq7d0_xHND"
   },
   "source": [
    "<font color=red>**Atenção!**</font>\n",
    "Quando utilizamos funções precisamos prestar atenção a uma propriedade chamada **escopo de uma função**\n",
    "\n",
    "Ela determina onde uma variável pode ser utilizada dentro do código. Por exemplo, uma variável criada dentro de uma função existirá apenas dentro da função. Ou seja, encerrando a execução da função, a variável não estará disponível para o usuário no restante do código. "
   ]
  },
  {
   "cell_type": "code",
   "execution_count": null,
   "metadata": {
    "id": "5FBWT2_gzIzR"
   },
   "outputs": [],
   "source": []
  },
  {
   "cell_type": "markdown",
   "metadata": {
    "id": "-oDFGKcA52kG"
   },
   "source": [
    "## 2.3 Funções que retornam valores\n",
    "\n",
    "#### Formato padrão:\n",
    "\n",
    "```python\n",
    "def <nome>(<param_1>, <param_2>, ..., <param_n>):\n",
    "  <instruções>\n",
    "  return resultado\n",
    "```"
   ]
  },
  {
   "cell_type": "markdown",
   "metadata": {
    "id": "DxvT_uItbQ-q"
   },
   "source": [
    "Retomando a atividade anterior, podemos retornar e salvar o valor da média da seguinte forma:"
   ]
  },
  {
   "cell_type": "code",
   "execution_count": null,
   "metadata": {
    "id": "GlWdnX7Ubgl3"
   },
   "outputs": [],
   "source": [
    "# Notas do(a) estudante\n",
    "notas = [8.5, 9.0, 6.0, 10.0]"
   ]
  },
  {
   "cell_type": "code",
   "execution_count": null,
   "metadata": {
    "id": "B6yqoM7KAKKK"
   },
   "outputs": [],
   "source": [
    "def media(lista):\n",
    "  calculo = sum(lista) / len(lista)\n",
    "  ..."
   ]
  },
  {
   "cell_type": "code",
   "execution_count": null,
   "metadata": {
    "id": "GlqPKe3_AT0Q"
   },
   "outputs": [],
   "source": []
  },
  {
   "cell_type": "code",
   "execution_count": null,
   "metadata": {
    "id": "E81HZh8rAYJz"
   },
   "outputs": [],
   "source": []
  },
  {
   "cell_type": "markdown",
   "metadata": {
    "id": "_awyOKOH8OOi"
   },
   "source": [
    "#### **Situação 3:**\n",
    "\n",
    "Recebemos uma nova demanda, desta vez, de calcular a média de um estudante a partir de uma lista e retornar tanto a média quanto a situação do estudante (\"Aprovado(a)\" se a nota for maior ou igual a 6.0, caso contrário, será \"Reprovado(a)\"). \n",
    "\n",
    "Além disso, precisamos exibir um pequeno texto em que indicamos a média do(a) estudante e qual a situação. Os dados recebidos correspondem a uma lista contendo apenas as notas de um estudante em uma dada matéria.\n",
    "\n",
    "**Vamos resolver esse desafio?**\n",
    "\n",
    "Para facilitar o nosso entendimento do processo vamos aplicar as notas de apenas um estudante, mas você pode testar outros casos para treinar."
   ]
  },
  {
   "cell_type": "code",
   "execution_count": null,
   "metadata": {
    "id": "8LmWZ2U9-Zv3"
   },
   "outputs": [],
   "source": [
    "# Notas do(a) estudante\n",
    "notas = [6.0, 7.0, 9.0, 5.0]"
   ]
  },
  {
   "cell_type": "code",
   "execution_count": null,
   "metadata": {
    "id": "bJ9KmlHv5o0i"
   },
   "outputs": [],
   "source": []
  },
  {
   "cell_type": "code",
   "execution_count": null,
   "metadata": {
    "id": "rIiA2cpB-squ"
   },
   "outputs": [],
   "source": []
  },
  {
   "cell_type": "code",
   "execution_count": null,
   "metadata": {
    "id": "_xf7bR6JBjD8"
   },
   "outputs": [],
   "source": []
  },
  {
   "cell_type": "code",
   "execution_count": null,
   "metadata": {
    "id": "5ixwo3o3CdQ0"
   },
   "outputs": [],
   "source": []
  },
  {
   "cell_type": "code",
   "execution_count": null,
   "metadata": {
    "id": "VFQacFSICeaO"
   },
   "outputs": [],
   "source": []
  },
  {
   "cell_type": "code",
   "execution_count": null,
   "metadata": {
    "id": "ecFviUvOCgXF"
   },
   "outputs": [],
   "source": [
    "print(f'O(a) estudante atingiu uma média de {} e foi {}.')"
   ]
  },
  {
   "cell_type": "markdown",
   "metadata": {
    "id": "hwYYRpkZMft5"
   },
   "source": [
    "## 2.4 Funções lambda\n",
    "\n",
    "Também chamadas de funções anônimas, são funções que não precisam ser definidas, ou seja não possuem um nome, e descrevem em uma única linha os comandos que desejamos aplicar. \n",
    "\n",
    "https://docs.python.org/pt-br/3/reference/expressions.html?#lambda\n",
    "\n",
    "#### Formato padrão:\n",
    "\n",
    "```python\n",
    "lambda <variavel>: <expressao>\n",
    "```"
   ]
  },
  {
   "cell_type": "markdown",
   "metadata": {
    "id": "AuRWyNXYgD_b"
   },
   "source": [
    "#### **Situação 4:**\n",
    "\n",
    "Nesta nova demanda, precisamos criar uma calculadora simples da média ponderada de notas de uma dada matéria. Vamos requisitar ao usuário a entrada das 3 notas (N1, N2, N3) do estudante e devolver a média ponderada deste estudante. Os pesos das notas são de, respectivamente 3, 2, 5.\n",
    "\n",
    "Precisamos exibir um pequeno texto em que indicamos a média do(a) estudante.\n",
    "\n",
    "**Vamos resolver esse desafio?**"
   ]
  },
  {
   "cell_type": "code",
   "execution_count": null,
   "metadata": {
    "id": "4EjJD3w3lbzJ"
   },
   "outputs": [],
   "source": [
    "# Comparando uma função de qualitativo no formato de função para função anônima\n"
   ]
  },
  {
   "cell_type": "code",
   "execution_count": null,
   "metadata": {
    "id": "vZjaUmaJFp3D"
   },
   "outputs": [],
   "source": [
    "# Testando a mesma função para uma função lambda\n"
   ]
  },
  {
   "cell_type": "markdown",
   "metadata": {
    "id": "vdKk3DRBmtUE"
   },
   "source": [
    "**Partindo para nosso problema:**"
   ]
  },
  {
   "cell_type": "code",
   "execution_count": null,
   "metadata": {
    "colab": {
     "base_uri": "https://localhost:8080/"
    },
    "executionInfo": {
     "elapsed": 14792,
     "status": "ok",
     "timestamp": 1678460277463,
     "user": {
      "displayName": "Afonso Augusto Rios",
      "userId": "05972796828124452071"
     },
     "user_tz": 180
    },
    "id": "azStYQgKnsZn",
    "outputId": "af1aaa46-353d-4b69-c470-1bd7f2488ae0"
   },
   "outputs": [
    {
     "name": "stdout",
     "output_type": "stream",
     "text": [
      "Digite a 1ª nota do(a) estudante: 3\n",
      "Digite a 2ª nota do(a) estudante: 4\n",
      "Digite a 3ª nota do(a) estudante: 5\n"
     ]
    },
    {
     "data": {
      "text/plain": [
       "Ellipsis"
      ]
     },
     "execution_count": 1,
     "metadata": {},
     "output_type": "execute_result"
    }
   ],
   "source": [
    "# Recebendo as notas e calculando a média ponderável\n",
    "N1 = float(input(\"Digite a 1ª nota do(a) estudante: \"))\n",
    "N2 = float(input(\"Digite a 2ª nota do(a) estudante: \"))\n",
    "N3 = float(input(\"Digite a 3ª nota do(a) estudante: \"))\n",
    "\n",
    "..."
   ]
  },
  {
   "cell_type": "code",
   "execution_count": null,
   "metadata": {
    "id": "Ek1s_FkjkQrW"
   },
   "outputs": [],
   "source": [
    "# Exibindo a média\n",
    "print(f'O(a) estudante atingiu uma média de {}')"
   ]
  },
  {
   "cell_type": "markdown",
   "metadata": {
    "id": "SOK4BC4mmKbG"
   },
   "source": [
    "### Mapeando valores\n",
    "\n",
    "#### Formato padrão:\n",
    "\n",
    "```python\n",
    "map(<lambda function>, <iterador>)\n",
    "```"
   ]
  },
  {
   "cell_type": "markdown",
   "metadata": {
    "id": "1qk0gLdfFcbf"
   },
   "source": [
    "#### **Situação 5:**\n",
    "\n",
    "Recebemos mais uma demanda, desta vez, para criar uma pequena função que pudesse adicionar qualitativo (pontuação extra) às notas do trimestre dos estudantes da turma que ganhou a gincana de programação promovida pela escola. Cada estudante receberá o qualitativo de 0.5 acrescido à média.\n",
    "\n",
    "Os dados recebidos correspondem a uma lista contendo as notas de alguns estudantes e uma variável com o qualitativo recebido.\n",
    "\n",
    "**Vamos resolver esse desafio?**\n",
    "\n",
    "Para facilitar o nosso entendimento do processo vamos aplicar o qualitativo às notas de 5 estudantes, mas você pode testar outros casos para treinar."
   ]
  },
  {
   "cell_type": "code",
   "execution_count": null,
   "metadata": {
    "id": "RdoaWhuVI_OB"
   },
   "outputs": [],
   "source": [
    "# Notas do(a) estudante\n",
    "notas = [6.0, 7.0, 9.0, 5.5, 8.0]\n",
    "qualitativo = 0.5"
   ]
  },
  {
   "cell_type": "code",
   "execution_count": null,
   "metadata": {
    "id": "nC6zW89lHI4K"
   },
   "outputs": [],
   "source": []
  },
  {
   "cell_type": "code",
   "execution_count": null,
   "metadata": {
    "id": "iM2jXtC8m1zc"
   },
   "outputs": [],
   "source": [
    "# Não conseguimos aplicar o lambda em listas direto, é necessário \n",
    "# utilizarmos junto a ela a função map\n"
   ]
  },
  {
   "cell_type": "code",
   "execution_count": null,
   "metadata": {
    "id": "dAq9-TNTm1wf"
   },
   "outputs": [],
   "source": []
  }
 ],
 "metadata": {
  "colab": {
   "provenance": []
  },
  "kernelspec": {
   "display_name": "Python 3",
   "name": "python3"
  },
  "language_info": {
   "name": "python"
  }
 },
 "nbformat": 4,
 "nbformat_minor": 0
}
