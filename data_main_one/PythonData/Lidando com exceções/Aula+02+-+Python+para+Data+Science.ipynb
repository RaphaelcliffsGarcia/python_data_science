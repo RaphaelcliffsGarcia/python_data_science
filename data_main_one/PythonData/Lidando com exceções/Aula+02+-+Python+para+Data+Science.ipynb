{
 "cells": [
  {
   "cell_type": "markdown",
   "metadata": {
    "id": "RxKC5WVoCYp3"
   },
   "source": [
    "## <font color=green> 4. LIDANDO COM EXCEÇÕES\n",
    "---"
   ]
  },
  {
   "cell_type": "markdown",
   "metadata": {
    "id": "MzOZ_0M3CU1x"
   },
   "source": [
    "Podemos notar em nosso caminho até aqui a existência de alguns erros e exceções na execução de algum comando. Como uma pessoa cientista de dados ou programador, você precisará estar atento a essas situações para evitar bugs ou problemas em seus códigos e análises que possam afetar a experiência tanto do usuário quanto a eficiência da sua análise.\n",
    "\n",
    "Existem basicamente duas formas distintas de erros: os **erros de sintaxe** e as **exceções**.\n",
    "\n",
    "Exceções são erros detectados durante a execução e que quebram o fluxo do programa encerrando-o caso não sejam tratadas.  \n",
    "\n",
    "Vamos aprender a identificar e tratar algumas das exceções aqui, mas é sempre importante mergulhar na documentação para pesquisar e verificar quais se enquadram nos seus projetos.\n",
    "\n",
    "**Documentação sobre erros e exceções:** https://docs.python.org/3/tutorial/errors.html"
   ]
  },
  {
   "cell_type": "markdown",
   "metadata": {
    "id": "x3E66krBST7K"
   },
   "source": [
    "## 4.1 Tratando Exceções\n",
    "\n",
    "O tratamento das exceções contribui estabelecendo um fluxo alternativo para a execução do código evitando a interrupção dos processos inesperadamente.\n",
    "\n",
    "Existe uma série de exceções e a partir do comportamento que queremos e dos erros que queremos tratar é possível construir um caminho para o usuário ou fornecer mais detalhes sobre aquela exceção.\n",
    "\n",
    "- Hierarquia das Exceções (https://docs.python.org/3/library/exceptions.html#exception-hierarchy)"
   ]
  },
  {
   "cell_type": "markdown",
   "metadata": {
    "id": "h9lj8Wfk__cl"
   },
   "source": [
    "### Try ... Except\n",
    "\n",
    "```python\n",
    "try:\n",
    "  # código a ser executado. Caso uma exceção seja lançada, pare imediatamente\n",
    "except <nome_da_excecao as e>:\n",
    "  # Se uma exceção for lançada no try, rode esse código, senão pule esta etapa\n",
    "```"
   ]
  },
  {
   "cell_type": "markdown",
   "metadata": {
    "id": "miwzhPNdD8Ty"
   },
   "source": [
    "#### **Situação 12:**\n",
    "\n",
    "Você criou um código que lê um dicionário com as notas dos estudantes e quis retornar a lista de notas de um estudante.\n",
    "\n",
    "Caso o(a) estudante não esteja matriculado(a) na turma devemos tratar a exceção para aparecer a mensagem \"Estudante não matriculado(a) na turma\". \n",
    "\n",
    "Vamos trabalhar nesse exemplo com a exceção **Key Error** que interromperá o processo desse pedaço do código. \n",
    "\n",
    "**Vamos testar esse primeiro tratamento?**"
   ]
  },
  {
   "cell_type": "code",
   "execution_count": 5,
   "metadata": {
    "id": "PkMmeYxaDcIF"
   },
   "outputs": [],
   "source": [
    "notas = {'João': [8.0, 9.0, 10.0], 'Maria': [9.0, 7.0, 6.0], 'José': [3.4, 7.0, 8.0], 'Cláudia': [5.5, 6.6, 8.0], \n",
    " 'Ana': [6.0, 10.0, 9.5], 'Joaquim': [5.5, 7.5, 9.0], 'Júlia': [6.0, 8.0, 7.0], 'Pedro': [3.0, 4.0, 6.0]}"
   ]
  },
  {
   "cell_type": "code",
   "execution_count": 12,
   "metadata": {
    "id": "AudrLS-BGGEy"
   },
   "outputs": [
    {
     "data": {
      "text/plain": [
       "[9.0, 7.0, 6.0]"
      ]
     },
     "execution_count": 12,
     "metadata": {},
     "output_type": "execute_result"
    }
   ],
   "source": [
    "nome = input (\"Digite o nome do(a) estudante: \")\n",
    "resultado = notas[nome]\n",
    "resultado"
   ]
  },
  {
   "cell_type": "code",
   "execution_count": 13,
   "metadata": {
    "id": "NEX6RRX7Wb0Y"
   },
   "outputs": [
    {
     "name": "stdout",
     "output_type": "stream",
     "text": [
      "<class 'KeyError'> Erro: 'Afonso'\n"
     ]
    }
   ],
   "source": [
    "try:\n",
    "  nome = input (\"Digite o nome do(a) estudante: \")\n",
    "  resultado = notas[nome]\n",
    "except Exception as e:\n",
    "  print(type(e),f'Erro: {e}')"
   ]
  },
  {
   "cell_type": "code",
   "execution_count": 14,
   "metadata": {
    "id": "3oV8Bw-NGGiu"
   },
   "outputs": [
    {
     "name": "stdout",
     "output_type": "stream",
     "text": [
      "Estudante não matriculado(a) na turma\n"
     ]
    }
   ],
   "source": [
    "try:\n",
    "  nome = input (\"Digite o nome do(a) estudante: \")\n",
    "  resultado = notas[nome]\n",
    "except KeyError:\n",
    "  print('Estudante não matriculado(a) na turma')\n",
    "  "
   ]
  },
  {
   "cell_type": "markdown",
   "metadata": {
    "id": "hKhKzgQoBHLb"
   },
   "source": [
    "### Adicionando o Else\n",
    "\n",
    "```python\n",
    "try:\n",
    "  # código a ser executado. Caso uma exceção seja lançada, pare imediatamente\n",
    "except:\n",
    "  # Se uma exceção for lançada no try, rode esse código, senão pule esta etapa\n",
    "else:\n",
    "  # Se não houver uma exeção lançada pelo try, rode essa parte\n",
    "```"
   ]
  },
  {
   "cell_type": "markdown",
   "metadata": {
    "id": "USN3SA2tMjL0"
   },
   "source": [
    "#### **Situação 13:**\n",
    "\n",
    "Você criou um código que lê um dicionário com as notas dos estudantes e quis retornar a lista de notas de um estudante. \n",
    "\n",
    "Caso o(a) estudante não esteja matriculado(a) na classe devemos tratar a exceção para aparecer a mensagem \"Estudante não matriculado(a) na turma\" e se a exceção não for lançada devemos exibir a lista com as notas do(a) estudante. \n",
    "\n",
    "Vamos trabalhar nesse exemplo com a exceção **Key Error** que interromperá o processo desse pedaço do código. \n",
    "\n",
    "**Vamos testar esse tratamento?**"
   ]
  },
  {
   "cell_type": "code",
   "execution_count": null,
   "metadata": {
    "id": "zCdjBCDFLE_6"
   },
   "outputs": [],
   "source": [
    "notas = {'João': [8.0, 9.0, 10.0], 'Maria': [9.0, 7.0, 6.0], 'José': [3.4, 7.0, 8.0], 'Cláudia': [5.5, 6.6, 8.0], \n",
    " 'Ana': [6.0, 10.0, 9.5], 'Joaquim': [5.5, 7.5, 9.0], 'Júlia': [6.0, 8.0, 7.0], 'Pedro': [3.0, 4.0, 6.0]}"
   ]
  },
  {
   "cell_type": "code",
   "execution_count": 16,
   "metadata": {
    "id": "NS4vABJPDcFN"
   },
   "outputs": [
    {
     "name": "stdout",
     "output_type": "stream",
     "text": [
      "[9.0, 7.0, 6.0]\n"
     ]
    }
   ],
   "source": [
    "try:\n",
    "  nome = input (\"Digite o nome do(a) estudante: \")\n",
    "  resultado = notas[nome]\n",
    "except KeyError:\n",
    "  print('Estudante não matriculado(a) na turma')\n",
    "else:\n",
    "  print(resultado)"
   ]
  },
  {
   "cell_type": "markdown",
   "metadata": {
    "id": "Dw_efTlbBhll"
   },
   "source": [
    "### Adicionando o finally\n",
    "\n",
    "```python\n",
    "try:\n",
    "  # código a ser executado. Caso uma exceção seja lançada, pare imediatamente\n",
    "except:\n",
    "  # Se uma exceção for lançada no try, rode esse código, senão pule esta etapa\n",
    "else:\n",
    "  # Se não houver uma exeção lançada pelo try, rode essa parte\n",
    "finally:\n",
    "  # Rode essa parte (com ou sem exceção)\n",
    "```"
   ]
  },
  {
   "cell_type": "markdown",
   "metadata": {
    "id": "jGtFVx5GdnsS"
   },
   "source": [
    "#### **Situação 14:**\n",
    "\n",
    "Você criou um código que lê um dicionário com as notas dos estudantes e quis retornar a lista de notas de um estudante. \n",
    "\n",
    "Caso o(a) estudante não esteja matriculado(a) na classe devemos tratar a exceção para aparecer a mensagem \"Estudante não matriculado(a) na turma\" e se a exceção não for lançada devemos exibir a lista com as notas do(a) estudante. Um texto avisando que \"A consulta foi encerrada!\" deve ser exibido com ou sem a exceção ser lançada.\n",
    "\n",
    "Vamos trabalhar nesse exemplo com a exceção **Key Error** que interromperá o processo desse pedaço do código. \n",
    "\n",
    "**Vamos testar esse tratamento?**"
   ]
  },
  {
   "cell_type": "code",
   "execution_count": null,
   "metadata": {
    "id": "uOLFoYweLN9W"
   },
   "outputs": [],
   "source": [
    "notas = {'João': [8.0, 9.0, 10.0], 'Maria': [9.0, 7.0, 6.0], 'José': [3.4, 7.0, 8.0], 'Cláudia': [5.5, 6.6, 8.0], \n",
    " 'Ana': [6.0, 10.0, 9.5], 'Joaquim': [5.5, 7.5, 9.0], 'Júlia': [6.0, 8.0, 7.0], 'Pedro': [3.0, 4.0, 6.0]}"
   ]
  },
  {
   "cell_type": "code",
   "execution_count": 18,
   "metadata": {
    "id": "U8QCogXhBi8C"
   },
   "outputs": [
    {
     "name": "stdout",
     "output_type": "stream",
     "text": [
      "Estudante não matriculado(a) na turma\n",
      "A consulta foi encerrada!\n"
     ]
    }
   ],
   "source": [
    "try:\n",
    "  nome = input (\"Digite o nome do(a) estudante: \")\n",
    "  resultado = notas[nome]\n",
    "except KeyError:\n",
    "  print('Estudante não matriculado(a) na turma')\n",
    "else:\n",
    "  print(resultado)\n",
    "finally:\n",
    "  print('A consulta foi encerrada!')  "
   ]
  },
  {
   "cell_type": "markdown",
   "metadata": {
    "id": "HdjllLBpST_2"
   },
   "source": [
    "## 4.2 Raise\n",
    "\n",
    "Uma outra forma de trabalhar com as exceções em seu código, é criar as suas próprias exceções para determinados comportamentos que deseja em seu código. \n",
    "\n",
    "Para isso, utilizamos a palavra-chave `raise` junto ao tipo de exceção que deseja lançar e uma mensagem a ser exibida.   "
   ]
  },
  {
   "cell_type": "markdown",
   "metadata": {
    "id": "_nIOnDQufv6Z"
   },
   "source": [
    "```python\n",
    "raise NomeDoErro(\"mensagem_desejada\")\n",
    "```"
   ]
  },
  {
   "cell_type": "markdown",
   "metadata": {
    "id": "xapeB2ivgB7R"
   },
   "source": [
    "#### **Situação 15:**\n",
    "\n",
    "Você criou uma função para calcular a média de um estudante em uma dada matéria passando em uma lista as notas deste estudante. \n",
    "\n",
    "Você pretende tratar 2 situações:\n",
    "- Se a lista possuir um valor não numérico o cálculo de média não será executado e uma mensagem de \"Não foi possível calcular a média do(a) estudante. Só são aceitos valores numéricos!\" será exibida.\n",
    "- Caso a lista tenha mais de 4 notas, será lançada uma exceção do tipo **ValueError** informando que \"A lista não pode possuir mais de 4 notas.\" \n",
    "\n",
    "Um texto avisando que \"A consulta foi encerrada!\" deve ser exibido com ou sem a exceção ser lançada.\n",
    "\n",
    "**Vamos resolver esse desafio?**"
   ]
  },
  {
   "cell_type": "code",
   "execution_count": 19,
   "metadata": {
    "id": "Hf7MQtMjSXS-"
   },
   "outputs": [],
   "source": [
    "def media(lista: list=[0]) -> float:\n",
    "  ''' Função para calcular a média de notas passadas por uma lista\n",
    "\n",
    "  lista: list, default [0]\n",
    "    Lista com as notas para calcular a média\n",
    "  return = calculo: float\n",
    "    Média calculada\n",
    "  '''\n",
    "  \n",
    "  calculo = sum(lista) / len(lista)\n",
    "\n",
    "  if len(lista) > 4:\n",
    "    raise ValueError(\"A Lista Não pode possuir mais de 4 notas.\")\n",
    "\n",
    "  return calculo"
   ]
  },
  {
   "cell_type": "code",
   "execution_count": 21,
   "metadata": {
    "id": "gnlcrP93k8f2"
   },
   "outputs": [
    {
     "ename": "ValueError",
     "evalue": "A Lista Não pode possuir mais de 4 notas.",
     "output_type": "error",
     "traceback": [
      "\u001b[1;31m---------------------------------------------------------------------------\u001b[0m",
      "\u001b[1;31mValueError\u001b[0m                                Traceback (most recent call last)",
      "Cell \u001b[1;32mIn[21], line 2\u001b[0m\n\u001b[0;32m      1\u001b[0m notas \u001b[38;5;241m=\u001b[39m [\u001b[38;5;241m6\u001b[39m,\u001b[38;5;241m5\u001b[39m,\u001b[38;5;241m4\u001b[39m,\u001b[38;5;241m3\u001b[39m,\u001b[38;5;241m9\u001b[39m]\n\u001b[1;32m----> 2\u001b[0m resultado \u001b[38;5;241m=\u001b[39m \u001b[43mmedia\u001b[49m\u001b[43m \u001b[49m\u001b[43m(\u001b[49m\u001b[43mnotas\u001b[49m\u001b[43m)\u001b[49m\n\u001b[0;32m      3\u001b[0m resultado\n",
      "Cell \u001b[1;32mIn[19], line 13\u001b[0m, in \u001b[0;36mmedia\u001b[1;34m(lista)\u001b[0m\n\u001b[0;32m     10\u001b[0m calculo \u001b[38;5;241m=\u001b[39m \u001b[38;5;28msum\u001b[39m(lista) \u001b[38;5;241m/\u001b[39m \u001b[38;5;28mlen\u001b[39m(lista)\n\u001b[0;32m     12\u001b[0m \u001b[38;5;28;01mif\u001b[39;00m \u001b[38;5;28mlen\u001b[39m(lista) \u001b[38;5;241m>\u001b[39m \u001b[38;5;241m4\u001b[39m:\n\u001b[1;32m---> 13\u001b[0m   \u001b[38;5;28;01mraise\u001b[39;00m \u001b[38;5;167;01mValueError\u001b[39;00m(\u001b[38;5;124m\"\u001b[39m\u001b[38;5;124mA Lista Não pode possuir mais de 4 notas.\u001b[39m\u001b[38;5;124m\"\u001b[39m)\n\u001b[0;32m     15\u001b[0m \u001b[38;5;28;01mreturn\u001b[39;00m calculo\n",
      "\u001b[1;31mValueError\u001b[0m: A Lista Não pode possuir mais de 4 notas."
     ]
    }
   ],
   "source": [
    "notas = [6,5,4,3,9]\n",
    "resultado = media (notas)\n",
    "resultado"
   ]
  },
  {
   "cell_type": "code",
   "execution_count": 22,
   "metadata": {
    "id": "IprXe3qalX5J"
   },
   "outputs": [
    {
     "ename": "TypeError",
     "evalue": "unsupported operand type(s) for +: 'int' and 'str'",
     "output_type": "error",
     "traceback": [
      "\u001b[1;31m---------------------------------------------------------------------------\u001b[0m",
      "\u001b[1;31mTypeError\u001b[0m                                 Traceback (most recent call last)",
      "Cell \u001b[1;32mIn[22], line 2\u001b[0m\n\u001b[0;32m      1\u001b[0m notas \u001b[38;5;241m=\u001b[39m [\u001b[38;5;241m6\u001b[39m,\u001b[38;5;241m5\u001b[39m,\u001b[38;5;241m4\u001b[39m,\u001b[38;5;241m3\u001b[39m,\u001b[38;5;241m9\u001b[39m,\u001b[38;5;124m\"\u001b[39m\u001b[38;5;124m8\u001b[39m\u001b[38;5;124m\"\u001b[39m]\n\u001b[1;32m----> 2\u001b[0m resultado \u001b[38;5;241m=\u001b[39m \u001b[43mmedia\u001b[49m\u001b[43m \u001b[49m\u001b[43m(\u001b[49m\u001b[43mnotas\u001b[49m\u001b[43m)\u001b[49m\n\u001b[0;32m      3\u001b[0m resultado\n",
      "Cell \u001b[1;32mIn[19], line 10\u001b[0m, in \u001b[0;36mmedia\u001b[1;34m(lista)\u001b[0m\n\u001b[0;32m      1\u001b[0m \u001b[38;5;28;01mdef\u001b[39;00m \u001b[38;5;21mmedia\u001b[39m(lista: \u001b[38;5;28mlist\u001b[39m\u001b[38;5;241m=\u001b[39m[\u001b[38;5;241m0\u001b[39m]) \u001b[38;5;241m-\u001b[39m\u001b[38;5;241m>\u001b[39m \u001b[38;5;28mfloat\u001b[39m:\n\u001b[0;32m      2\u001b[0m \u001b[38;5;250m  \u001b[39m\u001b[38;5;124;03m''' Função para calcular a média de notas passadas por uma lista\u001b[39;00m\n\u001b[0;32m      3\u001b[0m \n\u001b[0;32m      4\u001b[0m \u001b[38;5;124;03m  lista: list, default [0]\u001b[39;00m\n\u001b[1;32m   (...)\u001b[0m\n\u001b[0;32m      7\u001b[0m \u001b[38;5;124;03m    Média calculada\u001b[39;00m\n\u001b[0;32m      8\u001b[0m \u001b[38;5;124;03m  '''\u001b[39;00m\n\u001b[1;32m---> 10\u001b[0m   calculo \u001b[38;5;241m=\u001b[39m \u001b[38;5;28;43msum\u001b[39;49m\u001b[43m(\u001b[49m\u001b[43mlista\u001b[49m\u001b[43m)\u001b[49m \u001b[38;5;241m/\u001b[39m \u001b[38;5;28mlen\u001b[39m(lista)\n\u001b[0;32m     12\u001b[0m   \u001b[38;5;28;01mif\u001b[39;00m \u001b[38;5;28mlen\u001b[39m(lista) \u001b[38;5;241m>\u001b[39m \u001b[38;5;241m4\u001b[39m:\n\u001b[0;32m     13\u001b[0m     \u001b[38;5;28;01mraise\u001b[39;00m \u001b[38;5;167;01mValueError\u001b[39;00m(\u001b[38;5;124m\"\u001b[39m\u001b[38;5;124mA Lista Não pode possuir mais de 4 notas.\u001b[39m\u001b[38;5;124m\"\u001b[39m)\n",
      "\u001b[1;31mTypeError\u001b[0m: unsupported operand type(s) for +: 'int' and 'str'"
     ]
    }
   ],
   "source": [
    "notas = [6,5,4,3,9,\"8\"]\n",
    "resultado = media (notas)\n",
    "resultado"
   ]
  },
  {
   "cell_type": "code",
   "execution_count": 24,
   "metadata": {
    "id": "lO8OCMRzSXQv"
   },
   "outputs": [
    {
     "name": "stdout",
     "output_type": "stream",
     "text": [
      "4.5\n",
      "A consulta foi encerrada\n"
     ]
    }
   ],
   "source": [
    "try:\n",
    "  notas = [6,5,4,3]\n",
    "  resultado = media (notas)\n",
    "except TypeError:\n",
    "  print('Não foi possivel calcular a media do estudando. Só são aceitos valores numéricos')\n",
    "except ValueError:\n",
    "  print(e)\n",
    "else:\n",
    "  print(resultado)\n",
    "finally:\n",
    "  print('A consulta foi encerrada')"
   ]
  },
  {
   "cell_type": "code",
   "execution_count": 26,
   "metadata": {
    "id": "A-rA3l4hm4RA"
   },
   "outputs": [
    {
     "name": "stdout",
     "output_type": "stream",
     "text": [
      "A Lista Não pode possuir mais de 4 notas.\n",
      "A consulta foi encerrada\n"
     ]
    }
   ],
   "source": [
    "try:\n",
    "  notas = [6,5,4,3,9]\n",
    "  resultado = media (notas)\n",
    "except TypeError:\n",
    "  print('Não foi possivel calcular a media do estudando. Só são aceitos valores numéricos')\n",
    "except ValueError as e:\n",
    "  print(e)\n",
    "else:\n",
    "  print(resultado)\n",
    "finally:\n",
    "  print('A consulta foi encerrada')"
   ]
  },
  {
   "cell_type": "code",
   "execution_count": 27,
   "metadata": {
    "id": "Jf3Sg5H-m4Za"
   },
   "outputs": [
    {
     "name": "stdout",
     "output_type": "stream",
     "text": [
      "Não foi possivel calcular a media do estudando. Só são aceitos valores numéricos\n",
      "A consulta foi encerrada\n"
     ]
    }
   ],
   "source": [
    "try:\n",
    "  notas = [6,5,4,3,\"9\"]\n",
    "  resultado = media (notas)\n",
    "except TypeError:\n",
    "  print('Não foi possivel calcular a media do estudando. Só são aceitos valores numéricos')\n",
    "except ValueError as e:\n",
    "  print(e)\n",
    "else:\n",
    "  print(resultado)\n",
    "finally:\n",
    "  print('A consulta foi encerrada')"
   ]
  }
 ],
 "metadata": {
  "colab": {
   "provenance": []
  },
  "kernelspec": {
   "display_name": "Python 3",
   "name": "python3"
  },
  "language_info": {
   "codemirror_mode": {
    "name": "ipython",
    "version": 3
   },
   "file_extension": ".py",
   "mimetype": "text/x-python",
   "name": "python",
   "nbconvert_exporter": "python",
   "pygments_lexer": "ipython3",
   "version": "3.12.1"
  }
 },
 "nbformat": 4,
 "nbformat_minor": 0
}
