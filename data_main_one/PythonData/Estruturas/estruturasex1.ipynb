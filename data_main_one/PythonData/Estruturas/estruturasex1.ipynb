{
 "cells": [
  {
   "cell_type": "markdown",
   "metadata": {},
   "source": [
    "1. Escreva um código para instalar a versão 3.7.1 da biblioteca matplotlib."
   ]
  },
  {
   "cell_type": "code",
   "execution_count": null,
   "metadata": {},
   "outputs": [],
   "source": [
    "# !pip intall matplotlib==3.7.1 Acho melhor rodar direto no terminal porem o ! serie uma opção para rodar no jupter por exemplo \n",
    "# O ponto de exclamação (!) permite executar comandos de terminal diretamente em uma célula do Jupyter notebbok."
   ]
  },
  {
   "cell_type": "markdown",
   "metadata": {},
   "source": [
    "2. Escreva um código para importar a biblioteca numpy com o alias np."
   ]
  },
  {
   "cell_type": "code",
   "execution_count": null,
   "metadata": {},
   "outputs": [],
   "source": [
    "# import numpy as np"
   ]
  },
  {
   "cell_type": "markdown",
   "metadata": {},
   "source": [
    "3. Crie um programa que leia a seguinte lista de números e escolha um número desta aleatoriamente.\n",
    "\n",
    "lista = [8, 12, 54, 23, 43, 1, 90, 87, 105, 77]"
   ]
  },
  {
   "cell_type": "code",
   "execution_count": null,
   "metadata": {},
   "outputs": [
    {
     "data": {
      "text/plain": [
       "[54]"
      ]
     },
     "execution_count": 5,
     "metadata": {},
     "output_type": "execute_result"
    }
   ],
   "source": [
    "from random import sample \n",
    "lista = [8, 12, 54, 23, 43, 1, 90, 87, 105, 77]\n",
    "sample(lista,1)"
   ]
  },
  {
   "cell_type": "markdown",
   "metadata": {},
   "source": [
    "4. Crie um programa que sorteia, aleatoriamente, um número inteiro positivo menor que 100.\n",
    "\n",
    "Dica: use a função randrange() da biblioteca random. Essa função recebe como parâmetro o valor limite para a escolha aleatória ou um intervalo se passado o limite mínimo e máximo. Por exemplo, randrange(5) gera valores inteiros menores que 5."
   ]
  },
  {
   "cell_type": "code",
   "execution_count": 12,
   "metadata": {},
   "outputs": [
    {
     "data": {
      "text/plain": [
       "[51]"
      ]
     },
     "execution_count": 12,
     "metadata": {},
     "output_type": "execute_result"
    }
   ],
   "source": [
    "from random import randrange,sample\n",
    "\n",
    "lista = []\n",
    "\n",
    "for i in range (0,20):\n",
    "  lista.append(randrange(100))\n",
    "  \n",
    "sample(lista,1)\n"
   ]
  },
  {
   "cell_type": "markdown",
   "metadata": {},
   "source": [
    "5. Crie um programa que solicite à pessoa usuária digitar dois números inteiros e calcular a potência do 1º número elevado ao 2º.\n",
    "\n",
    "Dica: use a função pow() da biblioteca math"
   ]
  },
  {
   "cell_type": "code",
   "execution_count": 14,
   "metadata": {},
   "outputs": [
    {
     "name": "stdout",
     "output_type": "stream",
     "text": [
      "O resultado de 2 elevado a 3 é 8.0\n"
     ]
    }
   ],
   "source": [
    "import math\n",
    "\n",
    "numone = int(input('Digite o primeiro numero'))\n",
    "numtwo = int(input('Digite o segundo numero'))\n",
    "\n",
    "pot =  math.pow(numone,numtwo) \n",
    "\n",
    "print(f'O resultado de {numone} elevado a {numtwo} é {pot}')"
   ]
  },
  {
   "cell_type": "markdown",
   "metadata": {},
   "source": [
    "6. Um programa deve ser escrito para sortear uma pessoa seguidora de uma rede social para ganhar um prêmio. A lista de participantes é numerada e devemos escolher aleatoriamente um número de acordo com a quantidade de participantes. Peça à pessoa usuária para fornecer o número de participantes do sorteio e devolva para ela o número sorteado."
   ]
  },
  {
   "cell_type": "code",
   "execution_count": 30,
   "metadata": {},
   "outputs": [
    {
     "name": "stdout",
     "output_type": "stream",
     "text": [
      "Participante sorteado: 90\n"
     ]
    }
   ],
   "source": [
    "from random import sample\n",
    "\n",
    "# Número total de participantes\n",
    "parcipantes = int(input('Digite o número total de participantes: '))\n",
    "\n",
    "# Gera uma lista com todos os números de 1 até parcipantes\n",
    "lista = list(range(1, parcipantes + 1))\n",
    "\n",
    "# Sorteia um ou mais números únicos da lista\n",
    "sorteados = sample(lista,1)\n",
    "\n",
    "print(f'Participante sorteado: {sorteados[0]}')"
   ]
  },
  {
   "cell_type": "markdown",
   "metadata": {},
   "source": [
    "7. Você recebeu uma demanda para gerar números de token para acessar o aplicativo de uma empresa. O token precisa ser par e variar de 1000 até 9998. Escreva um código que solicita à pessoa usuária o seu nome e exibe uma mensagem junto a esse token gerado aleatoriamente."
   ]
  },
  {
   "cell_type": "code",
   "execution_count": 35,
   "metadata": {},
   "outputs": [
    {
     "name": "stdout",
     "output_type": "stream",
     "text": [
      "nANCI O seu Token é : 7250\n"
     ]
    }
   ],
   "source": [
    "from random import sample\n",
    "\n",
    "# Número total de participantes\n",
    "usuario = input('Digite o seu nome completo: ')\n",
    "# Inicializa a lista\n",
    "listatoken = []\n",
    "# Gera uma lista com todos os números de 1 até parcipantes\n",
    "for i in range(1000, 9998 + 1):\n",
    "    # Verifica se 'i' é divisível por 2 (número par)\n",
    "    if i % 2 == 0:\n",
    "        listatoken.append(i)\n",
    "        \n",
    "sorteando_tok = sample(listatoken,1)\n",
    "\n",
    "print(f'{usuario} O seu Token é : {sorteando_tok[0]}')"
   ]
  },
  {
   "cell_type": "markdown",
   "metadata": {},
   "source": [
    "8. Para diversificar e atrair novos(as) clientes, uma lanchonete criou um item misterioso em seu cardápio chamado \"salada de frutas surpresa\". Neste item, são escolhidas aleatoriamente 3 frutas de uma lista de 12 para compor a salada de frutas da pessoa cliente. Crie o código que faça essa seleção aleatória de acordo com a lista abaixo:\n",
    "frutas = [\"maçã\", \"banana\", \"uva\", \"pêra\", \n",
    "          \"manga\", \"coco\", \"melancia\", \"mamão\",\n",
    "          \"laranja\", \"abacaxi\", \"kiwi\", \"ameixa\"]"
   ]
  },
  {
   "cell_type": "code",
   "execution_count": 103,
   "metadata": {},
   "outputs": [
    {
     "name": "stdout",
     "output_type": "stream",
     "text": [
      "['kiwi', 'abacaxi', 'laranja']\n"
     ]
    }
   ],
   "source": [
    "from random import sample\n",
    "frutas = [\"maçã\", \"banana\", \"uva\", \"pêra\", \n",
    "          \"manga\", \"coco\", \"melancia\", \"mamão\",\n",
    "          \"laranja\", \"abacaxi\", \"kiwi\", \"ameixa\"]\n",
    "sorteando_fruta = sample(frutas, 3)  \n",
    "print(sorteando_fruta)\n",
    "    "
   ]
  },
  {
   "cell_type": "markdown",
   "metadata": {},
   "source": [
    "9. Você recebeu um desafio de calcular a raiz quadrada de uma lista de números, identificando quais resultaram em um número inteiro. A lista é a seguinte:\n",
    "numeros = [2, 8, 15, 23, 91, 112, 256]"
   ]
  },
  {
   "cell_type": "code",
   "execution_count": 106,
   "metadata": {},
   "outputs": [
    {
     "name": "stdout",
     "output_type": "stream",
     "text": [
      "A raiz quadrada de 2 não é um inteiro.\n",
      "A raiz quadrada de 8 não é um inteiro.\n",
      "A raiz quadrada de 15 não é um inteiro.\n",
      "A raiz quadrada de 23 não é um inteiro.\n",
      "A raiz quadrada de 91 não é um inteiro.\n",
      "A raiz quadrada de 112 não é um inteiro.\n",
      "A raiz quadrada de 256 é um inteiro: 16\n"
     ]
    }
   ],
   "source": [
    "import math\n",
    "\n",
    "numeros = [2, 8, 15, 23, 91, 112, 256]\n",
    "\n",
    "for i in numeros:\n",
    "    raiz_quadrada = math.sqrt(i)  # Calcula a raiz quadrada de i\n",
    "    if raiz_quadrada == int(raiz_quadrada):  # Verifica se é um inteiro\n",
    "        print(f'A raiz quadrada de {i} é um inteiro: {int(raiz_quadrada)}')\n",
    "    else:\n",
    "        print(f'A raiz quadrada de {i} não é um inteiro.')"
   ]
  },
  {
   "cell_type": "markdown",
   "metadata": {},
   "source": [
    "10. Faça um programa para uma loja que vende grama para jardins. Essa loja trabalha com jardins circulares e o preço do metro quadrado da grama é de R$ 25,00. Peça à pessoa usuária o raio da área circular e devolva o valor em reais do quanto precisará pagar.\n",
    "\n",
    "Dica: use a variável pi e o método pow() da biblioteca math. O cálculo da área de um círculo é de: A = π*r^2 (lê-se pi vezes raio ao quadrado)."
   ]
  },
  {
   "cell_type": "code",
   "execution_count": null,
   "metadata": {},
   "outputs": [],
   "source": [
    "# importando 2 métodos da mesma biblioteca\n",
    "from math import pi, pow\n",
    "\n",
    "raio = float(input(\"Digite o raio da área circular em metros: \"))\n",
    "# Cálculo da área com os métodos da math e obtenção do custo em reais\n",
    "area = pi*pow(raio,2)\n",
    "valor = area * 25.00\n",
    "\n",
    "# Exibição do cálculo e custo na tela. O round(n,2) arredonda qualquer número em 2 casas decimais\n",
    "print(f\"Você precisará pagar R$ {round(valor,2)} por uma área de {round(area,2)} metros de grama\")"
   ]
  }
 ],
 "metadata": {
  "kernelspec": {
   "display_name": "Python 3",
   "language": "python",
   "name": "python3"
  },
  "language_info": {
   "codemirror_mode": {
    "name": "ipython",
    "version": 3
   },
   "file_extension": ".py",
   "mimetype": "text/x-python",
   "name": "python",
   "nbconvert_exporter": "python",
   "pygments_lexer": "ipython3",
   "version": "3.12.1"
  }
 },
 "nbformat": 4,
 "nbformat_minor": 2
}
