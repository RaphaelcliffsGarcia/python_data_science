{
 "cells": [
  {
   "cell_type": "code",
   "execution_count": 4,
   "metadata": {},
   "outputs": [],
   "source": [
    "import numpy as np"
   ]
  },
  {
   "cell_type": "code",
   "execution_count": 5,
   "metadata": {},
   "outputs": [],
   "source": [
    "dado = np.loadtxt('apples_ts.csv', delimiter=',', usecols=np.arange(1, 88, 1))"
   ]
  },
  {
   "cell_type": "code",
   "execution_count": 6,
   "metadata": {},
   "outputs": [],
   "source": [
    "dado"
   ]
  },
  {
   "cell_type": "markdown",
   "metadata": {},
   "source": [
    "---"
   ]
  },
  {
   "cell_type": "markdown",
   "metadata": {},
   "source": [
    "Note que temos as datas na linha identificando cada coluna, mas outra forma de visualizar os dados seria utilizando o nome das cidades como identificador de cada coluna. Para isso, teríamos que mudar a estrutura do dataset trocando as linhas pelas colunas.\n",
    "\n",
    "Mas, antes de alterá-la, vamos nos aprofundar um pouco mais nas dimensões dos dados.\n",
    "\n",
    "Usaremos, inicialmente, a função ndim, que verifica a quantidade de dimensões do array. Ao executarmos o comando a seguir:"
   ]
  },
  {
   "cell_type": "code",
   "execution_count": null,
   "metadata": {},
   "outputs": [],
   "source": [
    "dado.ndim"
   ]
  },
  {
   "cell_type": "markdown",
   "metadata": {},
   "source": [
    "\n",
    "\n",
    "Outra informação que podemos obter é a quantidade de elementos de um array. Para isso, utilizamos o comando:"
   ]
  },
  {
   "cell_type": "code",
   "execution_count": 17,
   "metadata": {},
   "outputs": [
    {
     "data": {
      "text/plain": [
       "522"
      ]
     },
     "execution_count": 17,
     "metadata": {},
     "output_type": "execute_result"
    }
   ],
   "source": [
    "dado.size"
   ]
  },
  {
   "cell_type": "markdown",
   "metadata": {},
   "source": [
    "Além disso, usaremos shape para verificar o número de elementos em cada dimensão:\n",
    "\n",
    "6: O número de linhas.\n",
    "87: O número de colunas."
   ]
  },
  {
   "cell_type": "code",
   "execution_count": 18,
   "metadata": {},
   "outputs": [
    {
     "data": {
      "text/plain": [
       "(6, 87)"
      ]
     },
     "execution_count": 18,
     "metadata": {},
     "output_type": "execute_result"
    }
   ],
   "source": [
    "dado.shape"
   ]
  },
  {
   "cell_type": "markdown",
   "metadata": {},
   "source": [
    "Mas, como já dito, podemos inverter a estrutura dos nossos dados trocando as linhas por colunas. Para isso, utilizamos o método da transposição, T:"
   ]
  },
  {
   "cell_type": "code",
   "execution_count": null,
   "metadata": {},
   "outputs": [],
   "source": [
    "dado.T"
   ]
  },
  {
   "cell_type": "markdown",
   "metadata": {},
   "source": [
    "Guardando a informação\n",
    "Fizemos a transposição e queremos salvá-la. Para isso, basta pegar o comando que utilizamos e passá-lo para uma variável, que chamaremos de dado_transposto:\n",
    "\n",
    "dados_transposto = dado.T \n",
    "Agora que reorganizamos nossos dados, temos uma estrutura mais adequada para trabalhar.\n",
    "\n",
    "Na sequência, tentaremos entender os dados e identificar alguns comportamentos como, por exemplo, se os preços aumentam ou diminuem no decorrer do tempo.\n",
    "\n"
   ]
  },
  {
   "cell_type": "code",
   "execution_count": null,
   "metadata": {},
   "outputs": [],
   "source": [
    "dados_transposto = dado.T "
   ]
  },
  {
   "cell_type": "markdown",
   "metadata": {},
   "source": [
    "1 -Um colega pediu para você carregar uma base de dados e verificar o número de linhas e colunas do arquivo carregado. Ele estava com dúvidas se o número total de linhas havia sido carregado.\n",
    "\n",
    "Como determinar as dimensões corretas de um array?\n",
    "\n",
    "Para responder essa pergunta você precisará do dataset. Você pode usar a opção skiprows=1 para pular a primeira linha do arquivo."
   ]
  },
  {
   "cell_type": "code",
   "execution_count": null,
   "metadata": {},
   "outputs": [],
   "source": [
    "url = 'https://raw.githubusercontent.com/allanspadini/numpy/dados/bytebank.csv'\n",
    "import numpy as np\n",
    "dado= np.loadtxt(url, delimiter=',',skiprows=1,dtype=float)\n",
    "dado.shape\n",
    "\n",
    "# O método .shape pode ser aplicado em um array para obter as suas dimensões.\n",
    "\n",
    "\n",
    "url = 'https://raw.githubusercontent.com/allanspadini/numpy/dados/bytebank.csv'\n",
    "import numpy as np\n",
    "dado= np.loadtxt(url, delimiter=',',skiprows=1,dtype=float)\n",
    "np.shape(dado)\n",
    "\n",
    "# A numpy também possui a função .shape e podemos aplicá-la sobre array para obter suas dimensões."
   ]
  }
 ],
 "metadata": {
  "kernelspec": {
   "display_name": "Python 3",
   "language": "python",
   "name": "python3"
  },
  "language_info": {
   "codemirror_mode": {
    "name": "ipython",
    "version": 3
   },
   "file_extension": ".py",
   "mimetype": "text/x-python",
   "name": "python",
   "nbconvert_exporter": "python",
   "pygments_lexer": "ipython3",
   "version": "3.12.1"
  }
 },
 "nbformat": 4,
 "nbformat_minor": 2
}
